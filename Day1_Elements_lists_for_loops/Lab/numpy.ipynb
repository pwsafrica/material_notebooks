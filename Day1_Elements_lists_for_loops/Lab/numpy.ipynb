{
 "cells": [
  {
   "cell_type": "code",
   "execution_count": 30,
   "metadata": {},
   "outputs": [],
   "source": [
    "import numpy as np\n",
    "import matplotlib as mpl\n",
    "import matplotlib.pyplot  as plt\n",
    "%matplotlib inline\n",
    "\n",
    "#import image_audio as ia\n",
    "#from checkarr import array_hash, check_hash"
   ]
  },
  {
   "cell_type": "code",
   "execution_count": 6,
   "metadata": {},
   "outputs": [
    {
     "name": "stdout",
     "output_type": "stream",
     "text": [
      "[1. 2. 3. 4.]\n",
      "float64\n",
      "(4,)\n"
     ]
    }
   ],
   "source": [
    "x = np.array([1.0, 2.0, 3.0, 4.0]) #create an array from a list\n",
    "\n",
    "print(x) # print the values in the array\n",
    "print(x.dtype) # print datatype of values in the array\n",
    "print(x.shape) #print hte shape (dimensions) of the array"
   ]
  },
  {
   "cell_type": "code",
   "execution_count": 8,
   "metadata": {},
   "outputs": [
    {
     "name": "stdout",
     "output_type": "stream",
     "text": [
      "X\n",
      " [[0. 0. 0.]\n",
      " [0. 0. 0.]\n",
      " [0. 0. 0.]]\n"
     ]
    }
   ],
   "source": [
    "x = np.zeros((3,3)) #a 3 X 3 matrix of all zeros\n",
    "print(\"X\\n\", x)"
   ]
  },
  {
   "cell_type": "code",
   "execution_count": 11,
   "metadata": {},
   "outputs": [
    {
     "name": "stdout",
     "output_type": "stream",
     "text": [
      "Y\n",
      " [1. 1. 1. 1. 1. 1. 1. 1. 1. 1. 1. 1. 1.]\n"
     ]
    }
   ],
   "source": [
    "y = np.ones(13) # a 13 element 1 D vector of all ones\n",
    "print(\"Y\\n\", y)"
   ]
  },
  {
   "cell_type": "code",
   "execution_count": 14,
   "metadata": {},
   "outputs": [
    {
     "name": "stdout",
     "output_type": "stream",
     "text": [
      "m\n",
      " [[7 7 7]\n",
      " [7 7 7]\n",
      " [7 7 7]]\n"
     ]
    }
   ],
   "source": [
    "scalar = 7\n",
    "m = np.full((3,3), scalar) #create a matrix or array of specified shape and filled with a value of a scalar\n",
    "print(\"m\\n\",m)"
   ]
  },
  {
   "cell_type": "code",
   "execution_count": 16,
   "metadata": {},
   "outputs": [
    {
     "data": {
      "text/plain": [
       "array([[0, 0, 0],\n",
       "       [0, 0, 0],\n",
       "       [0, 0, 0]])"
      ]
     },
     "execution_count": 16,
     "metadata": {},
     "output_type": "execute_result"
    }
   ],
   "source": [
    "np.zeros_like(m) #create a matrix or array similar to speecifed value with all zeros"
   ]
  },
  {
   "cell_type": "code",
   "execution_count": 25,
   "metadata": {},
   "outputs": [
    {
     "name": "stdout",
     "output_type": "stream",
     "text": [
      "z\n",
      " [[[9.1 9.1 9.1 9.1]\n",
      "  [9.1 9.1 9.1 9.1]\n",
      "  [9.1 9.1 9.1 9.1]]\n",
      "\n",
      " [[9.1 9.1 9.1 9.1]\n",
      "  [9.1 9.1 9.1 9.1]\n",
      "  [9.1 9.1 9.1 9.1]]]\n"
     ]
    }
   ],
   "source": [
    "z = np.full((2,3,4), 9.1) #create a 2 x 3 x 4 with all elements 9.1\n",
    "print (\"z\\n\", z)"
   ]
  },
  {
   "cell_type": "code",
   "execution_count": 27,
   "metadata": {},
   "outputs": [
    {
     "name": "stdout",
     "output_type": "stream",
     "text": [
      "u\n",
      " [[ 0.55256761 -0.64449978  0.80839925  0.33687032  0.73387438 -0.17241049\n",
      "  -0.37363476 -0.28660245]\n",
      " [-0.68383104  0.58395852  0.63281174  0.03973379  0.67140555 -0.70417685\n",
      "  -0.5892951   0.67748613]\n",
      " [-0.05877435  0.53171252  0.77737566 -0.18336773 -0.21520524  0.3673652\n",
      "   0.55178911 -0.4285236 ]\n",
      " [ 0.99183084 -0.99793358  0.91048426  0.23026003  0.31911704 -0.52748743\n",
      "   0.30175714  0.71757402]]\n"
     ]
    }
   ],
   "source": [
    "u = np.random.uniform(-1, 1, (4,8)) #create a 8 column, 4 rows array\n",
    "                                    #with numbers randomly uniform distributed in the range [-1,1) (uniform)\n",
    "print(\"u\\n\", u)"
   ]
  },
  {
   "cell_type": "code",
   "execution_count": 26,
   "metadata": {},
   "outputs": [
    {
     "name": "stdout",
     "output_type": "stream",
     "text": [
      "r\n",
      " [[-1 -1  0  0  0 -1 -1  0]\n",
      " [-1 -1 -1  0 -1 -1  0 -1]\n",
      " [-1 -1 -1 -1 -1 -1 -1 -1]\n",
      " [-1 -1 -1 -1  0 -1  0 -1]]\n"
     ]
    }
   ],
   "source": [
    "r = np.random.randint(-1, 1, (4,8)) #create a 8 column, 4 rows array\n",
    "                                    #with numbers randomly distributed in the range [-1,1) (integers only)\n",
    "print(\"r\\n\", r)"
   ]
  },
  {
   "cell_type": "code",
   "execution_count": 28,
   "metadata": {},
   "outputs": [
    {
     "name": "stdout",
     "output_type": "stream",
     "text": [
      "n\n",
      " [[-0.89282934  0.01693095 -2.08269497  0.94223025 -2.83422727 -2.05478482\n",
      "   0.06640216 -0.03837   ]\n",
      " [-0.68313432 -0.01435163 -0.16215401 -0.82180618 -2.03921461 -2.8579159\n",
      "  -2.05315447  0.28440306]\n",
      " [-0.55572443 -1.29255851 -0.82936453  0.49490241  0.4232886   0.57129997\n",
      "   0.10009966 -3.0959698 ]\n",
      " [-2.96499333  0.39527552 -0.98217388  0.44757301 -2.13111179  0.74176871\n",
      "  -1.43794536 -1.3545049 ]]\n"
     ]
    }
   ],
   "source": [
    "n = np.random.normal(-1, 1, (4,8)) #create a 8 column, 4 rows array\n",
    "                                    #with numbers randomly normally distributed in the range [-1,1)\n",
    "print(\"n\\n\", n)"
   ]
  },
  {
   "cell_type": "code",
   "execution_count": null,
   "metadata": {},
   "outputs": [],
   "source": []
  }
 ],
 "metadata": {
  "kernelspec": {
   "display_name": "Python 3",
   "language": "python",
   "name": "python3"
  },
  "language_info": {
   "codemirror_mode": {
    "name": "ipython",
    "version": 3
   },
   "file_extension": ".py",
   "mimetype": "text/x-python",
   "name": "python",
   "nbconvert_exporter": "python",
   "pygments_lexer": "ipython3",
   "version": "3.5.3"
  }
 },
 "nbformat": 4,
 "nbformat_minor": 2
}
