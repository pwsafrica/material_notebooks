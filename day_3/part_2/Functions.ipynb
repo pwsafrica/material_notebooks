{
 "cells": [
  {
   "cell_type": "markdown",
   "metadata": {},
   "source": [
    "# Functions"
   ]
  },
  {
   "cell_type": "markdown",
   "metadata": {},
   "source": [
    "## Functions\n",
    "Like most languages, Python has **functions** which achieve three goals:\n",
    "* breaks problems down into small, manageable chunks;\n",
    "* allows problems to be **parameterised**, i.e. to have parts that can **vary in a controlled way**.\n",
    "* isolate variables used in one part of a program from another.\n",
    "\n",
    "This allows **abstraction**; finding a general form of problem that means it takes much less work to apply it to a new domain.\n",
    "\n",
    "Programs are broken down into collections of functions. One function calls another, and that function calls another, and so on. This breaks things up into neat, manageable chunks and makes it feasible to write sophisticated programs.\n"
   ]
  },
  {
   "cell_type": "markdown",
   "metadata": {},
   "source": [
    "## Functions -- calling and returning\n",
    "A function is a block of code -- a sequence of statements. Functions are **called**, which runs the statements in order. Functions often **return** a value; this allows the code that made the call to the function to receive feedback like the result of a calculation.\n",
    "\n",
    "**Calling** means to transfer the flow of execution to the function. Control will be returned to the calling code after the function finishes.\n",
    "\n",
    "In Python, functions are defined with `def`, called using parentheses `()` and \n",
    "use the `return` *keyword* to return values back to the calling code:\n",
    "\n"
   ]
  },
  {
   "cell_type": "markdown",
   "metadata": {},
   "source": [
    "## Functions: what are they good for?\n",
    "\n",
    "Why do we use functions? Why not write code as a big long sequence of commands like this:\n",
    "\n",
    "    sum = 0\n",
    "    sum = sum + val_1[0]\n",
    "    sum = sum + val_1[1]\n",
    "    sum = sum + val_1[2]\n",
    "    mean_1 = sum / 3\n",
    "    print mean_1\n",
    "    sum = 0\n",
    "    sum = sum + val_2[0]\n",
    "    sum = sum + val_2[1]\n",
    "    sum = sum + val_2[2]\n",
    "    mean_2 = sum / 3\n",
    "    print mean_2\n",
    "        \n",
    "\n",
    "Functions let us do several things:\n",
    "\n",
    "* *Split code up into manageable chunks*.\n",
    "\n",
    "**Code is for reading** and humans have limitations. Humans can't remember the whole program at once if it is thousands of lines long. Chunking is essential.\n",
    "\n",
    "* *Remove repetition*. \n",
    "\n",
    "Repeated code is always a warning something is wrong. When you repeat code: you make it harder and longer to read; you introduce the risk of subtle errors when code is not repeated *exactly*; you waste your own time. Just use a function instead.\n",
    "\n",
    "* *Reason about behaviour*. \n",
    "\n",
    "If we divide code into small chunks, each of which is simple enough that we can understand it completely, then we can be much more confident about how a program will work. Simple, short functions are at the heart of elegant programming.\n",
    "\n",
    "* *Generalise problems*. \n",
    "\n",
    "We often want to solve problems which are not quite repetitions, but follow a common pattern. For example, we might want to compute the mean, median or mode of a sequence of values, instead of just the mean as the above. We can use parameterisation to create general patterns where the parameters \"fill in the blanks\". We want to avoid having to craft special-cases, and instead reuse simple, general forms.\n",
    "\n",
    "* *Share code*.\n",
    "\n",
    "*Libraries* are essentially banks of pre-written functions which you can use. Packaging up code into functions makes it possible for many programs to share common functionality. This can reduce repetition on a grand scale. For example, no one writes code to find how long a string is in Python, because Python already provides a function to do that: `len()`\n",
    "\n",
    "* *Control effects*. \n",
    "\n",
    "Functions, as we will see, have their own private working areas to do computations. This can be used to isolate computations from each and makes it easier to be sure that code does what you think. By reducing dependence, we can reduce **fragility**.\n",
    "\n",
    "### A function version\n",
    "\n",
    "    # works for any sequence of x\n",
    "    def sum(x):\n",
    "        sum = 0\n",
    "        for elt in x:\n",
    "            sum += elt\n",
    "        return sum\n",
    "        \n",
    "    def mean(x):\n",
    "        return sum(x) / len(x)\n",
    "\n"
   ]
  },
  {
   "cell_type": "markdown",
   "metadata": {},
   "source": [
    "## Calling Functions.\n",
    "Calling a function temporarily transfers control to the function. When it returns, control is passed back to the calling code. \n",
    "\n",
    "    def function():\n",
    "        print \"this is a function!\"\n",
    "        \n",
    "    function()"
   ]
  },
  {
   "cell_type": "code",
   "execution_count": null,
   "metadata": {},
   "outputs": [],
   "source": [
    "def insideFunction():\n",
    "    print(\"I'm printing from inside the function.\")\n",
    "    \n",
    "print(\"I'm outside the function.\")\n",
    "insideFunction()\n",
    "print(\"I'm outside the function again.\")"
   ]
  },
  {
   "cell_type": "code",
   "execution_count": null,
   "metadata": {},
   "outputs": [],
   "source": [
    "def lines():\n",
    "    print(\"I must learn functions\")\n",
    "    \n",
    "for i in range(10):\n",
    "    lines()"
   ]
  },
  {
   "cell_type": "markdown",
   "metadata": {},
   "source": [
    "Print out the Beatles song below using the functions provided.\n",
    "\n",
    "    She loves you, yeah yeah yeah\n",
    "    She loves you, yeah yeah yeah\n",
    "    And with a love like that\n",
    "    You know you should be glad\n",
    "    And with a love like that\n",
    "    You know you should be glad\n",
    "    And with a love like that\n",
    "    You know you should be glad\n",
    "    yeah yeah yeah yeah yeah yeah yeah"
   ]
  },
  {
   "cell_type": "code",
   "execution_count": null,
   "metadata": {},
   "outputs": [],
   "source": [
    "def love():\n",
    "    print(\"She loves you,\", end = \" \")\n",
    "    \n",
    "def yeah():\n",
    "    print(\"yeah\", end = \" \")\n",
    "    \n",
    "def glad():\n",
    "    print(\"And with a love like that\")\n",
    "    print(\"You know you should be glad\")\n",
    "    \n",
    "    "
   ]
  },
  {
   "cell_type": "code",
   "execution_count": null,
   "metadata": {},
   "outputs": [],
   "source": []
  },
  {
   "cell_type": "markdown",
   "metadata": {},
   "source": [
    "Write a function to print out ....."
   ]
  },
  {
   "cell_type": "code",
   "execution_count": null,
   "metadata": {},
   "outputs": [],
   "source": []
  },
  {
   "cell_type": "markdown",
   "metadata": {},
   "source": [
    "### Return statement\n",
    "Whenever `return` is encountered, control is transferred back to the calling code. This can be half way through a function; the rest won't be executed. If there is no `return`, the function will return at the end of the function block."
   ]
  },
  {
   "cell_type": "code",
   "execution_count": null,
   "metadata": {},
   "outputs": [],
   "source": [
    "def return_test():\n",
    "    print(\"This will be printed\")\n",
    "    return # back to the caller we go!\n",
    "    print(\"But this cannot be\")\n",
    "    \n",
    "return_test()"
   ]
  },
  {
   "cell_type": "code",
   "execution_count": null,
   "metadata": {},
   "outputs": [],
   "source": [
    "def Experience():\n",
    "    print(\"Choose from the following options: \")\n",
    "    print(\"Enter 1 for beginner.\")\n",
    "    print(\"Enter 2 for compitant.\")\n",
    "    print(\"Enter 3 for expert.\")\n",
    "    print()\n",
    "    exp = input()\n",
    "    return exp\n",
    "\n",
    "level = Experience()\n",
    "\n",
    "if level == \"1\":\n",
    "    print(\"I hope these exercises are not too difficult\")\n",
    "elif level == \"2\":\n",
    "    print(\"I hope these exercises are straightforward\")\n",
    "else: \n",
    "    print(\"I hope you are not bored\")"
   ]
  },
  {
   "cell_type": "code",
   "execution_count": null,
   "metadata": {},
   "outputs": [],
   "source": [
    "def tenTimes(x):\n",
    "    return x*10\n",
    "\n",
    "six = tenTimes(6)\n",
    "print(six)\n",
    "square = tenTimes(10)\n",
    "print(square)\n",
    "minus  = tenTimes(-2)\n",
    "print(minus)\n",
    "word = tenTimes(\"hi\")\n",
    "print(word)"
   ]
  },
  {
   "cell_type": "markdown",
   "metadata": {},
   "source": [
    "Use the function below to add up all the squares from 1 to 9\n",
    "\n",
    "    output : 285 (= 1+4+9+16+25+36+49+64+81)"
   ]
  },
  {
   "cell_type": "code",
   "execution_count": 5,
   "metadata": {},
   "outputs": [],
   "source": [
    "def square(x):\n",
    "    return x*x"
   ]
  },
  {
   "cell_type": "code",
   "execution_count": null,
   "metadata": {},
   "outputs": [],
   "source": []
  },
  {
   "cell_type": "markdown",
   "metadata": {},
   "source": [
    "Write a function that takes 2 numbers and returns the sum of 3 times the first and double the second."
   ]
  },
  {
   "cell_type": "code",
   "execution_count": null,
   "metadata": {},
   "outputs": [],
   "source": []
  },
  {
   "cell_type": "markdown",
   "metadata": {},
   "source": [
    "## Return values\n",
    "### None\n",
    "What happens if you call a function that doesn't have a return statement, and assign it to a variable or use it in an expression? Is that allowed?"
   ]
  },
  {
   "cell_type": "code",
   "execution_count": null,
   "metadata": {},
   "outputs": [],
   "source": [
    "def no_return(x):\n",
    "    x += 1\n",
    "    \n",
    "y = no_return(10)    \n",
    "print(y)"
   ]
  },
  {
   "cell_type": "markdown",
   "metadata": {},
   "source": [
    "**Yes**. *All function calls evaluate to a value.* \n",
    "\n",
    "If a function does not explicitly return a value, it returns the *special* value `None`, which means \"nothing it all\". It is distinct from `False` or 0, or any other value. It is a type all of its own -- it is `None` and it is of type `NoneType`. \n",
    "\n",
    "`None` is often used to represent cases where values are missing. For example, if you call a function with optional parameters, and want to be able to tell if the parameters were set or not, a conventional thing to do is to use `None` as the default"
   ]
  },
  {
   "cell_type": "markdown",
   "metadata": {},
   "source": [
    "You can imagine that **every** function has\n",
    "\n",
    "    return None\n",
    "\n",
    "appended to the end of it. If another `return` gets there first, that will supercede the implied `return None`. "
   ]
  },
  {
   "cell_type": "markdown",
   "metadata": {},
   "source": [
    "### Multiple return values"
   ]
  },
  {
   "cell_type": "markdown",
   "metadata": {},
   "source": [
    "We can return more than one value from a function. This is an extremely useful feature of Python. In the next lecture we will cover the mechanism that makes this work (it's really just a sequence of values), but for now, be aware that a `return` statement can be followed by a comma separated list of values.\n",
    "\n",
    "You can assign the results of the `return` to a corresponding number of variables using parallel assignment."
   ]
  },
  {
   "cell_type": "code",
   "execution_count": null,
   "metadata": {},
   "outputs": [],
   "source": [
    "def multi_return():\n",
    "    return 1,2,3\n",
    "\n",
    "a,b,c = multi_return()\n",
    "print(a,b,c)\n",
    "# exactly the same \n",
    "\n",
    "a,b,c = 1,2,3"
   ]
  },
  {
   "cell_type": "code",
   "execution_count": null,
   "metadata": {},
   "outputs": [],
   "source": [
    "def order(a,b):\n",
    "    if a<b:\n",
    "        a,b = b,a\n",
    "    return a,b\n",
    "    \n",
    "a,b = order(5,2)\n",
    "print(a,b)   \n",
    "a,b = order(3,8)\n",
    "print(a,b)\n",
    "a,b = order(6,6)\n",
    "print(a,b)"
   ]
  },
  {
   "cell_type": "markdown",
   "metadata": {},
   "source": [
    "Using the function below print out...\n",
    "\n",
    "    (3*6)+2 = 20\n"
   ]
  },
  {
   "cell_type": "code",
   "execution_count": null,
   "metadata": {},
   "outputs": [],
   "source": [
    "number = 20\n",
    "divisor = 3\n",
    "\n",
    "def divide(x,y):\n",
    "    mul = x//y\n",
    "    rem = x%y\n",
    "    return mul, rem"
   ]
  },
  {
   "cell_type": "code",
   "execution_count": null,
   "metadata": {},
   "outputs": [],
   "source": []
  },
  {
   "cell_type": "markdown",
   "metadata": {},
   "source": [
    "Write a function that prompts the user to input a date in the form 25/6/2018 and returns the day and month and year separately.\n",
    "\n",
    "    input : 25/06/2018\n",
    "    output : day = 25\n",
    "             month = 06\n",
    "             year = 2018"
   ]
  },
  {
   "cell_type": "code",
   "execution_count": null,
   "metadata": {},
   "outputs": [],
   "source": []
  },
  {
   "cell_type": "markdown",
   "metadata": {},
   "source": [
    "## Parameterisation\n",
    "\n",
    "This use of functions allows us to collect together statements into meaningful \"chunks\". But we often want to be able to allow some parts of these chunks to **vary** in interesting ways. \n",
    "\n",
    "To do this we **parameterise** a function. This means it receives variables from the code that called it. This makes functions vastly more powerful; we can develop \"skeleton key\" code and fill in the details to specialise to a particular problem.\n",
    "\n",
    "Let's look at a simple example:"
   ]
  },
  {
   "cell_type": "code",
   "execution_count": null,
   "metadata": {},
   "outputs": [],
   "source": [
    "def add_one(x):\n",
    "    # note that x becomes whatever was in the brackets when I called it\n",
    "    return x+1\n",
    "    \n",
    "print(add_one(2))\n",
    "print(add_one(4))"
   ]
  },
  {
   "cell_type": "code",
   "execution_count": null,
   "metadata": {},
   "outputs": [],
   "source": [
    "y = 200\n",
    "print(add_one(y))"
   ]
  },
  {
   "cell_type": "markdown",
   "metadata": {},
   "source": [
    "What happens is that `x` (the **parameter**) is a new variable which is assigned to the value given in the call (the **argument**). "
   ]
  },
  {
   "cell_type": "markdown",
   "metadata": {},
   "source": [
    "## Parameters and arguments\n",
    "**Parameters** are the variables you receive inside a function:\n",
    "\n",
    "    def fn(a,b): # a and b are parameters\n",
    "        return a+b\n",
    "    \n",
    "**Arguments** are the values you send to a function by calling it:\n",
    "\n",
    "    fn(2,4)   # 2 and 4 are arguments\n",
    "    fn(x,y)   # x and y are arguments"
   ]
  },
  {
   "cell_type": "markdown",
   "metadata": {},
   "source": [
    "**Note that `y` is not affected by calling add_one(); `x` is assigned the value that `y` has, and `y` itself is unchanged.** The value  `x+1` is returned. "
   ]
  },
  {
   "cell_type": "code",
   "execution_count": null,
   "metadata": {},
   "outputs": [],
   "source": [
    "y = 200\n",
    "print(add_one(y))\n",
    "print(y)"
   ]
  },
  {
   "cell_type": "markdown",
   "metadata": {},
   "source": [
    "If we wanted to update y we would need to explicitly say that we wanted to store the result in `y`:"
   ]
  },
  {
   "cell_type": "code",
   "execution_count": null,
   "metadata": {},
   "outputs": [],
   "source": [
    "# read as: y becomes add_one(y)\n",
    "y = add_one(y)\n",
    "print(y)"
   ]
  },
  {
   "cell_type": "markdown",
   "metadata": {},
   "source": [
    "***Be aware, some (mutable) data types like lists actually alter their value inside a function!***"
   ]
  },
  {
   "cell_type": "code",
   "execution_count": null,
   "metadata": {},
   "outputs": [],
   "source": [
    "def square(x):\n",
    "    print(\"The square of %s is %s.\" %(x,x*x))\n",
    "          \n",
    "square(3)\n",
    "square(6)  \n",
    "square(17)"
   ]
  },
  {
   "cell_type": "markdown",
   "metadata": {},
   "source": [
    "Using the function provide convert the temperature of 0,30 and 100 degree Celcius into Fahrenheit"
   ]
  },
  {
   "cell_type": "code",
   "execution_count": null,
   "metadata": {},
   "outputs": [],
   "source": [
    "def cTof(c):\n",
    "    f = (c * (9/5))+32\n",
    "    print(\"%d celcius = %d fahrenheit.\" %(c,f))"
   ]
  },
  {
   "cell_type": "code",
   "execution_count": null,
   "metadata": {},
   "outputs": [],
   "source": []
  },
  {
   "cell_type": "markdown",
   "metadata": {},
   "source": [
    "Create 2 functions, 1 for lines 1, 2 and 4 and the other for line 3, of the \"Happy Birthday\" song. Before singing the song ask whose birthday it is. Then pass this information into the function."
   ]
  },
  {
   "cell_type": "code",
   "execution_count": null,
   "metadata": {},
   "outputs": [],
   "source": []
  },
  {
   "cell_type": "markdown",
   "metadata": {},
   "source": [
    "## Multiple parameters\n",
    "Functions can have many parameters. Each parameter is a new variable that is assigned to the value given when the function is called."
   ]
  },
  {
   "cell_type": "code",
   "execution_count": null,
   "metadata": {},
   "outputs": [],
   "source": [
    "# we can have multiple parameters\n",
    "def join_string(a, b, c):\n",
    "    return a + b + c\n",
    "\n",
    "\n",
    "join_string(\"hello\", \", \", \"world\")"
   ]
  },
  {
   "cell_type": "markdown",
   "metadata": {},
   "source": [
    "Each parameter needs to have a matching argument when the function is called."
   ]
  },
  {
   "cell_type": "code",
   "execution_count": null,
   "metadata": {},
   "outputs": [],
   "source": [
    "#The order in which you pass in the parameters matters\n",
    "\n",
    "def power(a,b):\n",
    "    print(\"%d to the power of %d is %d.\" %(a,b,a**b))\n",
    "\n",
    "power(3,2)\n",
    "power(2,3)"
   ]
  },
  {
   "cell_type": "markdown",
   "metadata": {},
   "source": [
    "Using the function below write out the nursery rhyme for a dog(woof), cow(moo), sheep(baa), pig(oink) and a duck(quack)"
   ]
  },
  {
   "cell_type": "code",
   "execution_count": null,
   "metadata": {},
   "outputs": [],
   "source": [
    "def oldMcDonald(animal, sound):\n",
    "    print(\"Old McDonald had a farm\")\n",
    "    print(\"E-i-e-i-o\")\n",
    "    print(\"And on that farm he had an %s.\" %(animal))\n",
    "    print(\"E-i-e-i-o\")\n",
    "    print(\"With a %s %s here.\" %(sound,sound))\n",
    "    print(\"A %s %s there.\" %(sound,sound))\n",
    "    print(\"Here a %s.\" %(sound))\n",
    "    print(\"There a %s.\" %(sound))\n",
    "    print(\"Everywhere a %s %s.\" %(sound,sound))\n",
    "    print(\"Old McDonald had a farm\")\n",
    "    print(\"E-i-e-i-o\")\n",
    "    print()"
   ]
  },
  {
   "cell_type": "code",
   "execution_count": null,
   "metadata": {},
   "outputs": [],
   "source": []
  },
  {
   "cell_type": "markdown",
   "metadata": {},
   "source": [
    "Write a function that takes in 2 names and prints out that `the first name is the parent of the second name.` Call the function to print...\n",
    "\n",
    "    Mary is the parent of Tom.\n",
    "\n",
    "Then without changing the function, call it again to print\n",
    "\n",
    "    Tom is the parent of Mary.\n"
   ]
  },
  {
   "cell_type": "code",
   "execution_count": null,
   "metadata": {},
   "outputs": [],
   "source": []
  },
  {
   "cell_type": "markdown",
   "metadata": {},
   "source": [
    "## Positional arguments\n",
    "Traditionally, programming languages used only the position (order) of parameters to match arguments to parameters. Such arguments are called **positional arguments** because they are matched according to position."
   ]
  },
  {
   "cell_type": "code",
   "execution_count": null,
   "metadata": {},
   "outputs": [],
   "source": [
    "join_string(\"hello\",def divide(num, denom):\n",
    "    return num/denom\n",
    "\n",
    "print(divide(4,1))       # will make num=4, denom=1, \n",
    "# because that's the order in the function \"world\") # only two arguments; what would c be?"
   ]
  },
  {
   "cell_type": "markdown",
   "metadata": {},
   "source": [
    "## Scope of variables\n",
    "\n",
    "We can create new variables inside functions, just as you would expect:\n"
   ]
  },
  {
   "cell_type": "code",
   "execution_count": null,
   "metadata": {},
   "outputs": [],
   "source": [
    "def mul_add(a,b,c):\n",
    "    # we've createed a new variable mult\n",
    "    mult = a * b\n",
    "    return mult+c\n",
    "\n",
    "print(mul_add(2, 5, 2))"
   ]
  },
  {
   "cell_type": "code",
   "execution_count": null,
   "metadata": {},
   "outputs": [],
   "source": [
    "## but this is an error\n",
    "mul_add(2,5,2)\n",
    "print(mult)"
   ]
  },
  {
   "cell_type": "markdown",
   "metadata": {},
   "source": [
    "## Local scope\n",
    "When we create variables inside a function, they **are visible only to that function**. The calling code, and other functions, cannot see those variables. We call these **local variables** because they are local to the function in which they are defined.\n",
    "\n",
    "#### A clean workspace\n",
    "This means each function has a nice, clean private space to work in, where we don't have to worry about a function overwriting variables we have used before. This is the *isolating property of functions*. Computations in one function don't leak out and pollute other functions.\n",
    "\n",
    "This new workspace is recreated every time the function is called.\n",
    "\n",
    "This restriction of variables only to the function in which they are defined is called **scoping**, and variables visible only locally inside a function are in the **local scope**.\n"
   ]
  },
  {
   "cell_type": "code",
   "execution_count": null,
   "metadata": {},
   "outputs": [],
   "source": [
    "mult = 10\n",
    "print(mul_add(2, 5, 2))\n",
    "print(mult)  # mul is not changed; it can't be overwritten from within mul_add()"
   ]
  },
  {
   "cell_type": "markdown",
   "metadata": {},
   "source": [
    "Even if we modify the parameter variable inside the function, the argument variable is unchanged. "
   ]
  },
  {
   "cell_type": "code",
   "execution_count": null,
   "metadata": {},
   "outputs": [],
   "source": [
    "mult = 10\n",
    "print(mul_add(2, 5, 2))\n",
    "print(mult)  # mul is not changed; it can't be overwritten from within mul_add()"
   ]
  },
  {
   "cell_type": "markdown",
   "metadata": {},
   "source": [
    "#### Persistence of locals\n",
    "Note that every time code calls a function, a *new* set of local variables for that function will be used. The old values do not persist from call to call."
   ]
  },
  {
   "cell_type": "code",
   "execution_count": null,
   "metadata": {},
   "outputs": [],
   "source": [
    "def scope_test(x, set_y):\n",
    "    if set_y:\n",
    "        y = x\n",
    "    print(y)"
   ]
  },
  {
   "cell_type": "code",
   "execution_count": null,
   "metadata": {},
   "outputs": [],
   "source": [
    "# make y to be set to 20\n",
    "scope_test(20, True)    "
   ]
  },
  {
   "cell_type": "code",
   "execution_count": null,
   "metadata": {},
   "outputs": [],
   "source": [
    "# Don't set y; now it will be unbound and cause an error\n",
    "scope_test(50, False)"
   ]
  },
  {
   "cell_type": "code",
   "execution_count": null,
   "metadata": {},
   "outputs": [],
   "source": [
    "#local variables cannot be accessed outside the function.\n",
    "\n",
    "def localVar():\n",
    "    z = 11\n",
    "    print(\"In function z = %d.\" %(z))\n",
    "\n",
    "localVar()\n",
    "print(\"Outside function, z = %d.\" %(z))"
   ]
  },
  {
   "cell_type": "code",
   "execution_count": null,
   "metadata": {},
   "outputs": [],
   "source": [
    "#local variables hid the value of the variable outside the function.\n",
    "\n",
    "a = 22\n",
    "\n",
    "def localVar():\n",
    "    a = 11\n",
    "    print(\"In function a = %d.\" %(a))\n",
    "\n",
    "print(\"Outside function, a = %d.\" %(a))  \n",
    "localVar()\n",
    "print(\"Outside function, a = %d.\" %(a))"
   ]
  },
  {
   "cell_type": "code",
   "execution_count": null,
   "metadata": {},
   "outputs": [],
   "source": [
    "# Passing a parameter in and altering it does not affect the variable outside the function. \n",
    "\n",
    "a = 22\n",
    "\n",
    "def localVar(a):\n",
    "    a +=1\n",
    "    print(\"In function a = %d.\" %(a))\n",
    "\n",
    "print(\"Outside function, a = %d.\" %(a))  \n",
    "localVar(a)\n",
    "print(\"Outside function, a = %d.\" %(a))"
   ]
  },
  {
   "cell_type": "code",
   "execution_count": null,
   "metadata": {},
   "outputs": [],
   "source": [
    "# If you wish the variable outside the function to be changed you need to return the value to it.\n",
    "\n",
    "a = 22\n",
    "\n",
    "def localVar(a):\n",
    "    a = 11\n",
    "    print(\"In function a = %d.\" %(a))\n",
    "    return a\n",
    "\n",
    "print(\"Outside function, a = %d.\" %(a))  \n",
    "a = localVar(a)\n",
    "print(\"Outside function, a = %d.\" %(a))"
   ]
  },
  {
   "cell_type": "code",
   "execution_count": null,
   "metadata": {},
   "outputs": [],
   "source": [
    "#lists are mutable so if their value is changed inside the function it also changes the list outside.\n",
    "\n",
    "a = [1,2,3]\n",
    "\n",
    "def appendList(x):\n",
    "    x.append(4)\n",
    "    \n",
    "b=a\n",
    "print(a)\n",
    "print(b)\n",
    "appendList(a)\n",
    "print(a)\n",
    "print(b)"
   ]
  },
  {
   "cell_type": "code",
   "execution_count": null,
   "metadata": {},
   "outputs": [],
   "source": [
    "#Same is true of dictionaries as they are mutable too.\n",
    "\n",
    "a = {\"a\":1,\"b\":2}\n",
    "\n",
    "def appendDict(x):\n",
    "    x[\"c\"]=3\n",
    "    \n",
    "b=a\n",
    "print(a)\n",
    "print(b)\n",
    "appendDict(a)\n",
    "print(a)\n",
    "print(b)"
   ]
  },
  {
   "cell_type": "markdown",
   "metadata": {},
   "source": [
    "## Default parameters\n",
    "### Too many parameters\n",
    "Functions should have as many parameters as they need to specify their behaviour. \n",
    "\n",
    "But a function with lots (say more than 5-10) parameters becomes very unwieldy. If this happens, think how you can cut down the number of parameters by splitting up the function or restructuring the problem.\n",
    "\n",
    "It's much less bad to have many parameters if many of the parameters are **optional** as we will see below, especially if only a few of them are ever used at one time.\n",
    "\n",
    "When we cover dictionaries, we will see a way of passing lots of named parameters to functions without making the whole thing clumsy.\n"
   ]
  },
  {
   "cell_type": "code",
   "execution_count": 2,
   "metadata": {},
   "outputs": [],
   "source": [
    "# This is a monster of a function!\n",
    "def render_image(fname, x_res, y_res, bit_depth, color_model, scene_name,\n",
    "                light_model, surface_model, camera_model, projection_matrix,\n",
    "                modelview_matrix, radiometric_model):\n",
    "    return"
   ]
  },
  {
   "cell_type": "markdown",
   "metadata": {},
   "source": [
    "In Python, some parameters can be made **optional**. That is, you can give parameters **default** values that will be used if a parameter is missing:\n"
   ]
  },
  {
   "cell_type": "code",
   "execution_count": null,
   "metadata": {},
   "outputs": [],
   "source": [
    "## This syntax means: use the value of x, which **must** be passed,\n",
    "## and use the value of y **if it is there**; if not, assign the value 1\n",
    "def add(x, y=1):\n",
    "    print(\"x=%d\" % x)\n",
    "    print(\"y=%d\" % y)\n",
    "    return x + y\n",
    "\n",
    "\n",
    "# one argument call; y will take on the default value\n",
    "print(add(5))\n",
    "print()\n",
    "# two argument call; y will take on the value 5\n",
    "print(add(5, 5))"
   ]
  },
  {
   "cell_type": "markdown",
   "metadata": {},
   "source": [
    "\n",
    "Optional parameters must come after all mandatory parameters (those without defaults):\n",
    "## fine\n",
    "def add_one(x, y=1):\n",
    "    return x+y\n",
    "\n",
    "## WRONG! optional parameters must come last in the parameter list\n",
    "def add_one(y=1, x):\n",
    "    return x+y"
   ]
  },
  {
   "cell_type": "code",
   "execution_count": 7,
   "metadata": {},
   "outputs": [
    {
     "name": "stdout",
     "output_type": "stream",
     "text": [
      "20\n",
      "100\n",
      "16\n"
     ]
    }
   ],
   "source": [
    "def param_test(x, y=None):\n",
    "    # note: we test for None-ness using is, not ==\n",
    "    if y is None:\n",
    "        y = x\n",
    "    return x * y\n",
    "\n",
    "\n",
    "print(param_test(10, 2))  # set y\n",
    "print(param_test(10))  # now, y will be set to x\n",
    "print(param_test(4))"
   ]
  },
  {
   "cell_type": "markdown",
   "metadata": {},
   "source": [
    "### Functions calling functions."
   ]
  },
  {
   "cell_type": "code",
   "execution_count": 8,
   "metadata": {},
   "outputs": [
    {
     "name": "stdout",
     "output_type": "stream",
     "text": [
      "5.0\n",
      "13.0\n"
     ]
    }
   ],
   "source": [
    "def square(x):\n",
    "    x2 = x*x\n",
    "    return x2\n",
    "\n",
    "def squareRoot(x):\n",
    "    sx = x**0.5\n",
    "    return sx\n",
    "\n",
    "def pythagorus(a,b):\n",
    "    a2 = square(a)\n",
    "    b2 = square(b)\n",
    "    c = a2+b2\n",
    "    result = squareRoot(c)\n",
    "    return result\n",
    "    \n",
    "hypotenuse = pythagorus(3,4)\n",
    "print(hypotenuse)\n",
    "hypotenuse = pythagorus(5,12)\n",
    "print(hypotenuse)"
   ]
  },
  {
   "cell_type": "markdown",
   "metadata": {},
   "source": [
    "This can be shortened to...."
   ]
  },
  {
   "cell_type": "code",
   "execution_count": null,
   "metadata": {},
   "outputs": [],
   "source": [
    "def square(x):\n",
    "    return x*x\n",
    "\n",
    "def squareRoot(x):\n",
    "    return x**0.5\n",
    "\n",
    "def pythagorus(a,b):\n",
    "    return squareRoot(square(a)+square(b))\n",
    "\n",
    "print(pythagorus(3,4))\n",
    "print(pythagorus(5,12))"
   ]
  },
  {
   "cell_type": "code",
   "execution_count": null,
   "metadata": {},
   "outputs": [],
   "source": []
  },
  {
   "cell_type": "code",
   "execution_count": null,
   "metadata": {},
   "outputs": [],
   "source": []
  },
  {
   "cell_type": "markdown",
   "metadata": {},
   "source": [
    "### Multiple Returns"
   ]
  },
  {
   "cell_type": "code",
   "execution_count": null,
   "metadata": {},
   "outputs": [],
   "source": [
    "def size(a,b):\n",
    "    if a>b:\n",
    "        return(\"bigger\")\n",
    "    elif a<b:\n",
    "        return(\"smaller\")\n",
    "    else:\n",
    "        return(\"same\")\n",
    "    \n",
    "print(size(-2,8))\n",
    "print(size(6,6))\n",
    "print(size(12,8))"
   ]
  },
  {
   "cell_type": "markdown",
   "metadata": {},
   "source": [
    "Write a function that takes a number and returns if it is odd or even."
   ]
  },
  {
   "cell_type": "code",
   "execution_count": null,
   "metadata": {},
   "outputs": [],
   "source": []
  },
  {
   "cell_type": "markdown",
   "metadata": {},
   "source": [
    "## Glossary"
   ]
  },
  {
   "cell_type": "markdown",
   "metadata": {},
   "source": [
    "**Write a function that removes punctuation from a sting.**\n",
    "\n",
    "*hint: Create an empty string. Iterate over every letter in the given string. If the letter is not in the punctuation add it to the new string. Return the new string.*\n",
    "\n",
    "    input : \"I'm happy!!! It's working....\"\n",
    "    output : \"Im happy Its working\"    "
   ]
  },
  {
   "cell_type": "code",
   "execution_count": null,
   "metadata": {},
   "outputs": [],
   "source": [
    "punctuation = \"?!',.:;\""
   ]
  },
  {
   "cell_type": "markdown",
   "metadata": {},
   "source": [
    "**Write a function that takes a sting and returns a list of words.**\n",
    "\n",
    "*hint: Create an empty list. Create an empty string. Iterate over every letter in the string. If the letter is not a space add it to the string. Otherwise add the string to the list and set the string back to empty. Check the last word is added.*\n",
    "\n",
    "    input : \"Im happy Its working\"\n",
    "    output : [\"Im\",\"happy\",\"Its\",\"working\"]\n"
   ]
  },
  {
   "cell_type": "code",
   "execution_count": null,
   "metadata": {},
   "outputs": [],
   "source": []
  },
  {
   "cell_type": "markdown",
   "metadata": {},
   "source": [
    "**Write a function that removes common words from a list of words.**\n",
    "\n",
    "*hint: Create an empty list. Iterate over every word in the list. If the word is not in the list of common words add it to the new list. Return the new list.*\n",
    "\n",
    "    input : [\"Im\",\"happy\",\"Its\",\"working\"]\n",
    "    output : [\"happy\",\"working\"]"
   ]
  },
  {
   "cell_type": "code",
   "execution_count": null,
   "metadata": {},
   "outputs": [],
   "source": [
    "stopWords = [ \"a\", \"i\", \"it\", \"am\", \"at\", \"on\", \"in\", \"to\", \"too\", \"very\", \\               \n",
    "             \"of\", \"from\", \"here\", \"even\", \"the\", \"but\", \"and\", \"is\", \"my\", \\               \n",
    "             \"them\", \"then\", \"this\", \"that\", \"than\", \"though\", \"so\", \"are\" ]"
   ]
  },
  {
   "cell_type": "markdown",
   "metadata": {},
   "source": [
    "**Write a function that removes any endings from a word.**\n",
    "\n",
    "*hint: Iterate over the list of endings. If the word ends with any of the endings return the word minus the ending. (use len(ending) and slicing, so for end \"s\" check the last letter, \"ed\" check the last 2 letters and \"ing\" check the last 3 letters)*\n",
    "\n",
    "    input : \"working\"\n",
    "    output : \"work\""
   ]
  },
  {
   "cell_type": "code",
   "execution_count": null,
   "metadata": {},
   "outputs": [],
   "source": [
    "endings = [ \"ing\", \"ed\", \"er\", \"es\", \"ly\", \"s\" ]"
   ]
  },
  {
   "cell_type": "markdown",
   "metadata": {},
   "source": [
    "**Write a function that calls the function above to strip all the endings from a list of words**\n",
    "\n",
    "*Optional: Strip multiple endings off a word.*\n",
    "\n",
    "    input : [\"hello\",\"workings\",\"talked\"]\n",
    "    output : [\"hello\",\"work\",\"talk\"]"
   ]
  },
  {
   "cell_type": "code",
   "execution_count": null,
   "metadata": {},
   "outputs": [],
   "source": []
  },
  {
   "cell_type": "markdown",
   "metadata": {},
   "source": [
    "**Write a function that takes a dictionary, a list of words and a number and returns the dictionary with each word(key) having the number added to its values.** \n",
    "\n",
    "*hint: The dictionary has words as keys and list of numbers as values. For each word in the list, if the word is not in the dictionary add it and its value is a list containing the number. If the word is already in the dictionary check to see if the number is already in the list, if not add it to the list.*\n",
    "\n",
    "    input : dict : {\"apple\":[1,2],\"banana\":[1]}\n",
    "            list : [\"carrot\", \"banana\",\"carrot\"]\n",
    "            number : 3\n",
    "    output: dict : {\"apple\":[1,2],\"banana\":[1,3],\"carrot\":[3]}"
   ]
  },
  {
   "cell_type": "code",
   "execution_count": null,
   "metadata": {},
   "outputs": [],
   "source": []
  },
  {
   "cell_type": "markdown",
   "metadata": {},
   "source": [
    "**Write a function that takes a dictionary and prints out its contents.**\n",
    "\n",
    "*hint: for each entry in the dictionary set up an empty string. Extract the information from the dictionary and add it to the string. Then print the string.\n",
    "\n",
    "    input : dict : {\"apple\":[1,2],\"banana\":[1,3],\"carrot\":[3]}\n",
    "    output : apple : 1,2\n",
    "             banana : 1,3\n",
    "             carrot : 3"
   ]
  },
  {
   "cell_type": "code",
   "execution_count": null,
   "metadata": {},
   "outputs": [],
   "source": []
  },
  {
   "cell_type": "markdown",
   "metadata": {},
   "source": [
    "**Using the functions written above, write a program that takes a list of strings. Each string represents a line. The program should print a glossary of every (non common) word and the lines on which it appears.**\n",
    "\n",
    "*hint: For each string (have a variable line counting what line the string is) - convert it all to lower case using the .lower() method (see code below). Strip out all the punctuation. Split it into words. Remove the common words. Take off any endings. Add the word and line number to the dictionary - then process the next string. When all the lines have been process print out the dictionary.*\n",
    "\n",
    "    input :[\"I like an apple\",\"I like a banana\",\"Apples and bananas are good\"]\n",
    "    output : like : 1,2\n",
    "             apple : 1,3\n",
    "             banana :2,3\n",
    "             good : 3"
   ]
  },
  {
   "cell_type": "code",
   "execution_count": null,
   "metadata": {},
   "outputs": [],
   "source": []
  }
 ],
 "metadata": {
  "kernelspec": {
   "display_name": "Python 3",
   "language": "python",
   "name": "python3"
  },
  "language_info": {
   "codemirror_mode": {
    "name": "ipython",
    "version": 3
   },
   "file_extension": ".py",
   "mimetype": "text/x-python",
   "name": "python",
   "nbconvert_exporter": "python",
   "pygments_lexer": "ipython3",
   "version": "3.6.5"
  }
 },
 "nbformat": 4,
 "nbformat_minor": 2
}

