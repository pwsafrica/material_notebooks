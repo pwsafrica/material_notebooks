{
 "cells": [
  {
   "cell_type": "markdown",
   "metadata": {},
   "source": [
    "## Data analysis\n",
    "\n",
    "### In this exercise, you are goining to experience how to use pandas to analyse the results of a crowdsourcing expriement.\n",
    "\n",
    "#### FigureEight is a crowdsourcing website where you can hire people to do task that takes a long time and labour. In this case Figure Eight was used to ask the crowd to label a set of tweets as related to protest events or not and if  these tweets report violent incidents. \n",
    "\n",
    "#### This exercise asks you to do basic tasks on the crowdsourcing data to clean it, visulaize it and make it ready to be used further in the Data science process."
   ]
  },
  {
   "cell_type": "markdown",
   "metadata": {},
   "source": [
    "**Step 1: import the data from csv file CF_full_report_20_05_2018.csv and explore it by showing:**\n",
    "* Print the first 5 records \n",
    "* Shape\n",
    "* Columns'names\n",
    "  "
   ]
  },
  {
   "cell_type": "code",
   "execution_count": 1,
   "metadata": {},
   "outputs": [],
   "source": [
    "import pandas as pd\n",
    "import matplotlib.pyplot as plt\n",
    "import numpy as np\n",
    "from nltk.tokenize import word_tokenize"
   ]
  },
  {
   "cell_type": "code",
   "execution_count": 3,
   "metadata": {},
   "outputs": [],
   "source": [
    "# Read CF_full_report_20_05_2018.csv in a dataframe\n"
   ]
  },
  {
   "cell_type": "code",
   "execution_count": null,
   "metadata": {},
   "outputs": [],
   "source": [
    "#Print the first 5 records \n"
   ]
  },
  {
   "cell_type": "code",
   "execution_count": 4,
   "metadata": {},
   "outputs": [],
   "source": [
    "# print datafrmae shape"
   ]
  },
  {
   "cell_type": "code",
   "execution_count": 5,
   "metadata": {},
   "outputs": [],
   "source": [
    "# print data frmae columns' names"
   ]
  },
  {
   "cell_type": "markdown",
   "metadata": {},
   "source": [
    "**As you can see the column names are long and not so meaningful. So we will start with renameing the columns:\n",
    "'does_this_tweet_reportdiscuss_violent_incidents_happened_during_the_protest':'violence'\n",
    "'is_this_tweet_related_to_turkish_protests_2013' : 'protest'**\n",
    "\n",
    "To rename columns in a dataframe use rename() function along with dictionary"
   ]
  },
  {
   "cell_type": "code",
   "execution_count": 6,
   "metadata": {},
   "outputs": [],
   "source": [
    "# create a dictionary for the new names mappings\n"
   ]
  },
  {
   "cell_type": "code",
   "execution_count": null,
   "metadata": {},
   "outputs": [],
   "source": [
    "# use rename() function to rename columns'names in a dataframe\n",
    "df_CF_all.rename(columns=column_names, inplace =True)"
   ]
  },
  {
   "cell_type": "markdown",
   "metadata": {},
   "source": [
    "**When you use crowdsourcing data, you provide the users with test questions which are sample of labeled data to test the user's accuracy. These data are under the column '_golden'**\n",
    "\n",
    "Extract all the test questions and save them in a dataframe called df_CF_all_test_questions"
   ]
  },
  {
   "cell_type": "code",
   "execution_count": null,
   "metadata": {},
   "outputs": [],
   "source": []
  },
  {
   "cell_type": "markdown",
   "metadata": {},
   "source": [
    "**Print the length of the test question set we have**"
   ]
  },
  {
   "cell_type": "code",
   "execution_count": null,
   "metadata": {},
   "outputs": [],
   "source": []
  },
  {
   "cell_type": "markdown",
   "metadata": {},
   "source": [
    "**There are duplications in the test question set because they are labeled several times as all the users have to do some of them. Find the number of unique test questions**"
   ]
  },
  {
   "cell_type": "code",
   "execution_count": null,
   "metadata": {},
   "outputs": [],
   "source": []
  },
  {
   "cell_type": "markdown",
   "metadata": {},
   "source": [
    "**Now print the head records of the uniques test questions**"
   ]
  },
  {
   "cell_type": "code",
   "execution_count": null,
   "metadata": {},
   "outputs": [],
   "source": []
  },
  {
   "cell_type": "markdown",
   "metadata": {},
   "source": [
    "** As you can see ther are alot of columns and it makes it less readable. extract only text, _worker_id and _trust**"
   ]
  },
  {
   "cell_type": "code",
   "execution_count": null,
   "metadata": {},
   "outputs": [],
   "source": []
  },
  {
   "cell_type": "markdown",
   "metadata": {},
   "source": [
    "**Now we want to show the avergae performance score of each of  workers on each of test questions, the min score and the max score**"
   ]
  },
  {
   "cell_type": "code",
   "execution_count": null,
   "metadata": {},
   "outputs": [],
   "source": [
    "# complete the following code\n",
    "text, avg_user_trust, min_user_trust, max_user_trust = [],[],[],[]\n",
    "\n",
    "for title, group in df_CF_all_test_questions_grp_by_text:\n",
    "    avg_trust = group['_trust'].aggregate(np.mean)"
   ]
  },
  {
   "cell_type": "markdown",
   "metadata": {},
   "source": [
    "**create a new dataframe from the values in text, avg_user_trust, min_user_trust, max_user_trust**\n"
   ]
  },
  {
   "cell_type": "code",
   "execution_count": null,
   "metadata": {},
   "outputs": [],
   "source": []
  },
  {
   "cell_type": "markdown",
   "metadata": {},
   "source": [
    "**plot a histogram for the average score of workers'trust on the test questions**"
   ]
  },
  {
   "cell_type": "code",
   "execution_count": null,
   "metadata": {},
   "outputs": [],
   "source": []
  },
  {
   "cell_type": "markdown",
   "metadata": {},
   "source": [
    "**Now lets work on the actual data. Select all the data that are not test questions**"
   ]
  },
  {
   "cell_type": "code",
   "execution_count": null,
   "metadata": {},
   "outputs": [],
   "source": []
  },
  {
   "cell_type": "markdown",
   "metadata": {},
   "source": [
    "**plot the histogram of violence againt non violence tweets.**"
   ]
  },
  {
   "cell_type": "code",
   "execution_count": null,
   "metadata": {},
   "outputs": [],
   "source": []
  },
  {
   "cell_type": "markdown",
   "metadata": {},
   "source": [
    "**plot the histogram of protest againt non protest tweets.**"
   ]
  },
  {
   "cell_type": "code",
   "execution_count": null,
   "metadata": {},
   "outputs": [],
   "source": []
  },
  {
   "cell_type": "markdown",
   "metadata": {},
   "source": [
    "**As yu can see the number of violence tweets are fewer than the non violence tweets, however, it isnot the case for protest vs non_protest. Let's try to investigate this further by finding the most occuring words in each of violence and non violence tweets and same for protest and non protest tweets**"
   ]
  },
  {
   "cell_type": "markdown",
   "metadata": {},
   "source": [
    "** let's start with Create two subsets of the tweets that are labeled as protest tweets and non protest. Print how many tweets there are in each subset**"
   ]
  },
  {
   "cell_type": "code",
   "execution_count": null,
   "metadata": {},
   "outputs": [],
   "source": []
  },
  {
   "cell_type": "markdown",
   "metadata": {},
   "source": [
    "**repeat the previous step for violence tweets**"
   ]
  },
  {
   "cell_type": "code",
   "execution_count": null,
   "metadata": {},
   "outputs": [],
   "source": []
  },
  {
   "cell_type": "markdown",
   "metadata": {},
   "source": [
    "**Here is a function used to find hte most frequent words in a list**"
   ]
  },
  {
   "cell_type": "code",
   "execution_count": 7,
   "metadata": {},
   "outputs": [],
   "source": [
    "def word_frequencies(word_list):\n",
    "    freq={}\n",
    "\n",
    "    for word in word_list:\n",
    "        count=freq.get(word,0)\n",
    "        freq[word]=count + 1\n",
    "\n",
    "    frequency_list  = freq.keys()    \n",
    "\n",
    "    results = []\n",
    "    for word in frequency_list:\n",
    "        tuple = (word, freq[word])\n",
    "        results.append(tuple)\n",
    "\n",
    "    byFreq=sorted(results, key=lambda word: word[1], reverse=True)\n",
    "\n",
    "\n",
    "    words_names=[]\n",
    "    words_count=[]\n",
    "    for (word, freq) in byFreq[:10]:\n",
    "        print (word, freq)\n",
    "        words_names.append(word)\n",
    "        words_count.append(freq)\n",
    "    return words_names, words_count  "
   ]
  },
  {
   "cell_type": "markdown",
   "metadata": {},
   "source": [
    "** To be able to use word_frequencies on the text we need to apply a function called tokenize (a function that convert one string of text to a list of words)  to the text column in each of the subsets we created in the previous step and add them to new variables**\n",
    "\n",
    "hint: The function is ready to use called word_tokenize (string)"
   ]
  },
  {
   "cell_type": "code",
   "execution_count": null,
   "metadata": {},
   "outputs": [],
   "source": []
  },
  {
   "cell_type": "markdown",
   "metadata": {},
   "source": [
    "**To be able to visualize these word lsits, you need to do something called flatten lists. When you have a list of lists into one list. the cose is written for you**"
   ]
  },
  {
   "cell_type": "code",
   "execution_count": 9,
   "metadata": {},
   "outputs": [],
   "source": [
    "violence_wordslist = [item for items in violence_wordslist for item in items] #flatten the list of lists into one list\n",
    "non_violence_wordslist = [item for items in non_violence_wordslist for item in items] #flatten the list of lists into one list\n",
    "protest_wordslist = [item for items in protest_wordslist for item in items] #flatten the list of lists into one list\n",
    "non_protest_wordslist = [item for items in non_protest_wordslist for item in items] #flatten the list of lists into one list"
   ]
  },
  {
   "cell_type": "markdown",
   "metadata": {},
   "source": [
    "**Now apply the word frquency function to the the output of the flattening step. Then plot the output**"
   ]
  },
  {
   "cell_type": "code",
   "execution_count": null,
   "metadata": {},
   "outputs": [],
   "source": [
    "# the most frequent words in violent tweets"
   ]
  },
  {
   "cell_type": "code",
   "execution_count": null,
   "metadata": {},
   "outputs": [],
   "source": [
    "# the most frequent words in non-violent tweets"
   ]
  },
  {
   "cell_type": "code",
   "execution_count": null,
   "metadata": {},
   "outputs": [],
   "source": []
  },
  {
   "cell_type": "code",
   "execution_count": null,
   "metadata": {},
   "outputs": [],
   "source": []
  }
 ],
 "metadata": {
  "kernelspec": {
   "display_name": "Python 3",
   "language": "python",
   "name": "python3"
  },
  "language_info": {
   "codemirror_mode": {
    "name": "ipython",
    "version": 3
   },
   "file_extension": ".py",
   "mimetype": "text/x-python",
   "name": "python",
   "nbconvert_exporter": "python",
   "pygments_lexer": "ipython3",
   "version": "3.5.3"
  }
 },
 "nbformat": 4,
 "nbformat_minor": 2
}
