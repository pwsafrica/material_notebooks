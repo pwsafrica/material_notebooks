{
 "cells": [
  {
   "cell_type": "markdown",
   "metadata": {},
   "source": [
    "# Numerical arrays in python (Numpy)"
   ]
  },
  {
   "cell_type": "markdown",
   "metadata": {},
   "source": [
    "## Arrays\n",
    "\n",
    "### What are they?\n",
    "   * A Data type \n",
    "   * A container which can hold a fixed number of items of the same type \n",
    "   * Numerical arrays are arrays which all the elements are of numerical type (int or float)\n",
    "   ![alt] [id] \n",
    "   [id]: ../imgs/arrays.png \"Arrays\"    "
   ]
  },
  {
   "cell_type": "markdown",
   "metadata": {},
   "source": [
    "### Why do we need them?\n",
    "  * **Abstraction**: extend operations we apply on single numbers to entire array of numbers\n",
    "  *  __Efficiency__: compact and computationally effiecient"
   ]
  },
  {
   "cell_type": "markdown",
   "metadata": {},
   "source": [
    "## Numpy\n",
    "A fundemental package for large multi-dimensional arrays and matrices along with high-level mathematical functions to operate on these arrays."
   ]
  },
  {
   "cell_type": "code",
   "execution_count": 2,
   "metadata": {},
   "outputs": [],
   "source": [
    "import numpy as np"
   ]
  },
  {
   "cell_type": "markdown",
   "metadata": {},
   "source": [
    "### Number types:\n",
    "   * Integers\n",
    "   * Floats\n",
    "   * NaN"
   ]
  },
  {
   "cell_type": "code",
   "execution_count": 10,
   "metadata": {},
   "outputs": [
    {
     "name": "stdout",
     "output_type": "stream",
     "text": [
      "Integer array: \n",
      " [0 1 2 3 4 5 6 7 8 9] \n",
      "\n",
      "Float array: \n",
      " [0.  0.2 0.4 0.6 0.8 1.  1.2 1.4 1.6 1.8 2.  2.2 2.4 2.6 2.8 3.  3.2 3.4\n",
      " 3.6 3.8 4.  4.2 4.4 4.6 4.8] \n",
      "\n",
      "Nan array: \n",
      " [nan nan nan] \n",
      "\n"
     ]
    }
   ],
   "source": [
    "x = np.arange(0,10,1)\n",
    "y = np.arange(0,5,0.2)\n",
    "z = np.full(3, np.nan)\n",
    "\n",
    "print(\"Integer array: \\n\", x, \"\\n\")\n",
    "print(\"Float array: \\n\", y, \"\\n\")\n",
    "print(\"Nan array: \\n\", z, \"\\n\")"
   ]
  },
  {
   "cell_type": "markdown",
   "metadata": {},
   "source": [
    "### Attributes:\n",
    "  * **Shape**: the array shape is the array dimensions For example, 12X8\n",
    "  * **Type**: the type of the elements: the dtype (e.g. float64)"
   ]
  },
  {
   "cell_type": "code",
   "execution_count": 16,
   "metadata": {},
   "outputs": [
    {
     "name": "stdout",
     "output_type": "stream",
     "text": [
      "shape (3, 5)\n",
      "type float64\n"
     ]
    }
   ],
   "source": [
    "x = np.array([[1,3,5,7,9],\n",
    "              [2,4,6,8,10],\n",
    "              [1.5,2.5,3.5,4.5,5.5]\n",
    "             ])\n",
    "\n",
    "print(\"shape\", x.shape)\n",
    "print(\"type\", x.dtype)"
   ]
  },
  {
   "cell_type": "markdown",
   "metadata": {},
   "source": [
    "### ndarray\n",
    " **ndarray** (n-dimensional arrays) represent sequence with the following charcterised with:\n",
    " * Fixed, predefined size (shape)\n",
    " * Fixed, predefined type(all the elements of the same type)\n",
    " * They can only hold numbers\n",
    " * multidimensional\n",
    " * they are requred to be rectangular (a 2D array must have the same number of columns in each row)"
   ]
  },
  {
   "cell_type": "raw",
   "metadata": {},
   "source": [
    "#For example: \n",
    "  ## Valid array:\n",
    "  1,0,0\n",
    "  0,1,0\n",
    "  0,0,1\n",
    "  \n",
    "  ##Invalid arry:\n",
    "  1,0,0,0,0\n",
    "  0,1\n",
    "  0,01"
   ]
  },
  {
   "cell_type": "markdown",
   "metadata": {},
   "source": [
    "### Indexing and types\n",
    "\n",
    "**The shape of the array is descriped in this order:**\n",
    "    * rows\n",
    "    * columns\n",
    "For example, A= [[0 0 0],\n",
    "                 [0 0 0]]\n",
    "            \n",
    "A is 2X3 arrays means 2 row, 3 columns and (2*3 = 6 elements)\n",
    "    \n",
    "**We index from 0, so element[0,1] of an array means first row, second column**"
   ]
  },
  {
   "cell_type": "markdown",
   "metadata": {},
   "source": [
    "## Creating arrays"
   ]
  },
  {
   "cell_type": "markdown",
   "metadata": {},
   "source": [
    "### np.array\n",
    "\n",
    "np.array() takes a sequence and converts it into an array"
   ]
  },
  {
   "cell_type": "code",
   "execution_count": 18,
   "metadata": {},
   "outputs": [
    {
     "name": "stdout",
     "output_type": "stream",
     "text": [
      "x:\n",
      " [1 2 3 4 5] \n",
      "\n",
      "type:\n",
      " int64\n"
     ]
    }
   ],
   "source": [
    "x = np.array([1,2,3,4,5])\n",
    "\n",
    "print(\"x:\\n\", x, \"\\n\")\n",
    "print(\"type:\\n\", x.dtype)"
   ]
  },
  {
   "cell_type": "markdown",
   "metadata": {},
   "source": [
    "This works also for multi-dimensiona arrays using nestes lists (list of lists)"
   ]
  },
  {
   "cell_type": "code",
   "execution_count": 20,
   "metadata": {},
   "outputs": [
    {
     "name": "stdout",
     "output_type": "stream",
     "text": [
      "y:\n",
      " [[ 1.   2.   3. ]\n",
      " [ 0.   0.5  0. ]\n",
      " [ 5.   0.  10. ]] \n",
      "\n",
      "Shape:\n",
      " (3, 3) \n",
      "\n",
      "type:\n",
      " float64\n"
     ]
    }
   ],
   "source": [
    "y = np.array([[1., 2., 3.],\n",
    "     [0., 0.5, 0.],\n",
    "     [5., 0., 10.]])\n",
    "\n",
    "print(\"y:\\n\", y, \"\\n\")\n",
    "print(\"Shape:\\n\", y.shape, \"\\n\")\n",
    "print(\"type:\\n\", y.dtype)"
   ]
  },
  {
   "cell_type": "code",
   "execution_count": 22,
   "metadata": {},
   "outputs": [
    {
     "name": "stdout",
     "output_type": "stream",
     "text": [
      "y:\n",
      " [list([1.0, 2.0, 3.0]) list([0.0, 0.5]) list([5.0, 0.0, 10.0, 6.0, 10, 5])] \n",
      "\n",
      "Shape:\n",
      " (3,) \n",
      "\n",
      "type:\n",
      " object\n"
     ]
    }
   ],
   "source": [
    "#Ragged arrays  (not rectangular)\n",
    "y = np.array([[1., 2., 3.],\n",
    "     [0., 0.5],\n",
    "     [5., 0., 10.,6., 10,5]])\n",
    "\n",
    "print(\"y:\\n\", y, \"\\n\")\n",
    "print(\"Shape:\\n\", y.shape, \"\\n\")\n",
    "print(\"type:\\n\", y.dtype)"
   ]
  },
  {
   "cell_type": "markdown",
   "metadata": {},
   "source": [
    "### creating blank arrays\n",
    "blank arrays means arrays filled with the same value. This can be done using the following functions:\n",
    "  * **np.zeros(shape)** creates an array with the defined shape full of zeros\n",
    "  * **np.ones(shape)** works like np.zeros but full of 1s\n",
    "  * **np.full(shape,a)** creates an array with the defined shape filled with the scalar value (a)\n",
    "  * **np.zero_like(x)** creates an array with the same shape and type of array (x) but filled with 0s"
   ]
  },
  {
   "cell_type": "code",
   "execution_count": 24,
   "metadata": {},
   "outputs": [
    {
     "name": "stdout",
     "output_type": "stream",
     "text": [
      "[0. 0. 0. 0. 0.]\n"
     ]
    }
   ],
   "source": [
    "x = np.zeros(5)\n",
    "print (x)"
   ]
  },
  {
   "cell_type": "code",
   "execution_count": 25,
   "metadata": {},
   "outputs": [
    {
     "name": "stdout",
     "output_type": "stream",
     "text": [
      "[0 0 0 0 0]\n"
     ]
    }
   ],
   "source": [
    "x = np.zeros((5,), dtype=int)\n",
    "print(x)"
   ]
  },
  {
   "cell_type": "code",
   "execution_count": 26,
   "metadata": {},
   "outputs": [
    {
     "name": "stdout",
     "output_type": "stream",
     "text": [
      "[[0.]\n",
      " [0.]]\n"
     ]
    }
   ],
   "source": [
    "x = np.zeros((2, 1))\n",
    "print(x)"
   ]
  },
  {
   "cell_type": "code",
   "execution_count": 16,
   "metadata": {},
   "outputs": [],
   "source": [
    "x = np.ones(5)\n",
    "print (x)"
   ]
  },
  {
   "cell_type": "code",
   "execution_count": 27,
   "metadata": {},
   "outputs": [
    {
     "name": "stdout",
     "output_type": "stream",
     "text": [
      "[1 1 1 1 1]\n"
     ]
    }
   ],
   "source": [
    "x = np.ones((5,), dtype=int)\n",
    "print(x)"
   ]
  },
  {
   "cell_type": "code",
   "execution_count": 28,
   "metadata": {},
   "outputs": [
    {
     "name": "stdout",
     "output_type": "stream",
     "text": [
      "[[1.]\n",
      " [1.]]\n"
     ]
    }
   ],
   "source": [
    "x = np.ones((2, 1))\n",
    "print(x)"
   ]
  },
  {
   "cell_type": "code",
   "execution_count": 29,
   "metadata": {},
   "outputs": [
    {
     "name": "stdout",
     "output_type": "stream",
     "text": [
      "[[6 6 6 6]\n",
      " [6 6 6 6]\n",
      " [6 6 6 6]]\n"
     ]
    }
   ],
   "source": [
    "s = 6\n",
    "x = np.full((3,4), s)\n",
    "print(x)"
   ]
  },
  {
   "cell_type": "code",
   "execution_count": 32,
   "metadata": {},
   "outputs": [
    {
     "name": "stdout",
     "output_type": "stream",
     "text": [
      "[[0 0 0 0]\n",
      " [0 0 0 0]\n",
      " [0 0 0 0]]\n"
     ]
    }
   ],
   "source": [
    "z = np.zeros_like(x)\n",
    "print(z)"
   ]
  },
  {
   "cell_type": "markdown",
   "metadata": {},
   "source": [
    "### creating arrays (vectors) of increasing numbers\n",
    "\n",
    " * **np.arange(end)** return a vector starting from 0 to end-1\n",
    " * **np.arange(start, end)** returns a vector of numbers from start ... end-1\n",
    " * **np.arange(start, end, step)** return a vector of numbers from start to end-1 increasing by the step value\n"
   ]
  },
  {
   "cell_type": "code",
   "execution_count": 33,
   "metadata": {},
   "outputs": [
    {
     "name": "stdout",
     "output_type": "stream",
     "text": [
      "[0 1 2 3 4]\n"
     ]
    }
   ],
   "source": [
    "x = np.arange(5)\n",
    "print(x)"
   ]
  },
  {
   "cell_type": "code",
   "execution_count": 34,
   "metadata": {},
   "outputs": [
    {
     "name": "stdout",
     "output_type": "stream",
     "text": [
      "[0 1 2 3 4]\n"
     ]
    }
   ],
   "source": [
    "x = np.arange(0,5)\n",
    "print(x)"
   ]
  },
  {
   "cell_type": "code",
   "execution_count": 35,
   "metadata": {},
   "outputs": [
    {
     "name": "stdout",
     "output_type": "stream",
     "text": [
      "[0.  0.5 1.  1.5 2.  2.5 3.  3.5 4.  4.5]\n"
     ]
    }
   ],
   "source": [
    "x = np.arange(0, 5, 0.5)\n",
    "print(x)"
   ]
  },
  {
   "cell_type": "markdown",
   "metadata": {},
   "source": [
    "### Loadig and saving arrays\n",
    "numpy arrays can be saved to and loaded from local text files \n",
    "\n",
    "* **np.savetxt(filename, array)** \n",
    "* **np.loadtxt(filename)**"
   ]
  },
  {
   "cell_type": "code",
   "execution_count": 45,
   "metadata": {},
   "outputs": [],
   "source": [
    "np.savetxt('test_array.txt', x)"
   ]
  },
  {
   "cell_type": "code",
   "execution_count": 47,
   "metadata": {},
   "outputs": [
    {
     "name": "stdout",
     "output_type": "stream",
     "text": [
      "[0.  0.5 1.  1.5 2.  2.5 3.  3.5 4.  4.5]\n"
     ]
    }
   ],
   "source": [
    "a = np.loadtxt('test_array.txt')\n",
    "print(a)"
   ]
  },
  {
   "cell_type": "markdown",
   "metadata": {},
   "source": [
    "## Indexing arrays\n"
   ]
  },
  {
   "cell_type": "code",
   "execution_count": 4,
   "metadata": {},
   "outputs": [
    {
     "name": "stdout",
     "output_type": "stream",
     "text": [
      "[0 1 2 3 4 5 6 7 8 9]\n"
     ]
    }
   ],
   "source": [
    "x = np.arange(10)\n",
    "print (x)"
   ]
  },
  {
   "cell_type": "code",
   "execution_count": 7,
   "metadata": {},
   "outputs": [
    {
     "name": "stdout",
     "output_type": "stream",
     "text": [
      "0\n"
     ]
    }
   ],
   "source": [
    "print(x[0])"
   ]
  },
  {
   "cell_type": "code",
   "execution_count": 5,
   "metadata": {},
   "outputs": [
    {
     "name": "stdout",
     "output_type": "stream",
     "text": [
      "2\n"
     ]
    }
   ],
   "source": [
    "print(x[2])"
   ]
  },
  {
   "cell_type": "code",
   "execution_count": 6,
   "metadata": {},
   "outputs": [
    {
     "name": "stdout",
     "output_type": "stream",
     "text": [
      "8\n"
     ]
    }
   ],
   "source": [
    "print(x[-2])"
   ]
  },
  {
   "cell_type": "markdown",
   "metadata": {},
   "source": [
    "### Indexing multi-dimensional array"
   ]
  },
  {
   "cell_type": "code",
   "execution_count": 26,
   "metadata": {},
   "outputs": [
    {
     "name": "stdout",
     "output_type": "stream",
     "text": [
      "[[ 1.   2.   3. ]\n",
      " [ 0.   0.5  0. ]\n",
      " [ 5.   0.  10. ]]\n"
     ]
    }
   ],
   "source": [
    "y = np.array([[1., 2., 3.],\n",
    "     [0., 0.5, 0.],\n",
    "     [5., 0., 10.]])\n",
    "\n",
    "print(y)"
   ]
  },
  {
   "cell_type": "code",
   "execution_count": 27,
   "metadata": {},
   "outputs": [
    {
     "name": "stdout",
     "output_type": "stream",
     "text": [
      "[1. 2. 3.]\n"
     ]
    }
   ],
   "source": [
    "print(y[0])"
   ]
  },
  {
   "cell_type": "code",
   "execution_count": 28,
   "metadata": {},
   "outputs": [
    {
     "name": "stdout",
     "output_type": "stream",
     "text": [
      "0.5\n"
     ]
    }
   ],
   "source": [
    "print(y[1,1])"
   ]
  },
  {
   "cell_type": "markdown",
   "metadata": {},
   "source": [
    "## Slicing\n",
    "Slice items starting from index "
   ]
  },
  {
   "cell_type": "code",
   "execution_count": 33,
   "metadata": {},
   "outputs": [
    {
     "name": "stdout",
     "output_type": "stream",
     "text": [
      "[0 1 2 3 4 5 6 7 8 9]\n"
     ]
    }
   ],
   "source": [
    "a = np.arange(10) \n",
    "print(a)"
   ]
  },
  {
   "cell_type": "code",
   "execution_count": 35,
   "metadata": {},
   "outputs": [
    {
     "name": "stdout",
     "output_type": "stream",
     "text": [
      "[2 3 4 5 6 7 8 9]\n"
     ]
    }
   ],
   "source": [
    "print (a[2:])"
   ]
  },
  {
   "cell_type": "code",
   "execution_count": 36,
   "metadata": {},
   "outputs": [
    {
     "name": "stdout",
     "output_type": "stream",
     "text": [
      "[2 3 4]\n"
     ]
    }
   ],
   "source": [
    "# slice items between indexes \n",
    "print (a[2:5])"
   ]
  },
  {
   "cell_type": "code",
   "execution_count": 37,
   "metadata": {},
   "outputs": [
    {
     "name": "stdout",
     "output_type": "stream",
     "text": [
      "[[1 2 3]\n",
      " [3 4 5]\n",
      " [4 5 6]]\n"
     ]
    }
   ],
   "source": [
    "a = np.array([[1,2,3],[3,4,5],[4,5,6]]) \n",
    "print (a)"
   ]
  },
  {
   "cell_type": "code",
   "execution_count": 38,
   "metadata": {},
   "outputs": [
    {
     "name": "stdout",
     "output_type": "stream",
     "text": [
      "Now we will slice the array from the index a[1:]\n",
      "[[3 4 5]\n",
      " [4 5 6]]\n"
     ]
    }
   ],
   "source": [
    "# slice items starting from index\n",
    "print('Now we will slice the array from the index a[1:]')\n",
    "print(a[1:])"
   ]
  },
  {
   "cell_type": "markdown",
   "metadata": {},
   "source": [
    "## Rearange"
   ]
  },
  {
   "cell_type": "code",
   "execution_count": 39,
   "metadata": {},
   "outputs": [
    {
     "name": "stdout",
     "output_type": "stream",
     "text": [
      "[[10 20 30 40 50]\n",
      " [ 6  7  8  9 10]]\n"
     ]
    }
   ],
   "source": [
    "a = np.array([[10, 20, 30, 40, 50],\n",
    "             [ 6,  7,  8,  9, 10]])\n",
    "\n",
    "print(a)"
   ]
  },
  {
   "cell_type": "code",
   "execution_count": 41,
   "metadata": {},
   "outputs": [
    {
     "name": "stdout",
     "output_type": "stream",
     "text": [
      "[0 2 4 3 1]\n"
     ]
    }
   ],
   "source": [
    "your_permutation = [0,4,1,3,2]\n",
    "i = np.argsort(your_permutation)\n",
    "print(i)"
   ]
  },
  {
   "cell_type": "code",
   "execution_count": 42,
   "metadata": {},
   "outputs": [
    {
     "name": "stdout",
     "output_type": "stream",
     "text": [
      "[[10 30 50 40 20]\n",
      " [ 6  8 10  9  7]]\n"
     ]
    }
   ],
   "source": [
    "re_arranged_a = a[:,i]\n",
    "print(re_arranged_a)"
   ]
  },
  {
   "cell_type": "code",
   "execution_count": 43,
   "metadata": {},
   "outputs": [
    {
     "name": "stdout",
     "output_type": "stream",
     "text": [
      "[0. 1. 2. 3. 4. 5. 6. 7. 8.]\n"
     ]
    }
   ],
   "source": [
    "a = np.arange(9, dtype = np.float_)\n",
    "print(a)"
   ]
  },
  {
   "cell_type": "code",
   "execution_count": 45,
   "metadata": {},
   "outputs": [
    {
     "name": "stdout",
     "output_type": "stream",
     "text": [
      "[[0. 1. 2.]\n",
      " [3. 4. 5.]\n",
      " [6. 7. 8.]]\n"
     ]
    }
   ],
   "source": [
    "rearranged_a = a.reshape(3,3) \n",
    "print(rearranged_a)"
   ]
  },
  {
   "cell_type": "markdown",
   "metadata": {},
   "source": [
    "## Arithmatic operations"
   ]
  },
  {
   "cell_type": "code",
   "execution_count": 54,
   "metadata": {},
   "outputs": [
    {
     "name": "stdout",
     "output_type": "stream",
     "text": [
      "[[0 1 2]\n",
      " [3 4 5]]\n"
     ]
    }
   ],
   "source": [
    "a = np.arange(0,6).reshape(2,3)\n",
    "print(a)"
   ]
  },
  {
   "cell_type": "code",
   "execution_count": 55,
   "metadata": {},
   "outputs": [
    {
     "name": "stdout",
     "output_type": "stream",
     "text": [
      "[10 10 10] \n",
      "\n"
     ]
    }
   ],
   "source": [
    "b = np.array([10,10,10]) \n",
    "print(b,'\\n' )"
   ]
  },
  {
   "cell_type": "code",
   "execution_count": 59,
   "metadata": {},
   "outputs": [
    {
     "name": "stdout",
     "output_type": "stream",
     "text": [
      "[[0 3]\n",
      " [1 4]\n",
      " [2 5]]\n"
     ]
    }
   ],
   "source": [
    "at = a.T\n",
    "print(at)"
   ]
  },
  {
   "cell_type": "code",
   "execution_count": 56,
   "metadata": {},
   "outputs": [
    {
     "name": "stdout",
     "output_type": "stream",
     "text": [
      "Add the two arrays:\n",
      "[[10 11 12]\n",
      " [13 14 15]] \n",
      "\n",
      "Subtract the two arrays:\n",
      "[[-10  -9  -8]\n",
      " [ -7  -6  -5]] \n",
      "\n",
      "Multiply the two arrays:\n",
      "[[ 0 10 20]\n",
      " [30 40 50]] \n",
      "\n",
      "Divide the two arrays:\n",
      "[[0.  0.1 0.2]\n",
      " [0.3 0.4 0.5]]\n"
     ]
    }
   ],
   "source": [
    "print ('Add the two arrays:') \n",
    "print (np.add(a,b),'\\n') \n",
    "  \n",
    "\n",
    "print ('Subtract the two arrays:' )\n",
    "print (np.subtract(a,b),'\\n') \n",
    " \n",
    "\n",
    "print ('Multiply the two arrays:') \n",
    "print (np.multiply(a,b), '\\n') \n",
    "   \n",
    "\n",
    "print ('Divide the two arrays:') \n",
    "print (np.divide(a,b))"
   ]
  },
  {
   "cell_type": "code",
   "execution_count": 69,
   "metadata": {},
   "outputs": [
    {
     "name": "stdout",
     "output_type": "stream",
     "text": [
      "[[1 2]\n",
      " [3 4]]\n"
     ]
    }
   ],
   "source": [
    "x = np.arange(1,5).reshape(2,2)\n",
    "print(x)"
   ]
  },
  {
   "cell_type": "code",
   "execution_count": 70,
   "metadata": {},
   "outputs": [
    {
     "name": "stdout",
     "output_type": "stream",
     "text": [
      "[[-2.   1. ]\n",
      " [ 1.5 -0.5]]\n"
     ]
    }
   ],
   "source": [
    "from numpy.linalg import inv\n",
    "\n",
    "xi = inv(x)\n",
    "print(xi)"
   ]
  },
  {
   "cell_type": "code",
   "execution_count": null,
   "metadata": {},
   "outputs": [],
   "source": []
  }
 ],
 "metadata": {
  "kernelspec": {
   "display_name": "Python 3",
   "language": "python",
   "name": "python3"
  },
  "language_info": {
   "codemirror_mode": {
    "name": "ipython",
    "version": 3
   },
   "file_extension": ".py",
   "mimetype": "text/x-python",
   "name": "python",
   "nbconvert_exporter": "python",
   "pygments_lexer": "ipython3",
   "version": "3.5.3"
  }
 },
 "nbformat": 4,
 "nbformat_minor": 2
}
