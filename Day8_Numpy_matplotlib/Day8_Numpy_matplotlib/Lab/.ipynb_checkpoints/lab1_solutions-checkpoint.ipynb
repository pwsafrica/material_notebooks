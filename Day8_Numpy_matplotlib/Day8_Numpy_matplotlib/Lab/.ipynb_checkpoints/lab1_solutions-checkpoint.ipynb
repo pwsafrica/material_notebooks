{
 "cells": [
  {
   "cell_type": "code",
   "execution_count": 1,
   "metadata": {},
   "outputs": [],
   "source": [
    "import numpy as np\n",
    "import matplotlib as mpl\n",
    "import matplotlib.pyplot  as plt\n",
    "%matplotlib inline\n",
    "\n",
    "#import image_audio as ia\n",
    "#from checkarr import array_hash, check_hash"
   ]
  },
  {
   "cell_type": "code",
   "execution_count": 2,
   "metadata": {},
   "outputs": [
    {
     "name": "stdout",
     "output_type": "stream",
     "text": [
      "[1. 2. 3. 4.]\n",
      "float64\n",
      "(4,)\n"
     ]
    }
   ],
   "source": [
    "x = np.array([1.0, 2.0, 3.0, 4.0]) #create an array from a list\n",
    "\n",
    "print(x) # print the values in the array\n",
    "print(x.dtype) # print datatype of values in the array\n",
    "print(x.shape) #print hte shape (dimensions) of the array"
   ]
  },
  {
   "cell_type": "code",
   "execution_count": 3,
   "metadata": {},
   "outputs": [
    {
     "name": "stdout",
     "output_type": "stream",
     "text": [
      "X\n",
      " [[0. 0. 0.]\n",
      " [0. 0. 0.]\n",
      " [0. 0. 0.]]\n"
     ]
    }
   ],
   "source": [
    "x = np.zeros((3,3)) #a 3 X 3 matrix of all zeros\n",
    "print(\"X\\n\", x)"
   ]
  },
  {
   "cell_type": "code",
   "execution_count": 4,
   "metadata": {},
   "outputs": [
    {
     "name": "stdout",
     "output_type": "stream",
     "text": [
      "Y\n",
      " [1. 1. 1. 1. 1. 1. 1. 1. 1. 1. 1. 1. 1.]\n"
     ]
    }
   ],
   "source": [
    "y = np.ones(13) # a 13 element 1 D vector of all ones\n",
    "print(\"Y\\n\", y)"
   ]
  },
  {
   "cell_type": "code",
   "execution_count": 5,
   "metadata": {},
   "outputs": [
    {
     "name": "stdout",
     "output_type": "stream",
     "text": [
      "m\n",
      " [[7 7 7]\n",
      " [7 7 7]\n",
      " [7 7 7]]\n"
     ]
    }
   ],
   "source": [
    "scalar = 7\n",
    "m = np.full((3,3), scalar) #create a matrix or array of specified shape and filled with a value of a scalar\n",
    "print(\"m\\n\",m)"
   ]
  },
  {
   "cell_type": "code",
   "execution_count": 6,
   "metadata": {},
   "outputs": [
    {
     "data": {
      "text/plain": [
       "array([[0, 0, 0],\n",
       "       [0, 0, 0],\n",
       "       [0, 0, 0]])"
      ]
     },
     "execution_count": 6,
     "metadata": {},
     "output_type": "execute_result"
    }
   ],
   "source": [
    "np.zeros_like(m) #create a matrix or array similar to speecifed value with all zeros"
   ]
  },
  {
   "cell_type": "code",
   "execution_count": 7,
   "metadata": {},
   "outputs": [
    {
     "name": "stdout",
     "output_type": "stream",
     "text": [
      "z\n",
      " [[[9.1 9.1 9.1 9.1]\n",
      "  [9.1 9.1 9.1 9.1]\n",
      "  [9.1 9.1 9.1 9.1]]\n",
      "\n",
      " [[9.1 9.1 9.1 9.1]\n",
      "  [9.1 9.1 9.1 9.1]\n",
      "  [9.1 9.1 9.1 9.1]]]\n"
     ]
    }
   ],
   "source": [
    "z = np.full((2,3,4), 9.1) #create a 2 x 3 x 4 with all elements 9.1\n",
    "print (\"z\\n\", z)"
   ]
  },
  {
   "cell_type": "code",
   "execution_count": 8,
   "metadata": {},
   "outputs": [
    {
     "name": "stdout",
     "output_type": "stream",
     "text": [
      "u\n",
      " [[-0.90303521  0.73752315 -0.73139918  0.05660702  0.21292673 -0.90824757\n",
      "   0.44878712  0.88724463]\n",
      " [ 0.49140168  0.00537042 -0.69633685  0.38168164  0.82820277  0.22934836\n",
      "   0.37163889  0.11880155]\n",
      " [-0.95383196 -0.25998005 -0.2577934   0.14970746  0.65657333  0.04015526\n",
      "  -0.53291629 -0.34418517]\n",
      " [-0.60386556 -0.23411018 -0.81738852  0.0013763   0.45507772  0.27447127\n",
      "  -0.68489112 -0.51051261]]\n"
     ]
    }
   ],
   "source": [
    "u = np.random.uniform(-1, 1, (4,8)) #create a 8 column, 4 rows array\n",
    "                                    #with numbers randomly uniform distributed in the range [-1,1) (uniform)\n",
    "print(\"u\\n\", u)"
   ]
  },
  {
   "cell_type": "code",
   "execution_count": 9,
   "metadata": {},
   "outputs": [
    {
     "name": "stdout",
     "output_type": "stream",
     "text": [
      "r\n",
      " [[-1  0  0 -1 -1 -1  0  0]\n",
      " [-1 -1  0  0  0 -1  0 -1]\n",
      " [ 0 -1  0 -1  0  0  0  0]\n",
      " [ 0 -1  0  0  0  0  0  0]]\n"
     ]
    }
   ],
   "source": [
    "r = np.random.randint(-1, 1, (4,8)) #create a 8 column, 4 rows array\n",
    "                                    #with numbers randomly distributed in the range [-1,1) (integers only)\n",
    "print(\"r\\n\", r)"
   ]
  },
  {
   "cell_type": "code",
   "execution_count": 10,
   "metadata": {},
   "outputs": [
    {
     "name": "stdout",
     "output_type": "stream",
     "text": [
      "n\n",
      " [[-1.32396602 -1.86543837 -0.49979236 -1.37756759 -1.90494119 -0.49019172\n",
      "  -0.41780204 -1.32934542]\n",
      " [-2.46980243 -1.92909665 -0.37194639 -0.88619292 -1.55032666  0.02497005\n",
      "  -1.48914592 -0.33403447]\n",
      " [-0.40963241 -0.67401711 -0.11926383 -2.1434283  -3.27833996 -2.2926351\n",
      "  -1.6751237  -2.07100489]\n",
      " [-1.61295574 -1.52198237 -0.514767   -0.32453406 -1.3943939  -0.95237789\n",
      "  -0.19148197 -0.9825172 ]]\n"
     ]
    }
   ],
   "source": [
    "n = np.random.normal(-1, 1, (4,8)) #create a 8 column, 4 rows array\n",
    "                                    #with numbers randomly normally distributed in the range [-1,1)\n",
    "print(\"n\\n\", n)"
   ]
  },
  {
   "cell_type": "code",
   "execution_count": null,
   "metadata": {},
   "outputs": [],
   "source": [
    "snails"
   ]
  }
 ],
 "metadata": {
  "kernelspec": {
   "display_name": "Python 3",
   "language": "python",
   "name": "python3"
  },
  "language_info": {
   "codemirror_mode": {
    "name": "ipython",
    "version": 3
   },
   "file_extension": ".py",
   "mimetype": "text/x-python",
   "name": "python",
   "nbconvert_exporter": "python",
   "pygments_lexer": "ipython3",
   "version": "3.5.3"
  }
 },
 "nbformat": 4,
 "nbformat_minor": 2
}
