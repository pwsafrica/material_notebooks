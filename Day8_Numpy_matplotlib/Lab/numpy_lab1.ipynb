{
 "cells": [
  {
   "cell_type": "code",
   "execution_count": 2,
   "metadata": {},
   "outputs": [],
   "source": [
    "\n"
   ]
  },
  {
   "cell_type": "markdown",
   "metadata": {},
   "source": [
    "# Lab1"
   ]
  },
  {
   "cell_type": "markdown",
   "metadata": {},
   "source": [
    "### Create some arrays"
   ]
  },
  {
   "cell_type": "code",
   "execution_count": 3,
   "metadata": {},
   "outputs": [
    {
     "name": "stdout",
     "output_type": "stream",
     "text": [
      "[1. 2. 3. 4.]\n",
      "float64\n",
      "(4,)\n"
     ]
    }
   ],
   "source": [
    "x = np.array([1.0, 2.0, 3.0, 4.0]) #create an array from a list\n",
    "\n",
    "print(x) # print the values in the array\n",
    "print(x.dtype) # print datatype of values in the array\n",
    "print(x.shape) #print hte shape (dimensions) of the array"
   ]
  },
  {
   "cell_type": "code",
   "execution_count": 4,
   "metadata": {},
   "outputs": [
    {
     "name": "stdout",
     "output_type": "stream",
     "text": [
      "X\n",
      " [[0. 0. 0.]\n",
      " [0. 0. 0.]\n",
      " [0. 0. 0.]]\n"
     ]
    }
   ],
   "source": [
    "x = np.zeros((3,3)) #a 3 X 3 matrix of all zeros\n",
    "print(\"X\\n\", x)"
   ]
  },
  {
   "cell_type": "code",
   "execution_count": 5,
   "metadata": {},
   "outputs": [
    {
     "name": "stdout",
     "output_type": "stream",
     "text": [
      "Y\n",
      " [1. 1. 1. 1. 1. 1. 1. 1. 1. 1. 1. 1. 1.]\n"
     ]
    }
   ],
   "source": [
    "y = np.ones(13) # a 13 element 1 D vector of all ones\n",
    "print(\"Y\\n\", y)"
   ]
  },
  {
   "cell_type": "code",
   "execution_count": 6,
   "metadata": {},
   "outputs": [
    {
     "name": "stdout",
     "output_type": "stream",
     "text": [
      "m\n",
      " [[7 7 7]\n",
      " [7 7 7]\n",
      " [7 7 7]]\n"
     ]
    }
   ],
   "source": [
    "scalar = 7\n",
    "m = np.full((3,3), scalar) #create a matrix or array of specified shape and filled with a value of a scalar\n",
    "print(\"m\\n\",m)"
   ]
  },
  {
   "cell_type": "code",
   "execution_count": 7,
   "metadata": {},
   "outputs": [
    {
     "data": {
      "text/plain": [
       "array([[0, 0, 0],\n",
       "       [0, 0, 0],\n",
       "       [0, 0, 0]])"
      ]
     },
     "execution_count": 7,
     "metadata": {},
     "output_type": "execute_result"
    }
   ],
   "source": [
    "np.zeros_like(m) #create a matrix or array similar to speecifed value with all zeros"
   ]
  },
  {
   "cell_type": "code",
   "execution_count": 8,
   "metadata": {},
   "outputs": [
    {
     "name": "stdout",
     "output_type": "stream",
     "text": [
      "z\n",
      " [[[9.1 9.1 9.1 9.1]\n",
      "  [9.1 9.1 9.1 9.1]\n",
      "  [9.1 9.1 9.1 9.1]]\n",
      "\n",
      " [[9.1 9.1 9.1 9.1]\n",
      "  [9.1 9.1 9.1 9.1]\n",
      "  [9.1 9.1 9.1 9.1]]]\n"
     ]
    }
   ],
   "source": [
    "z = np.full((2,3,4), 9.1) #create a 2 x 3 x 4 with all elements 9.1\n",
    "print (\"z\\n\", z)"
   ]
  },
  {
   "cell_type": "code",
   "execution_count": 9,
   "metadata": {},
   "outputs": [
    {
     "name": "stdout",
     "output_type": "stream",
     "text": [
      "u\n",
      " [[-0.17882095  0.11819598  0.24699511 -0.63225903  0.78077904  0.53323504\n",
      "  -0.41015522  0.88460154]\n",
      " [ 0.11915712 -0.51537732  0.90196973  0.28621471 -0.26583027 -0.72154382\n",
      "   0.71812173 -0.52950245]\n",
      " [-0.49845429  0.765489    0.23665966  0.78967115 -0.09466406  0.37910435\n",
      "  -0.15728868  0.48441858]\n",
      " [ 0.22601063  0.81911189 -0.36930609 -0.49681768  0.59970438 -0.89354992\n",
      "   0.01879212  0.88520653]]\n"
     ]
    }
   ],
   "source": [
    "u = np.random.uniform(-1, 1, (4,8)) #create a 8 column, 4 rows array\n",
    "                                    #with numbers randomly uniform distributed in the range [-1,1) (uniform)\n",
    "print(\"u\\n\", u)"
   ]
  },
  {
   "cell_type": "code",
   "execution_count": 10,
   "metadata": {},
   "outputs": [
    {
     "name": "stdout",
     "output_type": "stream",
     "text": [
      "r\n",
      " [[-1 -1 -1  0  0 -1 -1  0]\n",
      " [ 0  0 -1 -1 -1 -1 -1 -1]\n",
      " [ 0  0  0 -1  0 -1 -1 -1]\n",
      " [ 0  0  0 -1  0  0  0 -1]]\n"
     ]
    }
   ],
   "source": [
    "r = np.random.randint(-1, 1, (4,8)) #create a 8 column, 4 rows array\n",
    "                                    #with numbers randomly distributed in the range [-1,1) (integers only)\n",
    "print(\"r\\n\", r)"
   ]
  },
  {
   "cell_type": "code",
   "execution_count": 11,
   "metadata": {},
   "outputs": [
    {
     "name": "stdout",
     "output_type": "stream",
     "text": [
      "n\n",
      " [[-1.73461142 -2.20960562 -1.55552724 -2.93566798 -1.15699595 -0.39188744\n",
      "  -0.76112502  0.45155941]\n",
      " [-2.95638252 -0.94612865 -0.63218794 -1.3380812  -1.23923781 -0.77921214\n",
      "  -1.02967553 -1.25262444]\n",
      " [ 0.25004625 -2.21650806 -1.55655822 -0.92780037 -1.77484952 -0.04607343\n",
      "  -1.65657077  0.60415138]\n",
      " [-2.13823918 -1.7482697  -0.01057935 -2.08677412 -0.92487373 -0.1109848\n",
      "  -1.93626126 -0.02178016]]\n"
     ]
    }
   ],
   "source": [
    "n = np.random.normal(-1, 1, (4,8)) #create a 8 column, 4 rows array\n",
    "                                    #with numbers randomly normally distributed in the range [-1,1)\n",
    "print(\"n\\n\", n)"
   ]
  },
  {
   "cell_type": "code",
   "execution_count": 12,
   "metadata": {},
   "outputs": [
    {
     "name": "stdout",
     "output_type": "stream",
     "text": [
      "q\n",
      " [0 1 2 3 4 5 6 7 8]\n"
     ]
    }
   ],
   "source": [
    "# an array with 10 elemtns from 0-9\n",
    "q = np.arange(9)\n",
    "print('q\\n', q)"
   ]
  },
  {
   "cell_type": "markdown",
   "metadata": {},
   "source": [
    "### The task"
   ]
  },
  {
   "cell_type": "code",
   "execution_count": 13,
   "metadata": {},
   "outputs": [
    {
     "name": "stdout",
     "output_type": "stream",
     "text": [
      "snails\n",
      " [[ 0.   1.  60.  10.   0.  20. ]\n",
      " [ 0.   1.  60.  15.   0.  20. ]\n",
      " [ 0.   1.  60.  20.   0.  20. ]\n",
      " [ 0.   1.  65.8 10.   0.  20. ]\n",
      " [ 0.   1.  65.8 15.   0.  20. ]\n",
      " [ 0.   1.  65.8 20.   0.  20. ]\n",
      " [ 0.   1.  70.5 10.   0.  20. ]\n",
      " [ 0.   1.  70.5 15.   0.  20. ]\n",
      " [ 0.   1.  70.5 20.   0.  20. ]\n",
      " [ 0.   1.  75.8 10.   0.  20. ]\n",
      " [ 0.   1.  75.8 15.   0.  20. ]\n",
      " [ 0.   1.  75.8 20.   0.  20. ]\n",
      " [ 0.   2.  60.  10.   0.  20. ]\n",
      " [ 0.   2.  60.  15.   1.  20. ]\n",
      " [ 0.   2.  60.  20.   1.  20. ]\n",
      " [ 0.   2.  65.8 10.   0.  20. ]\n",
      " [ 0.   2.  65.8 15.   1.  20. ]\n",
      " [ 0.   2.  65.8 20.   0.  20. ]\n",
      " [ 0.   2.  70.5 10.   0.  20. ]\n",
      " [ 0.   2.  70.5 15.   0.  20. ]\n",
      " [ 0.   2.  70.5 20.   0.  20. ]\n",
      " [ 0.   2.  75.8 10.   0.  20. ]\n",
      " [ 0.   2.  75.8 15.   0.  20. ]\n",
      " [ 0.   2.  75.8 20.   0.  20. ]\n",
      " [ 0.   3.  60.  10.   1.  20. ]\n",
      " [ 0.   3.  60.  15.   4.  20. ]\n",
      " [ 0.   3.  60.  20.   5.  20. ]\n",
      " [ 0.   3.  65.8 10.   0.  20. ]\n",
      " [ 0.   3.  65.8 15.   2.  20. ]\n",
      " [ 0.   3.  65.8 20.   4.  20. ]\n",
      " [ 0.   3.  70.5 10.   0.  20. ]\n",
      " [ 0.   3.  70.5 15.   2.  20. ]\n",
      " [ 0.   3.  70.5 20.   3.  20. ]\n",
      " [ 0.   3.  75.8 10.   0.  20. ]\n",
      " [ 0.   3.  75.8 15.   1.  20. ]\n",
      " [ 0.   3.  75.8 20.   2.  20. ]\n",
      " [ 0.   4.  60.  10.   7.  20. ]\n",
      " [ 0.   4.  60.  15.   7.  20. ]\n",
      " [ 0.   4.  60.  20.   7.  20. ]\n",
      " [ 0.   4.  65.8 10.   4.  20. ]\n",
      " [ 0.   4.  65.8 15.   4.  20. ]\n",
      " [ 0.   4.  65.8 20.   7.  20. ]\n",
      " [ 0.   4.  70.5 10.   3.  20. ]\n",
      " [ 0.   4.  70.5 15.   3.  20. ]\n",
      " [ 0.   4.  70.5 20.   5.  20. ]\n",
      " [ 0.   4.  75.8 10.   2.  20. ]\n",
      " [ 0.   4.  75.8 15.   3.  20. ]\n",
      " [ 0.   4.  75.8 20.   3.  20. ]\n",
      " [ 1.   1.  60.  10.   0.  20. ]\n",
      " [ 1.   1.  60.  15.   0.  20. ]\n",
      " [ 1.   1.  60.  20.   0.  20. ]\n",
      " [ 1.   1.  65.8 10.   0.  20. ]\n",
      " [ 1.   1.  65.8 15.   0.  20. ]\n",
      " [ 1.   1.  65.8 20.   0.  20. ]\n",
      " [ 1.   1.  70.5 10.   0.  20. ]\n",
      " [ 1.   1.  70.5 15.   0.  20. ]\n",
      " [ 1.   1.  70.5 20.   0.  20. ]\n",
      " [ 1.   1.  75.8 10.   0.  20. ]\n",
      " [ 1.   1.  75.8 15.   0.  20. ]\n",
      " [ 1.   1.  75.8 20.   0.  20. ]\n",
      " [ 1.   2.  60.  10.   0.  20. ]\n",
      " [ 1.   2.  60.  15.   3.  20. ]\n",
      " [ 1.   2.  60.  20.   2.  20. ]\n",
      " [ 1.   2.  65.8 10.   0.  20. ]\n",
      " [ 1.   2.  65.8 15.   2.  20. ]\n",
      " [ 1.   2.  65.8 20.   1.  20. ]\n",
      " [ 1.   2.  70.5 10.   0.  20. ]\n",
      " [ 1.   2.  70.5 15.   0.  20. ]\n",
      " [ 1.   2.  70.5 20.   1.  20. ]\n",
      " [ 1.   2.  75.8 10.   1.  20. ]\n",
      " [ 1.   2.  75.8 15.   0.  20. ]\n",
      " [ 1.   2.  75.8 20.   1.  20. ]\n",
      " [ 1.   3.  60.  10.   7.  20. ]\n",
      " [ 1.   3.  60.  15.  11.  20. ]\n",
      " [ 1.   3.  60.  20.  11.  20. ]\n",
      " [ 1.   3.  65.8 10.   4.  20. ]\n",
      " [ 1.   3.  65.8 15.   5.  20. ]\n",
      " [ 1.   3.  65.8 20.   9.  20. ]\n",
      " [ 1.   3.  70.5 10.   2.  20. ]\n",
      " [ 1.   3.  70.5 15.   4.  20. ]\n",
      " [ 1.   3.  70.5 20.   6.  20. ]\n",
      " [ 1.   3.  75.8 10.   2.  20. ]\n",
      " [ 1.   3.  75.8 15.   3.  20. ]\n",
      " [ 1.   3.  75.8 20.   5.  20. ]\n",
      " [ 1.   4.  60.  10.  12.  20. ]\n",
      " [ 1.   4.  60.  15.  14.  20. ]\n",
      " [ 1.   4.  60.  20.  16.  20. ]\n",
      " [ 1.   4.  65.8 10.  10.  20. ]\n",
      " [ 1.   4.  65.8 15.  12.  20. ]\n",
      " [ 1.   4.  65.8 20.  12.  20. ]\n",
      " [ 1.   4.  70.5 10.   5.  20. ]\n",
      " [ 1.   4.  70.5 15.   7.  20. ]\n",
      " [ 1.   4.  70.5 20.   9.  20. ]\n",
      " [ 1.   4.  75.8 10.   4.  20. ]\n",
      " [ 1.   4.  75.8 15.   5.  20. ]\n",
      " [ 1.   4.  75.8 20.   7.  20. ]]\n"
     ]
    }
   ],
   "source": [
    "#load the snails data as a Numpy array called snails\n",
    "#species(binary) exposure(weeks)  humidaty(%) temperture(deg. C) n_deaths  n_snails\n",
    "snails = np.loadtxt(\"Data/snails.txt\")\n",
    "print(\"snails\\n\", snails)"
   ]
  },
  {
   "cell_type": "code",
   "execution_count": 29,
   "metadata": {},
   "outputs": [
    {
     "data": {
      "text/plain": [
       "(96, 6)"
      ]
     },
     "execution_count": 29,
     "metadata": {},
     "output_type": "execute_result"
    }
   ],
   "source": [
    "snails.shape"
   ]
  },
  {
   "cell_type": "code",
   "execution_count": 14,
   "metadata": {},
   "outputs": [
    {
     "name": "stdout",
     "output_type": "stream",
     "text": [
      "hum_first:  60.0\n"
     ]
    }
   ],
   "source": [
    "#humidity in the first entry in the table\n",
    "hum_first = snails[1,2]\n",
    "print(\"hum_first: \",hum_first)"
   ]
  },
  {
   "cell_type": "code",
   "execution_count": 15,
   "metadata": {},
   "outputs": [
    {
     "name": "stdout",
     "output_type": "stream",
     "text": [
      "temp_last:  20.0\n"
     ]
    }
   ],
   "source": [
    "#the temperature in the last entry in the table\n",
    "temp_last = snails[-1,3]\n",
    "print(\"temp_last: \", temp_last)"
   ]
  },
  {
   "cell_type": "code",
   "execution_count": 16,
   "metadata": {},
   "outputs": [
    {
     "name": "stdout",
     "output_type": "stream",
     "text": [
      "week\n",
      " [1. 1. 1. 1. 1. 1. 1. 1. 1. 1. 1. 1. 2. 2. 2. 2. 2. 2. 2. 2. 2. 2. 2. 2.\n",
      " 3. 3. 3. 3. 3. 3. 3. 3. 3. 3. 3. 3. 4. 4. 4. 4. 4. 4. 4. 4. 4. 4. 4. 4.\n",
      " 1. 1. 1. 1. 1. 1. 1. 1. 1. 1. 1. 1. 2. 2. 2. 2. 2. 2. 2. 2. 2. 2. 2. 2.\n",
      " 3. 3. 3. 3. 3. 3. 3. 3. 3. 3. 3. 3. 4. 4. 4. 4. 4. 4. 4. 4. 4. 4. 4. 4.]\n"
     ]
    }
   ],
   "source": [
    "#the whole column of \"week_exposure\"\n",
    "week_exp = snails[:,1]\n",
    "print(\"week\\n\", week_exp)"
   ]
  },
  {
   "cell_type": "code",
   "execution_count": 17,
   "metadata": {},
   "outputs": [
    {
     "name": "stdout",
     "output_type": "stream",
     "text": [
      "8th week observations [ 0.   1.  70.5 20.   0.  20. ]\n"
     ]
    }
   ],
   "source": [
    "#the 8th row of the observations\n",
    "observations = snails[8,:]\n",
    "print(\"8th week observations\", observations)"
   ]
  },
  {
   "cell_type": "markdown",
   "metadata": {},
   "source": [
    "### Aggregate function"
   ]
  },
  {
   "cell_type": "code",
   "execution_count": 18,
   "metadata": {},
   "outputs": [
    {
     "name": "stdout",
     "output_type": "stream",
     "text": [
      "total deaths:  275.0\n"
     ]
    }
   ],
   "source": [
    "#total number of snails that died\n",
    "total_deaths = np.sum(snails[:,4])\n",
    "print(\"total deaths: \", total_deaths)"
   ]
  },
  {
   "cell_type": "code",
   "execution_count": 19,
   "metadata": {},
   "outputs": [
    {
     "name": "stdout",
     "output_type": "stream",
     "text": [
      "total_still_alive:  1645.0\n"
     ]
    }
   ],
   "source": [
    "#total number of snails that survived the whole study\n",
    "total_still_alive = np.sum(snails[:,-1]) - total_deaths\n",
    "print(\"total_still_alive: \", total_still_alive)"
   ]
  },
  {
   "cell_type": "code",
   "execution_count": 20,
   "metadata": {},
   "outputs": [
    {
     "name": "stdout",
     "output_type": "stream",
     "text": [
      "mean_temp:  15.0\n"
     ]
    }
   ],
   "source": [
    "#mean tempretures in the whole study\n",
    "mean_temp = np.mean(snails[:,3])\n",
    "print(\"mean_temp: \", mean_temp)"
   ]
  },
  {
   "cell_type": "code",
   "execution_count": 21,
   "metadata": {},
   "outputs": [
    {
     "name": "stdout",
     "output_type": "stream",
     "text": [
      "max_humidity:  75.8\n"
     ]
    }
   ],
   "source": [
    "#hightest humidity\n",
    "max_humidity = np.max(snails[:,2])\n",
    "print(\"max_humidity: \", max_humidity)"
   ]
  },
  {
   "cell_type": "code",
   "execution_count": 22,
   "metadata": {},
   "outputs": [
    {
     "name": "stdout",
     "output_type": "stream",
     "text": [
      "avergae_death_rate:  0.14322916666666666\n"
     ]
    }
   ],
   "source": [
    "#mean of the ratio of snail deaths to snails in the study\n",
    "average_death_rate = np.mean(snails[:,4] / snails[:, -1])\n",
    "print(\"avergae_death_rate: \", average_death_rate)"
   ]
  },
  {
   "cell_type": "code",
   "execution_count": 23,
   "metadata": {},
   "outputs": [
    {
     "name": "stdout",
     "output_type": "stream",
     "text": [
      "snail_weeks:  4800.0\n"
     ]
    }
   ],
   "source": [
    "#the total amount of snails effort that went into the study (the number of snails times number of weeks)\n",
    "snail_weeks = np.sum(snails[:,5] * snails[:,1])\n",
    "print(\"snail_weeks: \", snail_weeks)"
   ]
  },
  {
   "cell_type": "markdown",
   "metadata": {},
   "source": [
    "### Boolean indexing"
   ]
  },
  {
   "cell_type": "code",
   "execution_count": 26,
   "metadata": {},
   "outputs": [
    {
     "name": "stdout",
     "output_type": "stream",
     "text": [
      "species 0\n",
      " [[ 0.   1.  60.  10.   0.  20. ]\n",
      " [ 0.   1.  60.  15.   0.  20. ]\n",
      " [ 0.   1.  60.  20.   0.  20. ]\n",
      " [ 0.   1.  65.8 10.   0.  20. ]\n",
      " [ 0.   1.  65.8 15.   0.  20. ]\n",
      " [ 0.   1.  65.8 20.   0.  20. ]\n",
      " [ 0.   1.  70.5 10.   0.  20. ]\n",
      " [ 0.   1.  70.5 15.   0.  20. ]\n",
      " [ 0.   1.  70.5 20.   0.  20. ]\n",
      " [ 0.   1.  75.8 10.   0.  20. ]\n",
      " [ 0.   1.  75.8 15.   0.  20. ]\n",
      " [ 0.   1.  75.8 20.   0.  20. ]\n",
      " [ 0.   2.  60.  10.   0.  20. ]\n",
      " [ 0.   2.  60.  15.   1.  20. ]\n",
      " [ 0.   2.  60.  20.   1.  20. ]\n",
      " [ 0.   2.  65.8 10.   0.  20. ]\n",
      " [ 0.   2.  65.8 15.   1.  20. ]\n",
      " [ 0.   2.  65.8 20.   0.  20. ]\n",
      " [ 0.   2.  70.5 10.   0.  20. ]\n",
      " [ 0.   2.  70.5 15.   0.  20. ]\n",
      " [ 0.   2.  70.5 20.   0.  20. ]\n",
      " [ 0.   2.  75.8 10.   0.  20. ]\n",
      " [ 0.   2.  75.8 15.   0.  20. ]\n",
      " [ 0.   2.  75.8 20.   0.  20. ]\n",
      " [ 0.   3.  60.  10.   1.  20. ]\n",
      " [ 0.   3.  60.  15.   4.  20. ]\n",
      " [ 0.   3.  60.  20.   5.  20. ]\n",
      " [ 0.   3.  65.8 10.   0.  20. ]\n",
      " [ 0.   3.  65.8 15.   2.  20. ]\n",
      " [ 0.   3.  65.8 20.   4.  20. ]\n",
      " [ 0.   3.  70.5 10.   0.  20. ]\n",
      " [ 0.   3.  70.5 15.   2.  20. ]\n",
      " [ 0.   3.  70.5 20.   3.  20. ]\n",
      " [ 0.   3.  75.8 10.   0.  20. ]\n",
      " [ 0.   3.  75.8 15.   1.  20. ]\n",
      " [ 0.   3.  75.8 20.   2.  20. ]\n",
      " [ 0.   4.  60.  10.   7.  20. ]\n",
      " [ 0.   4.  60.  15.   7.  20. ]\n",
      " [ 0.   4.  60.  20.   7.  20. ]\n",
      " [ 0.   4.  65.8 10.   4.  20. ]\n",
      " [ 0.   4.  65.8 15.   4.  20. ]\n",
      " [ 0.   4.  65.8 20.   7.  20. ]\n",
      " [ 0.   4.  70.5 10.   3.  20. ]\n",
      " [ 0.   4.  70.5 15.   3.  20. ]\n",
      " [ 0.   4.  70.5 20.   5.  20. ]\n",
      " [ 0.   4.  75.8 10.   2.  20. ]\n",
      " [ 0.   4.  75.8 15.   3.  20. ]\n",
      " [ 0.   4.  75.8 20.   3.  20. ]]\n",
      "species 1\n",
      " [[ 1.   1.  60.  10.   0.  20. ]\n",
      " [ 1.   1.  60.  15.   0.  20. ]\n",
      " [ 1.   1.  60.  20.   0.  20. ]\n",
      " [ 1.   1.  65.8 10.   0.  20. ]\n",
      " [ 1.   1.  65.8 15.   0.  20. ]\n",
      " [ 1.   1.  65.8 20.   0.  20. ]\n",
      " [ 1.   1.  70.5 10.   0.  20. ]\n",
      " [ 1.   1.  70.5 15.   0.  20. ]\n",
      " [ 1.   1.  70.5 20.   0.  20. ]\n",
      " [ 1.   1.  75.8 10.   0.  20. ]\n",
      " [ 1.   1.  75.8 15.   0.  20. ]\n",
      " [ 1.   1.  75.8 20.   0.  20. ]\n",
      " [ 1.   2.  60.  10.   0.  20. ]\n",
      " [ 1.   2.  60.  15.   3.  20. ]\n",
      " [ 1.   2.  60.  20.   2.  20. ]\n",
      " [ 1.   2.  65.8 10.   0.  20. ]\n",
      " [ 1.   2.  65.8 15.   2.  20. ]\n",
      " [ 1.   2.  65.8 20.   1.  20. ]\n",
      " [ 1.   2.  70.5 10.   0.  20. ]\n",
      " [ 1.   2.  70.5 15.   0.  20. ]\n",
      " [ 1.   2.  70.5 20.   1.  20. ]\n",
      " [ 1.   2.  75.8 10.   1.  20. ]\n",
      " [ 1.   2.  75.8 15.   0.  20. ]\n",
      " [ 1.   2.  75.8 20.   1.  20. ]\n",
      " [ 1.   3.  60.  10.   7.  20. ]\n",
      " [ 1.   3.  60.  15.  11.  20. ]\n",
      " [ 1.   3.  60.  20.  11.  20. ]\n",
      " [ 1.   3.  65.8 10.   4.  20. ]\n",
      " [ 1.   3.  65.8 15.   5.  20. ]\n",
      " [ 1.   3.  65.8 20.   9.  20. ]\n",
      " [ 1.   3.  70.5 10.   2.  20. ]\n",
      " [ 1.   3.  70.5 15.   4.  20. ]\n",
      " [ 1.   3.  70.5 20.   6.  20. ]\n",
      " [ 1.   3.  75.8 10.   2.  20. ]\n",
      " [ 1.   3.  75.8 15.   3.  20. ]\n",
      " [ 1.   3.  75.8 20.   5.  20. ]\n",
      " [ 1.   4.  60.  10.  12.  20. ]\n",
      " [ 1.   4.  60.  15.  14.  20. ]\n",
      " [ 1.   4.  60.  20.  16.  20. ]\n",
      " [ 1.   4.  65.8 10.  10.  20. ]\n",
      " [ 1.   4.  65.8 15.  12.  20. ]\n",
      " [ 1.   4.  65.8 20.  12.  20. ]\n",
      " [ 1.   4.  70.5 10.   5.  20. ]\n",
      " [ 1.   4.  70.5 15.   7.  20. ]\n",
      " [ 1.   4.  70.5 20.   9.  20. ]\n",
      " [ 1.   4.  75.8 10.   4.  20. ]\n",
      " [ 1.   4.  75.8 15.   5.  20. ]\n",
      " [ 1.   4.  75.8 20.   7.  20. ]]\n"
     ]
    }
   ],
   "source": [
    "species_0 = snails[snails[:, 0] == 0]\n",
    "species_1 = snails[snails[:, 0] == 1]\n",
    "\n",
    "print(\"species 0\\n\", species_0)\n",
    "print(\"species 1\\n\", species_1)"
   ]
  },
  {
   "cell_type": "code",
   "execution_count": 27,
   "metadata": {},
   "outputs": [
    {
     "name": "stdout",
     "output_type": "stream",
     "text": [
      "hardest_snials\n",
      " 0\n"
     ]
    }
   ],
   "source": [
    "avg_death_rate_species_0 = np.mean(species_0[:,4] / species_0[:,5]) #the death rate in species 0\n",
    "avg_death_rate_species_1 = np.mean(species_1[:,4] / species_1[:,5]) #the death rate in species 1\n",
    "\n",
    "hardest_snail = 1 if avg_death_rate_species_0 > avg_death_rate_species_1 else 0\n",
    "print(\"hardest_snials\\n\", hardest_snail)"
   ]
  },
  {
   "cell_type": "code",
   "execution_count": 30,
   "metadata": {},
   "outputs": [
    {
     "name": "stdout",
     "output_type": "stream",
     "text": [
      "[50. 59. 68. 50. 59. 68. 50. 59. 68. 50. 59. 68. 50. 59. 68. 50. 59. 68.\n",
      " 50. 59. 68. 50. 59. 68. 50. 59. 68. 50. 59. 68. 50. 59. 68. 50. 59. 68.\n",
      " 50. 59. 68. 50. 59. 68. 50. 59. 68. 50. 59. 68. 50. 59. 68. 50. 59. 68.\n",
      " 50. 59. 68. 50. 59. 68. 50. 59. 68. 50. 59. 68. 50. 59. 68. 50. 59. 68.\n",
      " 50. 59. 68. 50. 59. 68. 50. 59. 68. 50. 59. 68. 50. 59. 68. 50. 59. 68.\n",
      " 50. 59. 68. 50. 59. 68.]\n"
     ]
    }
   ],
   "source": [
    "# each temp. in the study in Fehrenhite. 0C=32F, 100C = 212F\n",
    "deg_f = snails[:,3] * (212-32)/100 + 32\n",
    "print(deg_f)"
   ]
  },
  {
   "cell_type": "code",
   "execution_count": 33,
   "metadata": {},
   "outputs": [
    {
     "name": "stdout",
     "output_type": "stream",
     "text": [
      "[ 0.5         2.5        68.025      15.          2.86458333 20.        ]\n"
     ]
    }
   ],
   "source": [
    "#the mean of ll the columns as 1D vector\n",
    "# axis specifies the direction of the mean 1 means by row 0 mean by column\n",
    "mean_col = np.mean(snails, axis =0)\n",
    "print(mean_col)"
   ]
  },
  {
   "cell_type": "code",
   "execution_count": 34,
   "metadata": {},
   "outputs": [
    {
     "name": "stdout",
     "output_type": "stream",
     "text": [
      "[0.   0.   0.   0.   0.   0.   0.   0.   0.   0.   0.   0.   0.   0.\n",
      " 0.   0.   0.   0.   0.   0.   0.   0.   0.   0.   0.   0.   0.   0.\n",
      " 0.   0.   0.   0.   0.   0.   0.   0.   0.   0.   0.   0.   0.   0.05\n",
      " 0.05 0.05 0.05 0.05 0.05 0.05 0.05 0.05 0.1  0.1  0.1  0.1  0.1  0.1\n",
      " 0.1  0.1  0.15 0.15 0.15 0.15 0.15 0.15 0.15 0.2  0.2  0.2  0.2  0.2\n",
      " 0.2  0.2  0.25 0.25 0.25 0.25 0.25 0.25 0.3  0.35 0.35 0.35 0.35 0.35\n",
      " 0.35 0.35 0.45 0.45 0.5  0.55 0.55 0.6  0.6  0.6  0.7  0.8 ]\n"
     ]
    }
   ],
   "source": [
    "#deah rates sorted, smallest first\n",
    "death_rate = snails[:,4] / snails[:,5]\n",
    "death_rate_sorted = np.sort(death_rate)\n",
    "print(death_rate_sorted)"
   ]
  },
  {
   "cell_type": "code",
   "execution_count": 35,
   "metadata": {},
   "outputs": [
    {
     "name": "stdout",
     "output_type": "stream",
     "text": [
      "[1. 3. 1. 3. 3. 2. 2. 2. 2. 2. 1. 1. 1. 1. 1. 1. 1. 1. 1. 1. 2. 2. 1. 2.\n",
      " 1. 1. 2. 1. 1. 1. 1. 1. 2. 2. 1. 2. 1. 1. 1. 2. 2. 2. 3. 2. 3. 2. 2. 2.\n",
      " 2. 2. 3. 3. 3. 2. 4. 2. 3. 3. 2. 3. 4. 4. 4. 4. 3. 4. 3. 3. 3. 3. 4. 4.\n",
      " 4. 4. 3. 3. 4. 3. 3. 4. 4. 4. 4. 3. 4. 4. 4. 3. 4. 3. 3. 4. 4. 4. 4. 4.]\n"
     ]
    }
   ],
   "source": [
    "#death rate sorting \n",
    "death_rate_sorted_indexes = np.argsort(death_rate) #np.argsort() return the indexes of the sorted array\n",
    "exposure_death_rate = snails[:, 1][death_rate_sorted_indexes]\n",
    "print(exposure_death_rate) "
   ]
  },
  {
   "cell_type": "code",
   "execution_count": 37,
   "metadata": {},
   "outputs": [
    {
     "name": "stdout",
     "output_type": "stream",
     "text": [
      "best hum 60.0\n",
      "best temp 10.0\n"
     ]
    }
   ],
   "source": [
    "one_week_exposure = snails[snails[:,1] == 1]\n",
    "least_deaths_index = np.argmin(one_week_exposure[:,4])\n",
    "best_hum = snails[:,2][least_deaths_index]\n",
    "best_temp = snails[:,3][least_deaths_index]\n",
    "\n",
    "print(\"best hum\", best_hum)\n",
    "print(\"best temp\", best_temp)"
   ]
  },
  {
   "cell_type": "code",
   "execution_count": null,
   "metadata": {},
   "outputs": [],
   "source": []
  }
 ],
 "metadata": {
  "kernelspec": {
   "display_name": "Python 3",
   "language": "python",
   "name": "python3"
  },
  "language_info": {
   "codemirror_mode": {
    "name": "ipython",
    "version": 3
   },
   "file_extension": ".py",
   "mimetype": "text/x-python",
   "name": "python",
   "nbconvert_exporter": "python",
   "pygments_lexer": "ipython3",
   "version": "3.5.3"
  }
 },
 "nbformat": 4,
 "nbformat_minor": 2
}
