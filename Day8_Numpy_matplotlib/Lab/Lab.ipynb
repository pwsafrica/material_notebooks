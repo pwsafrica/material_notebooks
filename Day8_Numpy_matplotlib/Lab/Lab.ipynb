{
 "cells": [
  {
   "cell_type": "code",
   "execution_count": 1,
   "metadata": {},
   "outputs": [],
   "source": [
    "import numpy as np"
   ]
  },
  {
   "cell_type": "markdown",
   "metadata": {},
   "source": [
    "**create an array from a list**\n",
    "    * create array looks like [1.0, 2.0, 3.0, 4.0]\n",
    "    * print the values in the array\n",
    "    * print datatype of values in the array\n",
    "    * print the shape (dimensions) of the array"
   ]
  },
  {
   "cell_type": "code",
   "execution_count": null,
   "metadata": {},
   "outputs": [],
   "source": []
  },
  {
   "cell_type": "markdown",
   "metadata": {},
   "source": [
    "* a 3 X 3 matrix of all zeros\n",
    "* a 13 element 1 D vector of all ones\n",
    "* create a matrix or array of specified shape and filled with a value of a scalar\n",
    "* create a matrix or array similar to speecifed value with all zeros\n",
    "* create a 2 x 3 x 4 with all elements 9.1\n"
   ]
  },
  {
   "cell_type": "code",
   "execution_count": null,
   "metadata": {},
   "outputs": [],
   "source": []
  },
  {
   "cell_type": "markdown",
   "metadata": {},
   "source": [
    "* create a 8 column, 4 rows array with numbers randomly uniform distributed in the range [-1,1] "
   ]
  },
  {
   "cell_type": "code",
   "execution_count": 3,
   "metadata": {},
   "outputs": [
    {
     "name": "stdout",
     "output_type": "stream",
     "text": [
      "u\n",
      " [[ 0.53964534  0.14198818  0.14708799 -0.49546268  0.29571563 -0.47526504\n",
      "  -0.1424281   0.74223494]\n",
      " [-0.40355757  0.51442604  0.82476207  0.71413274  0.64586487  0.88844929\n",
      "   0.32412733  0.05317432]\n",
      " [-0.88735663 -0.7974235  -0.46613885 -0.55585613 -0.72809647  0.58430637\n",
      "  -0.54517156  0.27853755]\n",
      " [-0.29002669  0.4436267   0.23091511  0.7761226   0.22664564  0.11885541\n",
      "   0.6075184   0.27401846]]\n"
     ]
    }
   ],
   "source": [
    "u = np.random.uniform(-1, 1, (4,8))\n",
    "print(\"u\\n\", u)"
   ]
  },
  {
   "cell_type": "markdown",
   "metadata": {},
   "source": [
    "#### can you think about the following tasks? (hinta are given)"
   ]
  },
  {
   "cell_type": "markdown",
   "metadata": {},
   "source": [
    "* create a 4 column, 7 rows array with integer numbers randomly distributed in the range [-1,1]\n",
    "**(hint) use np.random.randint**\n"
   ]
  },
  {
   "cell_type": "code",
   "execution_count": null,
   "metadata": {},
   "outputs": [],
   "source": []
  },
  {
   "cell_type": "markdown",
   "metadata": {},
   "source": [
    "* create a 3 column, 3 rows array with numbers randomly normally distributed in the range [-1,1)\n",
    "**(hint) use np.random.normal**                                                                                           "
   ]
  },
  {
   "cell_type": "markdown",
   "metadata": {},
   "source": [
    "## Task\n",
    "\n",
    "**Scientists at the Zoology Department, The University of Adelaide have studied the best conditions to keep snails alive. They have recorded a dataset of observations of snail mortality under controlled conditions. This data set is in the file data/snails.txt.**\n",
    "\n",
    "**An excerpt from the data set description**\n",
    "\n",
    "Groups of 20 snails were held for periods of 1, 2, 3 or 4 weeks in carefully controlled conditions of temperature and relative humidity. There were two species of snail, 0 and 1. At the end of the exposure time the snails were tested to see if they had survived.The data are unusual in that in most cases fatalities during the experiment were fairly small. [lucky snails!]\n",
    "\n"
   ]
  },
  {
   "cell_type": "markdown",
   "metadata": {},
   "source": [
    "### The data is a 2D array, and has six columns, with these definitions:\n",
    "\n",
    "* **species(binary)**  \n",
    "* **exposure(weeks)**\n",
    "* **humidity(%)**\n",
    "* **temperature(deg. C)**\n",
    "* **n_deaths n_snails**\n",
    "\n",
    "Each row represents one set of observations (i.e. one group of snails). You are to compute some basic properties of this data. Use NumPy operations to do the computations."
   ]
  },
  {
   "cell_type": "code",
   "execution_count": null,
   "metadata": {},
   "outputs": [],
   "source": []
  },
  {
   "cell_type": "markdown",
   "metadata": {},
   "source": [
    "**A. Loading arrays**\n",
    "\n",
    "Load this data as a NumPy array called snails. Note: use NumPy functions to do this!\n",
    "Print it out. Use this format to print out the results:"
   ]
  },
  {
   "cell_type": "markdown",
   "metadata": {},
   "source": [
    "**B. Basic indexing Compute the following results, storing the results in the variable specified and printing them out. Use the same printing format as A.**\n",
    "\n",
    "* hum_first the humidity in the first entry in the table.\n",
    "* temp_last the temperature in the last entry in the table.\n",
    "* weeks the whole column of \"weeks exposure\".\n",
    "* row_8 the 8th row of observations."
   ]
  },
  {
   "cell_type": "code",
   "execution_count": null,
   "metadata": {},
   "outputs": [],
   "source": []
  }
 ],
 "metadata": {
  "kernelspec": {
   "display_name": "Python 3",
   "language": "python",
   "name": "python3"
  },
  "language_info": {
   "codemirror_mode": {
    "name": "ipython",
    "version": 3
   },
   "file_extension": ".py",
   "mimetype": "text/x-python",
   "name": "python",
   "nbconvert_exporter": "python",
   "pygments_lexer": "ipython3",
   "version": "3.5.3"
  }
 },
 "nbformat": 4,
 "nbformat_minor": 2
}
