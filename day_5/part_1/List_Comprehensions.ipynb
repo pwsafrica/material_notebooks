{
 "cells": [
  {
   "cell_type": "markdown",
   "metadata": {},
   "source": [
    "# List Comprehension"
   ]
  },
  {
   "cell_type": "markdown",
   "metadata": {},
   "source": [
    "## Elegant functional programming\n",
    "Python (along with Haskell and some other modern languages) has a very elegant way of implementing functional transformations. These are called **comprehensions** and they allow us to specify a transformation from one compound data type to another in terms of operations on each element.\n",
    "\n",
    "Comprehensions are functional; they represent a \"straight through\" transformation and can have no side-effects whatsoever. Comprehensions cannot make in-place changes to the data types they are working on.\n",
    "\n",
    "\n",
    "**Most importantly, comprehensions are short and easy to read. They precisely and cleanly represent lots of things we might want to do.**. They are also very efficient (because of the strong assumptions Python can make about what they are going to do), often much faster than explicit loops. \n"
   ]
  },
  {
   "cell_type": "code",
   "execution_count": null,
   "metadata": {},
   "outputs": [],
   "source": [
    "# consider this definition: it transforms a list by \n",
    "# doubling each element\n",
    "\n",
    "def double(l):\n",
    "    new_l =[]\n",
    "    for x in l:\n",
    "        new_l.append(x*2)\n",
    "    return new_l\n",
    "\n",
    "print(double([1,2,3,4]))"
   ]
  },
  {
   "cell_type": "markdown",
   "metadata": {},
   "source": [
    "### Comprehensions\n",
    "In maths, we would write this transformation as:\n",
    "$$\\{2 x\\  |\\  x \\in \\{1,2,3,4\\}\\}$$\n",
    "(the set of values defined by `2*x` for each `x` in the set `{1,2,3,4}`). This is called set builder notation.\n",
    "\n",
    "We can write the same equivalent code almost directly in Python. The syntax is\n",
    "\n",
    "    [expression for var in seq]\n",
    "\n",
    "Comprehensions allows us to use a variant of this notation to quickly write **transformations** of lists, where we apply an operation to every element of a list. This operation is sometimes called **map** (because it maps each value in a list to another value).\n",
    "For example:\n",
    "  "
   ]
  },
  {
   "cell_type": "code",
   "execution_count": 18,
   "metadata": {},
   "outputs": [
    {
     "name": "stdout",
     "output_type": "stream",
     "text": [
      "[2, 4, 6, 8]\n"
     ]
    }
   ],
   "source": [
    "nums = [1,2,3,4]\n",
    "\n",
    "# double nums \n",
    "print([(i*2) for i in nums])"
   ]
  },
  {
   "cell_type": "markdown",
   "metadata": {},
   "source": [
    "$$\\{(x,x)\\  |\\  x \\in \\{1,2,3,4\\}\\}$$"
   ]
  },
  {
   "cell_type": "code",
   "execution_count": 21,
   "metadata": {
    "scrolled": true
   },
   "outputs": [
    {
     "name": "stdout",
     "output_type": "stream",
     "text": [
      "[(1, 1), (2, 2), (3, 3), (4, 4)]\n"
     ]
    }
   ],
   "source": [
    "# repeat each element twice\n",
    "print([(i,i) for i in nums])"
   ]
  },
  {
   "cell_type": "code",
   "execution_count": null,
   "metadata": {},
   "outputs": [],
   "source": [
    "def scale_by(nums, n):\n",
    "    return [i*n for i in nums]\n",
    "\n",
    "scale_by([1,2,3,4],5)"
   ]
  },
  {
   "cell_type": "markdown",
   "metadata": {},
   "source": [
    "We have a for loop, with an loop variable, and a sequence we are iterating over. We just put the whole expression inside square brackets: this means \"do all these operations\" and collect the results back into a list.\n",
    "\n",
    "**This is called a list comprehension.**"
   ]
  },
  {
   "cell_type": "markdown",
   "metadata": {},
   "source": [
    "Many operations can be written as comprehensions: for example taking a list of points and finding the list of x-coordinates and the list of y-coordinates:"
   ]
  },
  {
   "cell_type": "code",
   "execution_count": 22,
   "metadata": {},
   "outputs": [
    {
     "name": "stdout",
     "output_type": "stream",
     "text": [
      "[(0, 1), (2, 2), (-1, 6), (7, 8)]\n",
      "[[0, 2, -1, 7], [1, 2, 6, 8]]\n"
     ]
    }
   ],
   "source": [
    "# select the first or seconds element of a list of pairs\n",
    "pairs = [(0,1), (2,2), (-1, 6), (7,8)]\n",
    "print(pairs)\n",
    "print([[pair[0] for pair in pairs], [pair[1] for pair in pairs]])"
   ]
  },
  {
   "cell_type": "markdown",
   "metadata": {},
   "source": [
    "### Nested comprehensions: multiple `for` statements\n",
    "Just as we can nest `for` loops, we can have multiple for statements in a comprehension. However, except in very simple cases, it's usually a bad idea to have multiple for statements in a comprehension, because the logic gets hard to follow."
   ]
  },
  {
   "cell_type": "code",
   "execution_count": null,
   "metadata": {},
   "outputs": [],
   "source": [
    "## we can have multiple fors\n",
    "nums = [0,1,2,3,4]\n",
    "print([(i,j,i*j) for i in nums for j in range(i)])\n",
    "\n",
    "## This is the same as\n",
    "l = []\n",
    "for i in nums:\n",
    "    for j in range(i):        \n",
    "            l.append((i,j,i*j))\n",
    "print(l)"
   ]
  },
  {
   "cell_type": "code",
   "execution_count": 1,
   "metadata": {},
   "outputs": [
    {
     "name": "stdout",
     "output_type": "stream",
     "text": [
      "(3, 0, 0)\n",
      "(3, 1, 3)\n",
      "(3, 2, 6)\n",
      "(1, 0, 0)\n",
      "(5, 0, 0)\n",
      "(5, 1, 5)\n",
      "(5, 2, 10)\n",
      "(5, 3, 15)\n",
      "(5, 4, 20)\n",
      "(3, 0, 0)\n",
      "(3, 1, 3)\n",
      "(3, 2, 6)\n",
      "(4, 0, 0)\n",
      "(4, 1, 4)\n",
      "(4, 2, 8)\n",
      "(4, 3, 12)\n",
      "\n",
      "(3, 0, 0)\n",
      "(3, 1, 3)\n",
      "(3, 2, 6)\n",
      "(1, 0, 0)\n",
      "(5, 0, 0)\n",
      "(5, 1, 5)\n",
      "(5, 2, 10)\n",
      "(5, 3, 15)\n",
      "(5, 4, 20)\n",
      "(3, 0, 0)\n",
      "(3, 1, 3)\n",
      "(3, 2, 6)\n",
      "(4, 0, 0)\n",
      "(4, 1, 4)\n",
      "(4, 2, 8)\n",
      "(4, 3, 12)\n"
     ]
    }
   ],
   "source": [
    "## we can have multiple fors\n",
    "nums = [3,1,5,3,4]\n",
    "result = [(i,j,i*j) for i in nums for j in range(i)]\n",
    "[print(i)for i in result]\n",
    "\n",
    "print()\n",
    "## This is the same as\n",
    "l = []\n",
    "for i in nums:\n",
    "    for j in range(i):        \n",
    "            l.append((i,j,i*j))\n",
    "for i in l:\n",
    "    print(i)"
   ]
  },
  {
   "cell_type": "markdown",
   "metadata": {},
   "source": [
    "## Filtering: if tests\n",
    "As well as **mapping** an operation onto elements of a sequence,\n",
    "we can also **filter** elements. This allows us to conditionally remove elements which fail some test.\n",
    "\n",
    "Again, in mathematical notation we might write:\n",
    "\n",
    "$$\\{2 x\\  |\\  x \\in \\mathbb{Z}, 0 < x < 10 \\land x\\  \\text{odd}\\}$$\n",
    "The condition on the end here $$0 < x < 10 \\land x\\  \\text{odd}$$ is a filter; it only \"lets through\" odd integers in the range [0,10). \n",
    "\n",
    "Between **map** and **filter** we have a very powerful set of primitives."
   ]
  },
  {
   "cell_type": "code",
   "execution_count": 2,
   "metadata": {},
   "outputs": [
    {
     "name": "stdout",
     "output_type": "stream",
     "text": [
      "['yellow', 'red', 'orange', 'violet', 'indigo', 'green']\n"
     ]
    }
   ],
   "source": [
    "colours = [\"yellow\", \"red\", \"blue\", \"orange\", \"violet\",\n",
    "          \"indigo\", \"green\"]\n",
    "\n",
    "# remove colors which have \"u\" in them -- i.e. keep those without \"u\"\n",
    "print([c for c in colours if \"u\" not in c])"
   ]
  },
  {
   "cell_type": "code",
   "execution_count": null,
   "metadata": {},
   "outputs": [],
   "source": [
    "# print twice every odd number\n",
    "print([x*2 for x in range(20) if x%2!=0])"
   ]
  },
  {
   "cell_type": "code",
   "execution_count": 4,
   "metadata": {},
   "outputs": [
    {
     "name": "stdout",
     "output_type": "stream",
     "text": [
      "EOEOAEIOEIIOEE\n"
     ]
    }
   ],
   "source": [
    "# note that we can combine multiple for and if tests\n",
    "# print the uppercase version of all the vowels \n",
    "# from all the colors that don't have any \"u\"s in them\n",
    "new = \"\".join([char.upper() for c in colours for char in c \n",
    "       if \"u\" not in c if char in 'aeiou'])\n",
    "print(new)"
   ]
  },
  {
   "cell_type": "markdown",
   "metadata": {},
   "source": [
    "### Dictionary comprehensions\n",
    "We can generate dictionaries in exactly the same way. However, we must provide both a key and  value for each element in the `for` loop.\n",
    "\n",
    "We use curly brackets, and the first element must be of the form `<key>:<value>`. The key and the value can be any expression, though the key must evaluate to an immutable, hashable value.\n"
   ]
  },
  {
   "cell_type": "code",
   "execution_count": 29,
   "metadata": {},
   "outputs": [
    {
     "name": "stdout",
     "output_type": "stream",
     "text": [
      "{'y': 'yellow', 'r': 'red', 'b': 'blue', 'o': 'orange', 'v': 'violet', 'i': 'indigo', 'g': 'green'}\n",
      "indigo\n",
      "red\n"
     ]
    }
   ],
   "source": [
    "# map first letter of a color to the full name\n",
    "abbrev_colours = {colour[0]:colour for colour in colours}\n",
    "print(abbrev_colours)\n",
    "print(abbrev_colours['i'])\n",
    "print(abbrev_colours['r'])"
   ]
  },
  {
   "cell_type": "code",
   "execution_count": 27,
   "metadata": {},
   "outputs": [
    {
     "name": "stdout",
     "output_type": "stream",
     "text": [
      "{'y': 'yellow', 'r': 'red', 'b': 'blue', 'o': 'orange', 'v': 'violet', 'i': 'indigo', 'g': 'gold'}\n"
     ]
    }
   ],
   "source": [
    "print(abbrev_colours)"
   ]
  },
  {
   "cell_type": "code",
   "execution_count": null,
   "metadata": {},
   "outputs": [],
   "source": [
    "# switch the keys and values of a dictionary\n",
    "inverted = {v:k for k,v in abbrev_colours.items()}\n",
    "print(abbrev_colours)\n",
    "print(inverted)"
   ]
  },
  {
   "cell_type": "markdown",
   "metadata": {},
   "source": [
    "## What can't you do in a comprehension?\n",
    "Comprehensions are powerful, but they are more limited than the full features of Python code. The restrictions that are made allow comprehensions to be fast and have a very simple syntax.\n",
    "\n",
    "*In a comprehension, there can be:*\n",
    "* No indefinite iteration (no `while` style loops, only `for`)\n",
    "* No `break` or `continue` or `return` (no \"unplanned\" exits)\n",
    "* No assignment to variables\n",
    "* No non-expression statements (no `del` for example)\n",
    "* Exactly one output -- we will always get one list or one dictionary back.\n",
    "\n",
    "A comprehension makes a guarantee that the loop will run a *fixed number of times* (which can be determined in advance of the comprehension running), and that *no variables* will change during the execution **except** for the loop variables themselves. \n",
    "\n",
    "#### Comprehensions are functional.\n",
    "\n",
    "They process a sequence of data without any side effects. The expression at the start defines the operation to be applied to each element of a sequence."
   ]
  },
  {
   "cell_type": "code",
   "execution_count": null,
   "metadata": {},
   "outputs": [],
   "source": []
  },
  {
   "cell_type": "markdown",
   "metadata": {},
   "source": [
    "### When to use a comprehension\n",
    "If you have code which looks like:\n",
    "\n",
    "    l = []\n",
    "    for elt in some_list:\n",
    "        <some operations on elt>\n",
    "        l.append(result)\n",
    "        \n",
    "you can often write it *much* more clearly as a comprehension."
   ]
  },
  {
   "cell_type": "code",
   "execution_count": null,
   "metadata": {},
   "outputs": [],
   "source": []
  },
  {
   "cell_type": "code",
   "execution_count": null,
   "metadata": {},
   "outputs": [],
   "source": []
  },
  {
   "cell_type": "code",
   "execution_count": null,
   "metadata": {},
   "outputs": [],
   "source": []
  }
 ],
 "metadata": {
  "kernelspec": {
   "display_name": "Python 3",
   "language": "python",
   "name": "python3"
  },
  "language_info": {
   "codemirror_mode": {
    "name": "ipython",
    "version": 3
   },
   "file_extension": ".py",
   "mimetype": "text/x-python",
   "name": "python",
   "nbconvert_exporter": "python",
   "pygments_lexer": "ipython3",
   "version": "3.6.5"
  }
 },
 "nbformat": 4,
 "nbformat_minor": 2
}

