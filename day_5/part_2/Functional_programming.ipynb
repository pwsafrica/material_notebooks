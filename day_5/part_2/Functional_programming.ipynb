{
 "cells": [
  {
   "cell_type": "markdown",
   "metadata": {},
   "source": [
    "# Functional Programming"
   ]
  },
  {
   "cell_type": "markdown",
   "metadata": {},
   "source": [
    "# Functional approaches\n",
    "## Spreadsheets\n",
    "The way in which most people (i.e. not programmers) deal with \"complex\" computations on data\n",
    "\n",
    "Spreadsheets are **functional**; you write expressions in terms of the values of other cells, and the result of evaluating those expressions populate the result cells.\n",
    "\n",
    "Every cell is a direct mapping of the value of other cells on the spreadsheet. Expression cells update as the sheet changes; there is no **hidden** data in the background."
   ]
  },
  {
   "cell_type": "markdown",
   "metadata": {},
   "source": [
    "## Functional programming\n",
    "Functional programming does not mean using functions in programming :) Rather, it restricts programming to operations which work as mathematical functions do: i.e. a map from one set to another:\n",
    "\n",
    "$$ y = f(x)$$\n",
    "\n",
    "A *pure* functional program is simply lots of such functions joined together\n",
    "\n",
    "$$ o = f(g(h(x_1), k(h(x_2)), i(x_3)) $$\n",
    "\n",
    "the $x_i$ are inputs, and unlike \"high school\" functions they don't have to act on numbers, but can act on any type at all, and they can have any number of arguments.\n",
    "\n",
    "### Why bother? \n",
    "This seems much less flexible than using for loops and writing things into dictionaries and all the usual things we expect to do when programming. So why restrict ourselves to this very limited form of programs? Is this even enough to do anything useful?"
   ]
  },
  {
   "cell_type": "markdown",
   "metadata": {},
   "source": [
    "### Side effects and mutability\n",
    "We have seen throughout the course the complexity that can arise when we have **mutable** data structures. We can get into serious trouble when we have multiple references to a single mutable data structure and can cause \"spooky action at a distance\" -- a change somewhere in the code can cause side-effects in some completely different and apparently unconnected part."
   ]
  },
  {
   "cell_type": "markdown",
   "metadata": {
    "collapsed": true
   },
   "source": [
    "## Immutable data structures\n",
    "A purely functional language **only** has immutable data structures. Everything is fixed when it is created and nothing can be modified. Languages like Clojure, ML and Haskell have data structures of this type.\n",
    "\n",
    "*This is just a powerful as any other form of computation.*\n",
    "\n",
    "However, it can be an interesting challenge to formulate problems in this structure, and there can be performance issues: for example, appending an element to a list **must** involve copying the original list.\n",
    "\n",
    "But in this world, all of the problems with multiple variables refering to the same value go away; we never have *aliasing* issues like this:\n"
   ]
  },
  {
   "cell_type": "code",
   "execution_count": 1,
   "metadata": {},
   "outputs": [
    {
     "name": "stdout",
     "output_type": "stream",
     "text": [
      "[1, 4, 3]\n"
     ]
    }
   ],
   "source": [
    "a = [1,2,3]\n",
    "b = a\n",
    "a[1] = 4\n",
    "print(b) # b got changed!"
   ]
  },
  {
   "cell_type": "markdown",
   "metadata": {},
   "source": [
    "## Flow model of computation\n",
    "Because this lets us be sure that each step of a program can be independent of the next, we can reason about the code as a **flow of data through a graph**. One node process data (a function) and passes it to the next."
   ]
  },
  {
   "cell_type": "markdown",
   "metadata": {},
   "source": [
    "### Functional programming is arguable a more elegant approach to programming\n",
    "\n",
    "## Faster: Optimization\n",
    "The simple form of functional programs, and the certainty with which **dependencies** can be traced makes it possible to implement sophisticated automatic optimisations.\n",
    "\n",
    "    f(g(x), h(g(x), g(x))\n",
    "    \n",
    "    -> y=g(x), \n",
    "       f(y, h(y,y))\n",
    "    \n",
    "This kind of transform is only guaranteed to be correct if we can be absolutely sure that `g(x)` has no side effects."
   ]
  },
  {
   "cell_type": "markdown",
   "metadata": {},
   "source": [
    "### Functional: no side affects, result is good"
   ]
  },
  {
   "cell_type": "code",
   "execution_count": 7,
   "metadata": {},
   "outputs": [
    {
     "name": "stdout",
     "output_type": "stream",
     "text": [
      "[9, 8, 10]\n"
     ]
    }
   ],
   "source": [
    "def f(x, y):\n",
    "    return [x]+y\n",
    "\n",
    "def g(x):\n",
    "    return x**2\n",
    "\n",
    "def h(x,y):\n",
    "    return [y-1, x+1]\n",
    "\n",
    "x = 3\n",
    "print(f(g(x), h(g(x), g(x))))"
   ]
  },
  {
   "cell_type": "code",
   "execution_count": 23,
   "metadata": {},
   "outputs": [
    {
     "name": "stdout",
     "output_type": "stream",
     "text": [
      "t =  3\n",
      "t =  6\n",
      "t =  9\n",
      "[9, 80, 37]\n"
     ]
    }
   ],
   "source": [
    "# side effects produces incorrect answer.\n",
    "# this can not happen with functional programming.\n",
    "\n",
    "def f(x, y):\n",
    "    return [x]+y\n",
    "\n",
    "def g(x):\n",
    "    global t\n",
    "    t += x\n",
    "    print(\"t = \", str(t))\n",
    "    return t**2\n",
    "\n",
    "def h(x,y):\n",
    "    return [y-1,x+1]\n",
    "\n",
    "t = 0\n",
    "x = 3\n",
    "print(f(g(x), h(g(x), g(x))))"
   ]
  },
  {
   "cell_type": "code",
   "execution_count": 8,
   "metadata": {},
   "outputs": [
    {
     "name": "stdout",
     "output_type": "stream",
     "text": [
      "[9, 8, 10]\n"
     ]
    }
   ],
   "source": [
    "# this is fine\n",
    "y = g(x)\n",
    "print(f(y, h(y, y)))"
   ]
  },
  {
   "cell_type": "markdown",
   "metadata": {},
   "source": [
    "\n",
    "##  Better: GPUs and parallelisation\n",
    "Because there are no side effects, a functional program can often be cleanly broken up into guaranteed non-intefering segments. **These can be run in parallel**. \n",
    "\n",
    "Graphics Processing Units(GPU), for example, are by far the most computationally powerful part of any modern computer system. But their power is acheived through thousands of cores which all compute at the same time. Data from one core can never depend upon another (otherwise cores would have to wait for each other). In other words, each core must compute some independent **function** of a fixed input.\n",
    "\n",
    "GPU programming is essentially functional programming. For example, to write an image effect as a shader, you have to write a function that will be applied to each pixel independently. It can have no side effects which might change the state of other pixels.\n",
    "\n",
    "Likewise, processing huge databases requires massive **concurrency**. Concurrency is very (very!) hard to get correct unless programs can be broken up into sections which have *no* interdependcies; i.e. no side-effects."
   ]
  },
  {
   "cell_type": "markdown",
   "metadata": {},
   "source": [
    "## Stronger: Correctness\n",
    "If we know that there can **never** be side-effects, it is much easier to reason about correctness. In fact, for certain kind of operations, it is possible to **prove** (in the mathematical sense) that an implementation will do the right thing.\n",
    "\n",
    "If you are building rocket controllers or pacemakers or train signals, a guarantee of correctness may be worth more than a simple or flexible implementation."
   ]
  },
  {
   "cell_type": "markdown",
   "metadata": {},
   "source": [
    "# Functional Python\n",
    "Python is not a functional language, but many functional constructs can be used. The **discipline** of functional programming is a potent mindset in approaching problems. It may not be convenient or practical to use a purely functional approach, but taking a functional approach for at least some of the implementation can make coding much cleaner and more robust.\n",
    "\n",
    "The key thing to remember is that we work by transforming data in \"passes\"; each pass is a function, and our whole program is just a sequence of functions."
   ]
  },
  {
   "cell_type": "markdown",
   "metadata": {},
   "source": [
    "## Higher-order functions: reduce, map and filter\n",
    "A **higher-order** function is just a function that operates on functions.\n",
    "\n",
    "There are three \"standard\" higher-order functions:\n",
    "\n",
    "* **map** which applies a function to each element of a sequence, like `[2*x for x in l]`\n",
    "* **filter** which selects element where a test is True, like `[x if x%2==0]`\n",
    "* **apply** which applies a function to a *sequence* of arguments, like fn(*args)\n",
    "\n",
    "* **reduce** `reduce(fn, seq)` which applies fn to the first two elements of seq, then applies fn to that result and the next element of seq, and so on.\n",
    "\n"
   ]
  },
  {
   "cell_type": "markdown",
   "metadata": {},
   "source": [
    "## map()"
   ]
  },
  {
   "cell_type": "markdown",
   "metadata": {},
   "source": [
    "Map is another way of applying a function to every element of a data structure."
   ]
  },
  {
   "cell_type": "code",
   "execution_count": 6,
   "metadata": {},
   "outputs": [],
   "source": [
    "def square(x):\n",
    "    return x*x"
   ]
  },
  {
   "cell_type": "code",
   "execution_count": 7,
   "metadata": {},
   "outputs": [],
   "source": [
    "number = [2,4,3,5,3,2,4,4]"
   ]
  },
  {
   "cell_type": "code",
   "execution_count": 8,
   "metadata": {},
   "outputs": [
    {
     "name": "stdout",
     "output_type": "stream",
     "text": [
      "[4, 16, 9, 25, 9, 4, 16, 16]\n"
     ]
    }
   ],
   "source": [
    "squares = []\n",
    "for num in number:\n",
    "    squares.append(square(num))\n",
    "print(squares)"
   ]
  },
  {
   "cell_type": "code",
   "execution_count": 11,
   "metadata": {},
   "outputs": [
    {
     "name": "stdout",
     "output_type": "stream",
     "text": [
      "[4, 16, 9, 25, 9, 4, 16, 16]\n"
     ]
    }
   ],
   "source": [
    "squares2 = [square(num) for num in number]\n",
    "print(squares2)"
   ]
  },
  {
   "cell_type": "code",
   "execution_count": 2,
   "metadata": {},
   "outputs": [
    {
     "ename": "NameError",
     "evalue": "name 'square' is not defined",
     "output_type": "error",
     "traceback": [
      "\u001b[1;31m---------------------------------------------------------------------------\u001b[0m",
      "\u001b[1;31mNameError\u001b[0m                                 Traceback (most recent call last)",
      "\u001b[1;32m<ipython-input-2-39acf8b95f42>\u001b[0m in \u001b[0;36m<module>\u001b[1;34m()\u001b[0m\n\u001b[1;32m----> 1\u001b[1;33m \u001b[0msquares3\u001b[0m \u001b[1;33m=\u001b[0m \u001b[0mlist\u001b[0m\u001b[1;33m(\u001b[0m\u001b[0mmap\u001b[0m\u001b[1;33m(\u001b[0m\u001b[0msquare\u001b[0m\u001b[1;33m,\u001b[0m \u001b[0mnumber\u001b[0m\u001b[1;33m)\u001b[0m\u001b[1;33m)\u001b[0m\u001b[1;33m\u001b[0m\u001b[0m\n\u001b[0m\u001b[0;32m      2\u001b[0m \u001b[0mprint\u001b[0m\u001b[1;33m(\u001b[0m\u001b[0msquares3\u001b[0m\u001b[1;33m)\u001b[0m\u001b[1;33m\u001b[0m\u001b[0m\n",
      "\u001b[1;31mNameError\u001b[0m: name 'square' is not defined"
     ]
    }
   ],
   "source": [
    "squares3 = list(map(square, number))\n",
    "print(squares3)"
   ]
  },
  {
   "cell_type": "code",
   "execution_count": null,
   "metadata": {},
   "outputs": [],
   "source": [
    "print(list(map(int, [\"1\",\"8\",\"3\"])))"
   ]
  },
  {
   "cell_type": "markdown",
   "metadata": {},
   "source": [
    "Use the following function to convert the list heat from Celcius to Fahreheit."
   ]
  },
  {
   "cell_type": "code",
   "execution_count": null,
   "metadata": {},
   "outputs": [],
   "source": [
    "def CaltoFahr(x):\n",
    "    return (x * (9/5) + 32)"
   ]
  },
  {
   "cell_type": "code",
   "execution_count": null,
   "metadata": {},
   "outputs": [],
   "source": [
    "heat = [0,30,100]"
   ]
  },
  {
   "cell_type": "markdown",
   "metadata": {},
   "source": [
    "Write a program to do the reverse (convert from fahrenheit to Celsius) and check you get back to the original values."
   ]
  },
  {
   "cell_type": "code",
   "execution_count": null,
   "metadata": {},
   "outputs": [],
   "source": []
  },
  {
   "cell_type": "markdown",
   "metadata": {},
   "source": [
    "Write a program to return the plural form of the list of words."
   ]
  },
  {
   "cell_type": "code",
   "execution_count": null,
   "metadata": {},
   "outputs": [],
   "source": [
    "word = [\"book\",\"toy\",\"ball\",\"doll\"]"
   ]
  },
  {
   "cell_type": "markdown",
   "metadata": {},
   "source": [
    "Return the first letter of everyones name."
   ]
  },
  {
   "cell_type": "code",
   "execution_count": null,
   "metadata": {},
   "outputs": [],
   "source": [
    "Names = [\"Mary\",\"Tom\",\"Martin\",\"Mark\",\"Isabelle\"]"
   ]
  },
  {
   "cell_type": "markdown",
   "metadata": {},
   "source": [
    "Replace all the letters in the word with Xs."
   ]
  },
  {
   "cell_type": "code",
   "execution_count": null,
   "metadata": {},
   "outputs": [],
   "source": [
    "word = \"elephant\"\n"
   ]
  },
  {
   "cell_type": "markdown",
   "metadata": {},
   "source": [
    "## filter"
   ]
  },
  {
   "cell_type": "markdown",
   "metadata": {},
   "source": [
    "Filter is another way to perform a conditional on a list."
   ]
  },
  {
   "cell_type": "code",
   "execution_count": 4,
   "metadata": {},
   "outputs": [],
   "source": [
    "def even(x):\n",
    "    return x%2 == 0"
   ]
  },
  {
   "cell_type": "code",
   "execution_count": 5,
   "metadata": {},
   "outputs": [],
   "source": [
    "number = [2,4,3,5,3,2,0,4]"
   ]
  },
  {
   "cell_type": "code",
   "execution_count": 8,
   "metadata": {},
   "outputs": [
    {
     "name": "stdout",
     "output_type": "stream",
     "text": [
      "[2, 4, 2, 0, 4]\n"
     ]
    }
   ],
   "source": [
    "even1 = []\n",
    "for num in number:\n",
    "    if even(num):\n",
    "        even1.append(num)\n",
    "print(even1)"
   ]
  },
  {
   "cell_type": "code",
   "execution_count": 7,
   "metadata": {},
   "outputs": [
    {
     "name": "stdout",
     "output_type": "stream",
     "text": [
      "[2, 4, 2, 0, 4]\n"
     ]
    }
   ],
   "source": [
    "even2 = [num for num in number if even(num)]\n",
    "print(even2)"
   ]
  },
  {
   "cell_type": "code",
   "execution_count": 6,
   "metadata": {},
   "outputs": [
    {
     "name": "stdout",
     "output_type": "stream",
     "text": [
      "[2, 4, 2, 0, 4]\n"
     ]
    }
   ],
   "source": [
    "even3 = list(filter(even, number))\n",
    "print(even3)"
   ]
  },
  {
   "cell_type": "markdown",
   "metadata": {},
   "source": [
    "Using the following function return all the numbers between 50 and 70"
   ]
  },
  {
   "cell_type": "code",
   "execution_count": null,
   "metadata": {},
   "outputs": [],
   "source": [
    "def passed(x):\n",
    "    if x >=50 and x<=70:\n",
    "        return x\n",
    "\n",
    "marks = [66,28,96,51,57,69,74,3,100,57,32]\n"
   ]
  },
  {
   "cell_type": "markdown",
   "metadata": {},
   "source": [
    "Remove all the negative numbers from the following list"
   ]
  },
  {
   "cell_type": "code",
   "execution_count": null,
   "metadata": {},
   "outputs": [],
   "source": [
    "negatives = [1,4,-3,-4,5,6,-2]"
   ]
  },
  {
   "cell_type": "markdown",
   "metadata": {},
   "source": [
    "Write a program to return all the names beginning with M."
   ]
  },
  {
   "cell_type": "code",
   "execution_count": null,
   "metadata": {},
   "outputs": [],
   "source": [
    "Names = [\"Mary\",\"Tom\",\"Martin\",\"Mark\",\"Isabelle\"]"
   ]
  },
  {
   "cell_type": "markdown",
   "metadata": {},
   "source": [
    "Write a program to return all names more than 4 letters long."
   ]
  },
  {
   "cell_type": "code",
   "execution_count": null,
   "metadata": {},
   "outputs": [],
   "source": []
  },
  {
   "cell_type": "markdown",
   "metadata": {},
   "source": [
    "## reduce\n",
    "`reduce` applies **only** to two argument functions, like `mul(x,y)`. \n",
    "\n",
    "Reduce:\n",
    "* takes the first two elements of a sequence and applies the function\n",
    "* then it takes that result, and applies the function to the result and the next element of the sequence\n",
    "* then it takes *that* result, and applies the function to the result and the next element of the sequence\n",
    "\n",
    "\n",
    "So below, `reduce` does the following:\n",
    "    \n",
    "    mul(1, 2)   -> 2\n",
    "    mul(2, 3)   -> 6\n",
    "    mul(6, 4)   -> 24\n",
    "    mul(24, 5)  -> 120\n",
    "    -> 120\n",
    "    \n",
    "or you could see it as doing\n",
    "\n",
    "    mul(1, mul(2, mul(3, mul(4, 5)))))\n",
    "    "
   ]
  },
  {
   "cell_type": "code",
   "execution_count": 9,
   "metadata": {},
   "outputs": [],
   "source": [
    "from functools import reduce\n",
    "\n",
    "def mul(x, y):\n",
    "    return x * y"
   ]
  },
  {
   "cell_type": "code",
   "execution_count": 10,
   "metadata": {},
   "outputs": [
    {
     "name": "stdout",
     "output_type": "stream",
     "text": [
      "120\n"
     ]
    }
   ],
   "source": [
    "print(reduce(mul, [1, 2, 3, 4, 5]))"
   ]
  },
  {
   "cell_type": "code",
   "execution_count": null,
   "metadata": {},
   "outputs": [],
   "source": [
    "numbers = [2,4,3,5,4]\n",
    "\n",
    "total = 0\n",
    "for num in numbers:\n",
    "    total = total + num\n",
    "    \n",
    "print(total)"
   ]
  },
  {
   "cell_type": "code",
   "execution_count": null,
   "metadata": {},
   "outputs": [],
   "source": [
    "numbers = [2,4,3,5,4]\n",
    "\n",
    "def add(x,y):\n",
    "    return x+y\n",
    "\n",
    "total = reduce(add, numbers)\n",
    "\n",
    "print(total)"
   ]
  },
  {
   "cell_type": "code",
   "execution_count": 11,
   "metadata": {},
   "outputs": [
    {
     "name": "stdout",
     "output_type": "stream",
     "text": [
      "one-two-three-four\n"
     ]
    }
   ],
   "source": [
    "def concat(x,y):\n",
    "    return x+\"-\"+y\n",
    "\n",
    "# we can implement join like functionality using reduce\n",
    "print(reduce(concat, [\"one\", \"two\", \"three\", \"four\"]))"
   ]
  },
  {
   "cell_type": "markdown",
   "metadata": {},
   "source": [
    "Using the function provided join all the words in the given list separated with a space."
   ]
  },
  {
   "cell_type": "code",
   "execution_count": null,
   "metadata": {},
   "outputs": [],
   "source": [
    "def joinSpace(x,y):\n",
    "    return x + \" \" + y"
   ]
  },
  {
   "cell_type": "code",
   "execution_count": null,
   "metadata": {},
   "outputs": [],
   "source": [
    "sentence = [\"Well\",\"done,\",\"it\",\"worked!\"]\n"
   ]
  },
  {
   "cell_type": "markdown",
   "metadata": {},
   "source": [
    "Calculate the factorial of a number.\n",
    "\n",
    "    input = 5\n",
    "    output = 120 (1*2*3*4*5)\n",
    "    \n",
    "`HINT: Use range() but make sure you have the range correct.`"
   ]
  },
  {
   "cell_type": "code",
   "execution_count": null,
   "metadata": {},
   "outputs": [],
   "source": []
  },
  {
   "cell_type": "markdown",
   "metadata": {},
   "source": [
    "Write a program to write out the numbers up to another a given number.\n",
    "\n",
    "    input : 9\n",
    "    output : 0 1 2 3 4 5 6 7 8 9"
   ]
  },
  {
   "cell_type": "code",
   "execution_count": null,
   "metadata": {},
   "outputs": [],
   "source": []
  },
  {
   "cell_type": "markdown",
   "metadata": {},
   "source": [
    "## zip\n",
    "There is one other very useful function when working functionally. `zip` takes a list of sequences, and returns a sequence of the tuples drawn from those sequences.\n",
    "\n",
    "In other words, it *peels* one element at a time off multiple sequences, and returns a tuple of those elements.\n",
    "\n",
    "It is very useful in combination with parallel assignment to iterate over several sequences at the same time.\n",
    "\n",
    "For example, consider this:"
   ]
  },
  {
   "cell_type": "code",
   "execution_count": 12,
   "metadata": {},
   "outputs": [
    {
     "name": "stdout",
     "output_type": "stream",
     "text": [
      "1 5\n",
      "2 6\n",
      "3 7\n",
      "4 8\n"
     ]
    }
   ],
   "source": [
    "x = [1,2,3,4]\n",
    "y = [5,6,7,8]\n",
    "\n",
    "for i in range(len(x)):\n",
    "    print(x[i], y[i])"
   ]
  },
  {
   "cell_type": "markdown",
   "metadata": {},
   "source": [
    "`zip` lets you write this much more directly:"
   ]
  },
  {
   "cell_type": "code",
   "execution_count": 14,
   "metadata": {},
   "outputs": [
    {
     "name": "stdout",
     "output_type": "stream",
     "text": [
      "1 5\n",
      "2 6\n",
      "3 7\n",
      "4 8\n"
     ]
    }
   ],
   "source": [
    "for xi, yi in zip(x,y):\n",
    "    print(xi,yi)"
   ]
  },
  {
   "cell_type": "code",
   "execution_count": 15,
   "metadata": {},
   "outputs": [
    {
     "name": "stdout",
     "output_type": "stream",
     "text": [
      "7\n",
      "10\n",
      "13\n",
      "16\n"
     ]
    }
   ],
   "source": [
    "# We can use the tuple in an expression.\n",
    "\n",
    "for xi, yi in zip(x,y):\n",
    "    print((2*xi)+yi)"
   ]
  },
  {
   "cell_type": "code",
   "execution_count": null,
   "metadata": {},
   "outputs": [],
   "source": [
    "# zip can take any number of sequences\n",
    "for xi, yi, zi in zip(x,y,x[::-1]):\n",
    "    print(xi, yi, zi)"
   ]
  },
  {
   "cell_type": "code",
   "execution_count": 21,
   "metadata": {},
   "outputs": [
    {
     "name": "stdout",
     "output_type": "stream",
     "text": [
      "1 5\n",
      "2 6\n",
      "3 7\n",
      "4 8\n",
      "4\n"
     ]
    }
   ],
   "source": [
    "# imperative programming has the side effect of changing the x and y values.\n",
    "\n",
    "x = [1,2,3,4]\n",
    "y = [5,6,7,8]\n",
    "\n",
    "for x,y in zip(x,y):\n",
    "    print(x,y)\n",
    "    \n",
    "print (x)"
   ]
  },
  {
   "cell_type": "code",
   "execution_count": 22,
   "metadata": {},
   "outputs": [
    {
     "name": "stdout",
     "output_type": "stream",
     "text": [
      "1 5\n",
      "2 6\n",
      "3 7\n",
      "4 8\n",
      "[1, 2, 3, 4]\n"
     ]
    }
   ],
   "source": [
    "# functional programming does not alter the original values of x and y.\n",
    "\n",
    "x = [1,2,3,4]\n",
    "y = [5,6,7,8]\n",
    "\n",
    "[print(x,y) for x,y in zip(x,y)]\n",
    "\n",
    "print (x)"
   ]
  },
  {
   "cell_type": "code",
   "execution_count": null,
   "metadata": {},
   "outputs": [],
   "source": [
    "numbers = [1,2,3]\n",
    "french = [\"un\",\"deux\",\"trois\"]\n",
    "\n",
    "translate = [str(n) +\" = \"+ f for n,f in zip(numbers, french)]\n",
    "print(translate)"
   ]
  },
  {
   "cell_type": "markdown",
   "metadata": {},
   "source": [
    "Use zip() to take the 2 lists x and y above and write it out in the form\n",
    "\n",
    "    1 + 5 = 6\n",
    "    ..."
   ]
  },
  {
   "cell_type": "code",
   "execution_count": null,
   "metadata": {},
   "outputs": [],
   "source": []
  },
  {
   "cell_type": "markdown",
   "metadata": {},
   "source": [
    "Use zip to convert the number and french lists above into a dictionary."
   ]
  },
  {
   "cell_type": "code",
   "execution_count": null,
   "metadata": {},
   "outputs": [],
   "source": []
  },
  {
   "cell_type": "markdown",
   "metadata": {},
   "source": [
    "Use the reduce() and zip() to calculate the dot.product of 2 vectors.\n",
    "\n",
    "    x = [a,b,c]\n",
    "    y = [d,e,f]\n",
    "    dot product  = a*d + b*e + c*f"
   ]
  },
  {
   "cell_type": "code",
   "execution_count": null,
   "metadata": {},
   "outputs": [],
   "source": []
  },
  {
   "cell_type": "markdown",
   "metadata": {},
   "source": [
    "Given a list of numbers return pairings of the value and the postion in the list.\n",
    "\n",
    "    input: number = [2,3,2,6,6,1]\n",
    "    output: (2, 0)\n",
    "            (3, 1)\n",
    "            (2, 2)\n",
    "            (6, 3)\n",
    "            (6, 4)\n",
    "            (1, 5)\n",
    "            \n",
    "    `HINT: For the second list make use of the range() and the len() functions`"
   ]
  },
  {
   "cell_type": "code",
   "execution_count": null,
   "metadata": {},
   "outputs": [],
   "source": []
  },
  {
   "cell_type": "markdown",
   "metadata": {},
   "source": [
    "# Lambda: anonymous functions\n",
    "Python has what are (oddly) called **lambda expressions**. These are *just* anonymous functions, and nothing more.\n",
    "\n",
    "Their only advantage is that they can be written in-line with an expression, instead of requiring a separate `def` block. This doesn't seem that important, but it is often really handy."
   ]
  },
  {
   "cell_type": "markdown",
   "metadata": {},
   "source": [
    "In all the examples so far we have had to write a small function to use with map(), filter() or reduce(). We can create inline nameless functions that can perform the same tasks. These are known as lambda functions. Instead of giving the function a name we use the keyword lambda. lambda is followed by any arguments that the function may have (there does not need to be any) followed by a : After the : we put the expression that is returned."
   ]
  },
  {
   "cell_type": "markdown",
   "metadata": {},
   "source": [
    "Here is an example of the same function using `def` and `lambda`."
   ]
  },
  {
   "cell_type": "code",
   "execution_count": null,
   "metadata": {},
   "outputs": [],
   "source": [
    "def add_def(a,b):\n",
    "    return a + b\n",
    "\n",
    "# this is *exactly* the same as above\n",
    "# it creates the function, then stores it in a variable\n",
    "# note that the parameters are given as a comma separated list after\n",
    "# the lambda\n",
    "add_lambda = lambda a,b: a+b\n",
    "\n",
    "print(add_def(2,3))\n",
    "print(add_lambda(2,3))"
   ]
  },
  {
   "cell_type": "markdown",
   "metadata": {},
   "source": [
    "## lambda parameters\n",
    "`lambda` is just a way of writing functions without giving them a name. It is used because it allows writing functions *within* an expression.\n",
    "\n",
    "There still has to be a parameter list, which is given before a `:` The \"body\" of the `lambda` must be an expression."
   ]
  },
  {
   "cell_type": "code",
   "execution_count": null,
   "metadata": {},
   "outputs": [],
   "source": [
    "def a1():\n",
    "    return \"LAMBDA\"\n",
    "\n",
    "def b1(x):\n",
    "    return [x,x]\n",
    "\n",
    "def c1(x,y):\n",
    "    return x * y \n",
    "\n",
    "# this is exactly equivalent to this:\n",
    "\n",
    "a2 = lambda: \"LAMBDA\"\n",
    "\n",
    "b2 = lambda x: [x,x]\n",
    "\n",
    "c2 = lambda x, y: x * y  "
   ]
  },
  {
   "cell_type": "code",
   "execution_count": null,
   "metadata": {},
   "outputs": [],
   "source": [
    "print(a1())"
   ]
  },
  {
   "cell_type": "code",
   "execution_count": null,
   "metadata": {},
   "outputs": [],
   "source": [
    "print(a2())"
   ]
  },
  {
   "cell_type": "code",
   "execution_count": null,
   "metadata": {},
   "outputs": [],
   "source": [
    "print(b1(5))"
   ]
  },
  {
   "cell_type": "code",
   "execution_count": null,
   "metadata": {},
   "outputs": [],
   "source": [
    "print(b2(2))"
   ]
  },
  {
   "cell_type": "code",
   "execution_count": null,
   "metadata": {},
   "outputs": [],
   "source": [
    "print(c1(3,4))"
   ]
  },
  {
   "cell_type": "code",
   "execution_count": null,
   "metadata": {},
   "outputs": [],
   "source": [
    "print(c2(5,5))"
   ]
  },
  {
   "cell_type": "markdown",
   "metadata": {},
   "source": [
    "**map()**\n",
    "\n",
    "    map(lambda x : expression, list) \n",
    "    \n",
    "    expression is the action we want to perform on each element of the list."
   ]
  },
  {
   "cell_type": "code",
   "execution_count": null,
   "metadata": {},
   "outputs": [],
   "source": [
    "number = [2,4,3,5,3,2,4,4]\n",
    "\n",
    "treble = list(map(lambda x : x * 3, number))\n",
    "print(treble)"
   ]
  },
  {
   "cell_type": "markdown",
   "metadata": {},
   "source": [
    "Using lambda functions write a program to return the last letter of everyone's name."
   ]
  },
  {
   "cell_type": "code",
   "execution_count": null,
   "metadata": {},
   "outputs": [],
   "source": []
  },
  {
   "cell_type": "markdown",
   "metadata": {},
   "source": [
    "Using lambda functions write a program to print out all the squares of all numbers up to 10."
   ]
  },
  {
   "cell_type": "code",
   "execution_count": null,
   "metadata": {},
   "outputs": [],
   "source": []
  },
  {
   "cell_type": "markdown",
   "metadata": {},
   "source": [
    "**filter()**\n",
    "\n",
    "    filter(lambda x: condition, list).\n",
    "    "
   ]
  },
  {
   "cell_type": "code",
   "execution_count": null,
   "metadata": {},
   "outputs": [],
   "source": [
    "number = [2,4,3,5,3,2,4,4]\n",
    "\n",
    "print((list(filter(lambda x : x%2 == 0, number))))"
   ]
  },
  {
   "cell_type": "markdown",
   "metadata": {},
   "source": [
    "Using a lambda expression return all the names not starting with M."
   ]
  },
  {
   "cell_type": "code",
   "execution_count": null,
   "metadata": {},
   "outputs": [],
   "source": [
    "Names = [\"Mary\",\"Tom\",\"Martin\",\"Mark\",\"Isabelle\"]"
   ]
  },
  {
   "cell_type": "markdown",
   "metadata": {},
   "source": [
    "**reduce()**\n",
    "\n",
    "    reduce(lambda x,y : expression, list) \n",
    "    \n",
    "    expression is the operation you want to perform on x and y."
   ]
  },
  {
   "cell_type": "code",
   "execution_count": null,
   "metadata": {},
   "outputs": [],
   "source": [
    "total = (reduce(lambda x,y : x+y, [3,4,2,3,3]))\n",
    "print(total)"
   ]
  },
  {
   "cell_type": "markdown",
   "metadata": {},
   "source": [
    "Using lambda functions calculate the factorial of a given number."
   ]
  },
  {
   "cell_type": "code",
   "execution_count": null,
   "metadata": {},
   "outputs": [],
   "source": [
    "number = 5"
   ]
  },
  {
   "cell_type": "markdown",
   "metadata": {},
   "source": [
    "**Combing map(), filter(), reduce() and zip()**"
   ]
  },
  {
   "cell_type": "markdown",
   "metadata": {},
   "source": [
    "In the following example we want to return all the square numbers between 50 and 150. First we produce all the square numbers using map and then pass the result of this to filter to get the correct range."
   ]
  },
  {
   "cell_type": "code",
   "execution_count": null,
   "metadata": {},
   "outputs": [],
   "source": [
    "print(list(filter(lambda x : x > 50 and x < 150, (map(lambda x : x*x, range(20))))))"
   ]
  },
  {
   "cell_type": "markdown",
   "metadata": {},
   "source": [
    "Write a program that returns the length of every name starting with M"
   ]
  },
  {
   "cell_type": "code",
   "execution_count": null,
   "metadata": {},
   "outputs": [],
   "source": [
    "Names = [\"Mary\",\"Tom\",\"Martin\",\"Mark\",\"Isabelle\"]"
   ]
  },
  {
   "cell_type": "markdown",
   "metadata": {},
   "source": [
    "## First-class functions and closures\n",
    "### Passing functions around\n",
    "Python has first-class functions. They can:\n",
    "* be put into variables\n",
    "* stored in compound data structures\n",
    "* passed to other functions\n",
    "* be returned from other functions\n",
    "\n",
    "Putting functions into compound data structures like dictionaries is a very nice way of mapping from \"commands\" to the code which executes those commands, as in the lab exercise with the text adventure game.\n",
    "\n",
    "The last of these, **returning** from other functions has some very useful applications.\n",
    "\n"
   ]
  },
  {
   "cell_type": "markdown",
   "metadata": {},
   "source": [
    "### Functions as variables."
   ]
  },
  {
   "cell_type": "markdown",
   "metadata": {},
   "source": [
    "Functions can be used just like we use variables.\n",
    "\n",
    "Look at the following program..."
   ]
  },
  {
   "cell_type": "code",
   "execution_count": null,
   "metadata": {},
   "outputs": [],
   "source": [
    "def message():\n",
    "    print(\"I called this without calling message()\")\n",
    "    \n",
    "otherName = message"
   ]
  },
  {
   "cell_type": "markdown",
   "metadata": {},
   "source": [
    "To call the function we can use either message or otherName but need to put () after it to run."
   ]
  },
  {
   "cell_type": "code",
   "execution_count": null,
   "metadata": {},
   "outputs": [],
   "source": [
    "otherName()"
   ]
  },
  {
   "cell_type": "code",
   "execution_count": null,
   "metadata": {},
   "outputs": [],
   "source": [
    "message()"
   ]
  },
  {
   "cell_type": "markdown",
   "metadata": {},
   "source": [
    "We can still pass arguments by including them in the ()"
   ]
  },
  {
   "cell_type": "code",
   "execution_count": null,
   "metadata": {},
   "outputs": [],
   "source": [
    "def double(x):\n",
    "    return x+x\n",
    "\n",
    "twice = double\n",
    "\n",
    "print(twice(6))\n",
    "print(double(100))\n",
    "print(twice(\"hi\"))"
   ]
  },
  {
   "cell_type": "code",
   "execution_count": null,
   "metadata": {},
   "outputs": [],
   "source": [
    "def square(x):\n",
    "    return(x*x)\n",
    "\n",
    "def double(x):\n",
    "    return(x+x)\n",
    "\n",
    "def power(x):\n",
    "    return(2**x)\n",
    "\n",
    "funcs = [square, double, power]\n",
    "\n",
    "num = 3\n",
    "\n",
    "for f in funcs:\n",
    "    print(f(num), end = \" \")"
   ]
  },
  {
   "cell_type": "markdown",
   "metadata": {},
   "source": [
    "Write a program that returns the first letter and length of every name \n",
    "\n",
    "    input = [\"Mary\",\"Tom\",\"Martin\",\"Mark\",\"Isabelle\"]\n",
    "    output: Mary: M 4 \n",
    "            Tom: T 3 \n",
    "            Martin: M 6 \n",
    "            Mark: M 4 \n",
    "            Isabelle: I 8 "
   ]
  },
  {
   "cell_type": "code",
   "execution_count": null,
   "metadata": {},
   "outputs": [],
   "source": []
  },
  {
   "cell_type": "markdown",
   "metadata": {},
   "source": [
    "**Using lambda with dictionaries**"
   ]
  },
  {
   "cell_type": "markdown",
   "metadata": {},
   "source": [
    "Using the dictionary below, ask the user to enter a number and an action(s/d/p) and perform the necessary action."
   ]
  },
  {
   "cell_type": "code",
   "execution_count": 25,
   "metadata": {},
   "outputs": [],
   "source": [
    "def square(x):\n",
    "    return(x*x)\n",
    "\n",
    "def double(x):\n",
    "    return(x+x)\n",
    "\n",
    "def power(x):\n",
    "    return(2**x)\n",
    "\n",
    "messages={\"s\": square,\"d\": double, \"p\":power}"
   ]
  },
  {
   "cell_type": "code",
   "execution_count": null,
   "metadata": {},
   "outputs": [],
   "source": []
  },
  {
   "cell_type": "markdown",
   "metadata": {},
   "source": [
    "However the following does not work. The methods are called when creating the dictionary."
   ]
  },
  {
   "cell_type": "code",
   "execution_count": null,
   "metadata": {},
   "outputs": [],
   "source": [
    "messages={\"hi\":print(\"hello\"),\"bye\":print(\"goodbye\")}"
   ]
  },
  {
   "cell_type": "markdown",
   "metadata": {},
   "source": [
    "Then when we try to call the functions later nothing happens....."
   ]
  },
  {
   "cell_type": "markdown",
   "metadata": {},
   "source": [
    "Then when we try to call the functions later nothing happens....."
   ]
  },
  {
   "cell_type": "code",
   "execution_count": null,
   "metadata": {},
   "outputs": [],
   "source": [
    "messages[\"hi\"]"
   ]
  },
  {
   "cell_type": "markdown",
   "metadata": {},
   "source": [
    "To over come this we use lambda. Now when we run the dictionary it creates the lambda function but does not execute it. "
   ]
  },
  {
   "cell_type": "code",
   "execution_count": null,
   "metadata": {},
   "outputs": [],
   "source": [
    "messages={\"hi\":lambda: print(\"hello\"),\"bye\":lambda: print(\"goodbye\")}"
   ]
  },
  {
   "cell_type": "markdown",
   "metadata": {},
   "source": [
    "To execute it we access the correct value of the dictionary and add `()` to run it."
   ]
  },
  {
   "cell_type": "code",
   "execution_count": null,
   "metadata": {},
   "outputs": [],
   "source": [
    "# IMPORTANT: You must add the () to run the method.\n",
    "\n",
    "messages[\"hi\"]()"
   ]
  },
  {
   "cell_type": "markdown",
   "metadata": {},
   "source": [
    "Write a program that asks a user if they wish to enter their mobile number, email address or student id. Depending on their choice print out the relevant prompt to input the details. Use a `dictionary` rather than an `if statement` to do this."
   ]
  },
  {
   "cell_type": "code",
   "execution_count": null,
   "metadata": {},
   "outputs": [],
   "source": []
  },
  {
   "cell_type": "markdown",
   "metadata": {},
   "source": [
    "### Attaching data to functions: closures"
   ]
  },
  {
   "cell_type": "markdown",
   "metadata": {},
   "source": [
    "We can have **local** variables and **global variables**. But global variables are visible to everything; they are completely public. Local variables are \"safer\" because they can only be seen by that specific function. \n",
    "\n",
    "*But* their values don't persist from call to call. They get reset every time the function is called, and we get a new blank local scope. **Closures** let us have a private set of variables for one function, which do stick around from call to call.\n",
    "\n",
    "All we need to do refer to variables which are created in an **outer scope**, and that function will then carry about the variables it referred to in the outer scope. A simple example:"
   ]
  },
  {
   "cell_type": "markdown",
   "metadata": {},
   "source": [
    "map() takes as its arguments a function and a list (nothing more, nothing less). Now if we wish to add 2 to every number in a list we could do.."
   ]
  },
  {
   "cell_type": "code",
   "execution_count": null,
   "metadata": {},
   "outputs": [],
   "source": [
    "def addTwo(x):\n",
    "    return x+2\n",
    "\n",
    "number = [2,3,2,6,6,1]\n",
    "\n",
    "print(list(map(addTwo, number)))"
   ]
  },
  {
   "cell_type": "markdown",
   "metadata": {},
   "source": [
    "Now if we wish to add 3 or 4 or 5...."
   ]
  },
  {
   "cell_type": "code",
   "execution_count": null,
   "metadata": {},
   "outputs": [],
   "source": [
    "def addThree(x):\n",
    "    return x+3\n",
    "\n",
    "def addFour(x):\n",
    "    return x+4\n",
    "\n",
    "def addFive(x):\n",
    "    return x+5\n",
    "\n",
    "print(list(map(addThree, number)))\n",
    "print(list(map(addFour, number)))\n",
    "print(list(map(addFive, number)))"
   ]
  },
  {
   "cell_type": "markdown",
   "metadata": {},
   "source": [
    "As we can see each function does a similar action. All that changes is the number added to x. To simplify this process we could use function closures. What we do is write a master function that takes in the number to be added to each element of the list (in the case above 2,3,4 or 5). It then defines an inner function using this parameter. We must return this inner function to a variable. Using this variable as a function will remember the number to be added. Let's look at what happens in the example below...."
   ]
  },
  {
   "cell_type": "code",
   "execution_count": 26,
   "metadata": {},
   "outputs": [],
   "source": [
    "def addMaker(n):\n",
    "    def adder(x):\n",
    "        return(x+n)\n",
    "    return adder\n",
    "\n",
    "addTwo = addMaker(2)"
   ]
  },
  {
   "cell_type": "markdown",
   "metadata": {},
   "source": [
    "Calling addMaker with the argument 2 returns the `adder` function with `n` set as 2 to the variable `addTwo`. Now calling `addTwo` with a value, will return that value + 2. `addTwo` remembers that `n` is 2."
   ]
  },
  {
   "cell_type": "code",
   "execution_count": null,
   "metadata": {},
   "outputs": [],
   "source": [
    "print(addTwo(5))\n",
    "print(addTwo(2))\n",
    "print(addTwo(-3))\n",
    "print(list(map(addTwo, number)))"
   ]
  },
  {
   "cell_type": "markdown",
   "metadata": {},
   "source": [
    "Now it will be alot easier to create many functions to add different values to a list."
   ]
  },
  {
   "cell_type": "code",
   "execution_count": 28,
   "metadata": {},
   "outputs": [
    {
     "name": "stdout",
     "output_type": "stream",
     "text": [
      "[5, 7, 6, 8, 6, 5, 3, 7]\n",
      "[6, 8, 7, 9, 7, 6, 4, 8]\n",
      "[7, 9, 8, 10, 8, 7, 5, 9]\n",
      "10\n"
     ]
    }
   ],
   "source": [
    "addThree = addMaker(3)\n",
    "addFour = addMaker(4)\n",
    "addFive = addMaker(5)\n",
    "\n",
    "print(list(map(addThree, number)))\n",
    "print(list(map(addFour, number)))\n",
    "print(list(map(addFive, number)))\n",
    "print(addTwo(addThree(addFour(1))))"
   ]
  },
  {
   "cell_type": "markdown",
   "metadata": {},
   "source": [
    "What happened here?\n",
    "* The value of `n` is **bound** each time `addMaker()` is called;\n",
    "* the definition of adder, which is *inside* `addMaker()` then captures that binding (\"closes over\" it),\n",
    "* and then this version of adder with this binding is returned.\n",
    "\n",
    "Note that we have created a **new, different** version of `adder()` each time we call `addMaker()`. It has manufactured a new function for us."
   ]
  },
  {
   "cell_type": "markdown",
   "metadata": {},
   "source": [
    "Write a function that can create powers of different values. Use this to find the values of a list of numbers using different powers."
   ]
  },
  {
   "cell_type": "code",
   "execution_count": null,
   "metadata": {},
   "outputs": [],
   "source": []
  },
  {
   "cell_type": "markdown",
   "metadata": {},
   "source": [
    "Use function closure to examine how the length of the sides of a right angle triangle affect the length of the hypothenuse.\n",
    "\n",
    "    To calculate the hypthenuse = math.sqrt(a*a + b*b)\n",
    "    \n",
    "*HINT: Set one of the sides lengths and calculate the hypothenuse varing the other sides length. Then change the first sides length and use the same values of the second side.*\n",
    "\n",
    "This is not a very good hint so if you don't understand please ask."
   ]
  },
  {
   "cell_type": "code",
   "execution_count": null,
   "metadata": {},
   "outputs": [],
   "source": []
  },
  {
   "cell_type": "markdown",
   "metadata": {},
   "source": [
    "The function sorted() has an optional key argument that allows you to decide which element in the list to sort on"
   ]
  },
  {
   "cell_type": "code",
   "execution_count": null,
   "metadata": {},
   "outputs": [],
   "source": [
    "stock = [[\"nails\",50,0.99,\"ds557\"],[\"hammer\",3,10.99,\"fg265\"],[\"saw\",1,5.99,\"cc931\"]]"
   ]
  },
  {
   "cell_type": "code",
   "execution_count": null,
   "metadata": {},
   "outputs": [],
   "source": [
    "stockSorted = sorted(stock)\n",
    "print(stockSorted)"
   ]
  },
  {
   "cell_type": "code",
   "execution_count": null,
   "metadata": {},
   "outputs": [],
   "source": [
    "def first(l):\n",
    "    return l[0]\n",
    "\n",
    "def second(l):\n",
    "    return l[1]\n",
    "\n",
    "def third(l):\n",
    "    return l[2]\n",
    "\n",
    "def fourth(l):\n",
    "    return l[3]\n",
    "\n",
    "sort1 = sorted(stock, key = first)\n",
    "print(sort1)\n",
    "\n",
    "sort2 = sorted(stock, key = second)\n",
    "print(sort2)\n",
    "\n",
    "sort3 = sorted(stock, key = third)\n",
    "print(sort3)\n",
    "\n",
    "sort4 = sorted(stock, key = fourth)\n",
    "print(sort4)"
   ]
  },
  {
   "cell_type": "markdown",
   "metadata": {},
   "source": [
    "Use function closure to create a generator of keys and re-write the problem above."
   ]
  },
  {
   "cell_type": "code",
   "execution_count": null,
   "metadata": {},
   "outputs": [],
   "source": []
  }
 ],
 "metadata": {
  "kernelspec": {
   "display_name": "Python 3",
   "language": "python",
   "name": "python3"
  },
  "language_info": {
   "codemirror_mode": {
    "name": "ipython",
    "version": 3
   },
   "file_extension": ".py",
   "mimetype": "text/x-python",
   "name": "python",
   "nbconvert_exporter": "python",
   "pygments_lexer": "ipython3",
   "version": "3.6.5"
  }
 },
 "nbformat": 4,
 "nbformat_minor": 2
}

