{
 "cells": [
  {
   "cell_type": "markdown",
   "metadata": {},
   "source": [
    "# Looping\n",
    "Repeating actions is what makes computers powerful. Controlling repetition is central to programming. A section of code that repeats is called a **loop**, and the act of repeating is called **iteration** (from the Latin *iterare* \"to do again\").\n",
    "\n",
    "The key thing about looping is that it useful looping does not do *exactly* the same thing again, but repeats an set of instructions (statements) on *different data*."
   ]
  },
  {
   "cell_type": "markdown",
   "metadata": {},
   "source": [
    "## Definite iteration\n",
    "Definite iteration means doing something a fixed number of times. In Python, we use `for` to specify a definite iterations. To iterate over a sequence of numbers, we use `range()` to tell `for` what numbers we want to step through:"
   ]
  },
  {
   "cell_type": "markdown",
   "metadata": {},
   "source": [
    "#### Range\n",
    "When we use `range()` like this, these are known as **counted loops**, because the loop variable counts up. \n",
    "\n",
    "What `range()` really does is generate a sequence of numbers, and `for` then looks at those in turn.\n"
   ]
  },
  {
   "cell_type": "code",
   "execution_count": 6,
   "metadata": {},
   "outputs": [
    {
     "name": "stdout",
     "output_type": "stream",
     "text": [
      "[0, 1, 2, 3, 4, 5, 6, 7, 8, 9]\n"
     ]
    }
   ],
   "source": [
    "print(list(range(10)))"
   ]
  },
  {
   "cell_type": "code",
   "execution_count": null,
   "metadata": {},
   "outputs": [],
   "source": []
  },
  {
   "cell_type": "code",
   "execution_count": null,
   "metadata": {},
   "outputs": [],
   "source": []
  },
  {
   "cell_type": "code",
   "execution_count": null,
   "metadata": {},
   "outputs": [],
   "source": []
  },
  {
   "cell_type": "code",
   "execution_count": null,
   "metadata": {},
   "outputs": [],
   "source": []
  },
  {
   "cell_type": "markdown",
   "metadata": {},
   "source": [
    "### For loops to perform a definite number of iterations."
   ]
  },
  {
   "cell_type": "code",
   "execution_count": null,
   "metadata": {},
   "outputs": [],
   "source": [
    "for i in range(10):\n",
    "    print(\"*\", end=' ')"
   ]
  },
  {
   "cell_type": "code",
   "execution_count": null,
   "metadata": {},
   "outputs": [],
   "source": [
    "# range(5) creates the list [0,1,2,3,4]. \n",
    "#The for loop assigns i the next value of the list after each iteration.\n",
    "#The loop variable i is used to count the number of times the loop is executed.\n",
    "#Its value is never used in the program\n",
    "\n",
    "for i in range(5):\n",
    "    print(\"duck\")\n",
    "print(\"goose\")"
   ]
  },
  {
   "cell_type": "code",
   "execution_count": null,
   "metadata": {},
   "outputs": [],
   "source": [
    "#The product 3*4 is the same as 3+3+3+3\n",
    "#Therefore the product m*n can be calculated by adding m to iself n times\n",
    "m = 3\n",
    "n = 4\n",
    "product = 0\n",
    "for i in range(n):\n",
    "    product += m\n",
    "print(product)\n"
   ]
  },
  {
   "cell_type": "code",
   "execution_count": null,
   "metadata": {},
   "outputs": [],
   "source": [
    "#Alter the program above to calculate the power m^n\n",
    "#hint: 3^4 = 3*3*3*3"
   ]
  },
  {
   "cell_type": "code",
   "execution_count": null,
   "metadata": {},
   "outputs": [],
   "source": [
    "#for punishment you have to write out the line \"I must learn python.\" ten times."
   ]
  },
  {
   "cell_type": "markdown",
   "metadata": {},
   "source": [
    "### For loops where the loop variable is used in the loop body"
   ]
  },
  {
   "cell_type": "markdown",
   "metadata": {},
   "source": [
    "The **loop variable** is the variable *i* here. It changes as the loop runs."
   ]
  },
  {
   "cell_type": "code",
   "execution_count": null,
   "metadata": {},
   "outputs": [],
   "source": [
    "for i in range(10):\n",
    "    print(i, end=' ')"
   ]
  },
  {
   "cell_type": "markdown",
   "metadata": {},
   "source": [
    "The **loop body** is the all of the code inside of the loop; in this case just the single line:\n",
    "\n",
    "     print(i, end=' ')\n",
    "    "
   ]
  },
  {
   "cell_type": "markdown",
   "metadata": {},
   "source": [
    "<img src=\"for_graph.merm.png\" width=\"300px\">"
   ]
  },
  {
   "cell_type": "markdown",
   "metadata": {},
   "source": [
    "Note that Python counts from 0, not 1, so `range(10)` will repeat exactly 10 times, but `i` will range from 0 to 9.\n",
    "\n",
    "We can change the range we iterate over:"
   ]
  },
  {
   "cell_type": "code",
   "execution_count": null,
   "metadata": {},
   "outputs": [],
   "source": [
    "# 0..4\n",
    "for i in range(5):\n",
    "    print(i)"
   ]
  },
  {
   "cell_type": "code",
   "execution_count": null,
   "metadata": {},
   "outputs": [],
   "source": [
    "# 1..10\n",
    "for i in range(1,11):\n",
    "    print(i)"
   ]
  },
  {
   "cell_type": "markdown",
   "metadata": {},
   "source": [
    "It might seem strange that we write `range(1,11)` and stop at 10, but it is consistent with the view that numbers are counted starting at 0. In Python, the start is *inclusive* and the end is *exclusive*."
   ]
  },
  {
   "cell_type": "code",
   "execution_count": null,
   "metadata": {},
   "outputs": [],
   "source": [
    "for i in range(1,6):\n",
    "    print(i, end = \" \")\n",
    "print()\n",
    "print(\"Once I caught a fish alive\")\n",
    "for i in range(6,11):\n",
    "    print(i, end = \" \")\n",
    "print()\n",
    "print(\"Then I let him go again!\")"
   ]
  },
  {
   "cell_type": "code",
   "execution_count": null,
   "metadata": {},
   "outputs": [],
   "source": [
    "#The factorial of 5 is 1*2*3*4*5 = 120\n",
    "factorial = 1\n",
    "for i in range(1,6):\n",
    "    factorial = factorial * i\n",
    "print(factorial)"
   ]
  },
  {
   "cell_type": "markdown",
   "metadata": {},
   "source": [
    "Write a program that finds the sum of the square of numbers from 0 to `n`  $= 0^2 + 1^2 + 2^2 + 3^2 + \\dots + n^2$. You can compute the square of a number `x` using `x*x` or `x**2`. Remember to include the number n.\n",
    "\n",
    "Check that your code computes the  sum of squares for `n=3` as: \n",
    "\n",
    "    0*0 + 1*1 + 2*2 + 3*3 = 1+4+9 = 14\n",
    "    \n",
    "Print out the sum of squares for `n=20`. \n"
   ]
  },
  {
   "cell_type": "code",
   "execution_count": null,
   "metadata": {},
   "outputs": [],
   "source": []
  },
  {
   "cell_type": "markdown",
   "metadata": {},
   "source": [
    "Note that **range** could take a computed expression, not just a constant. **BUT**, the value we loop to must stay constant *within that loop*.\n",
    "\n",
    "This is fine:"
   ]
  },
  {
   "cell_type": "code",
   "execution_count": 11,
   "metadata": {},
   "outputs": [
    {
     "name": "stdout",
     "output_type": "stream",
     "text": [
      "3 6 9 \n",
      "5 8 11 \n"
     ]
    }
   ],
   "source": [
    "matrixA = [[1,2,3],[4,5,6]]\n",
    "matrixB = [[2,4,6],[1,3,5]]\n",
    "\n",
    "for i in range(len(matrixA)):\n",
    "    for j in range(len(row)):\n",
    "        print(matrixA[i][j]+matrixB[i][j], end = \" \")\n",
    "    print()"
   ]
  },
  {
   "cell_type": "code",
   "execution_count": 14,
   "metadata": {},
   "outputs": [
    {
     "name": "stdout",
     "output_type": "stream",
     "text": [
      "[5, 7, 9]\n"
     ]
    }
   ],
   "source": [
    "vectorA = [1,2,3]\n",
    "vectorB = [4,5,6]\n",
    "vectorC = []\n",
    "\n",
    "for i in range(len(vectorA)):\n",
    "    vectorC. append(vectorA[i]+vectorB[i])\n",
    "print(vectorC)"
   ]
  },
  {
   "cell_type": "markdown",
   "metadata": {},
   "source": [
    "### Skipping\n",
    "We can even make the loop variable skip numbers as it goes, using a step. This is given as the third value to `range()`: `range(0,10,2)` means values from 0 to 9, choosing every fifth number."
   ]
  },
  {
   "cell_type": "code",
   "execution_count": 2,
   "metadata": {},
   "outputs": [
    {
     "name": "stdout",
     "output_type": "stream",
     "text": [
      "0\n",
      "2\n",
      "4\n",
      "6\n",
      "8\n"
     ]
    }
   ],
   "source": [
    "# 0..9, every second number\n",
    "# note that I **must** specify the start and end of this range\n",
    "# as well as the step \n",
    "for i in range(0,10,2):\n",
    "    print(i)"
   ]
  },
  {
   "cell_type": "code",
   "execution_count": 3,
   "metadata": {},
   "outputs": [
    {
     "name": "stdout",
     "output_type": "stream",
     "text": [
      "10\n",
      "9\n",
      "8\n",
      "7\n",
      "6\n",
      "5\n",
      "4\n",
      "3\n",
      "2\n",
      "1\n",
      "BLAST OFF!\n"
     ]
    }
   ],
   "source": [
    "for i in range(10,0,-1):\n",
    "    print(i)\n",
    "print(\"BLAST OFF!\")"
   ]
  },
  {
   "cell_type": "markdown",
   "metadata": {},
   "source": [
    "## Nested loops\n",
    "We can **nest** one loop inside another. \n",
    "\n",
    "To do this, we just put one loop inside the other."
   ]
  },
  {
   "cell_type": "code",
   "execution_count": 4,
   "metadata": {},
   "outputs": [
    {
     "name": "stdout",
     "output_type": "stream",
     "text": [
      "**********\n",
      "**********\n",
      "**********\n",
      "**********\n",
      "**********\n"
     ]
    }
   ],
   "source": [
    "for i in range(5):\n",
    "    for j in range(10):\n",
    "        print(\"*\", end=\"\")\n",
    "    print() # new line"
   ]
  },
  {
   "cell_type": "code",
   "execution_count": 1,
   "metadata": {},
   "outputs": [
    {
     "name": "stdout",
     "output_type": "stream",
     "text": [
      "i 0 j 0 k 0\n",
      "i 0 j 0 k 1\n",
      "i 0 j 0 k 2\n",
      "i 0 j 1 k 0\n",
      "i 0 j 1 k 1\n",
      "i 0 j 1 k 2\n",
      "i 0 j 2 k 0\n",
      "i 0 j 2 k 1\n",
      "i 0 j 2 k 2\n",
      "\n",
      "i 1 j 0 k 0\n",
      "i 1 j 0 k 1\n",
      "i 1 j 0 k 2\n",
      "i 1 j 1 k 0\n",
      "i 1 j 1 k 1\n",
      "i 1 j 1 k 2\n",
      "i 1 j 2 k 0\n",
      "i 1 j 2 k 1\n",
      "i 1 j 2 k 2\n",
      "\n",
      "i 2 j 0 k 0\n",
      "i 2 j 0 k 1\n",
      "i 2 j 0 k 2\n",
      "i 2 j 1 k 0\n",
      "i 2 j 1 k 1\n",
      "i 2 j 1 k 2\n",
      "i 2 j 2 k 0\n",
      "i 2 j 2 k 1\n",
      "i 2 j 2 k 2\n",
      "\n"
     ]
    }
   ],
   "source": [
    "for i in range(3):\n",
    "    for j in range(3):\n",
    "        for k in range(3):\n",
    "            print(\"i\", i, \"j\", j, \"k\", k)\n",
    "    print() # print a newline to make it clearer"
   ]
  },
  {
   "cell_type": "markdown",
   "metadata": {},
   "source": [
    "Notice that the **inner** loop (with `j` here) runs \"fastest\", in that it cycles through each of its values before `i` changes (the `i` loop is called the **outer** loop). This is logically what we asked for. "
   ]
  },
  {
   "cell_type": "markdown",
   "metadata": {},
   "source": [
    "\n",
    "Use a nested for loops to print out a `n` grids of digits with dimensions `x` and `y`. Each grid should be separated by a blank line. Each grid should be filled with an integer, that should start at 0 and increase for every grid printed. Each integer should be separated by a space from the previous integer.\n",
    "\n",
    "***hint: in this exercise you will need 3 for loops. The outermost will control the number being printed out. x and y will be the same as width and heigth in the examples above.***\n",
    "\n",
    "For example, for n=2, x=3, y=4, you should get\n",
    "\n",
    "    0 0 0\n",
    "    0 0 0\n",
    "    0 0 0\n",
    "    0 0 0\n",
    "    \n",
    "    1 1 1\n",
    "    1 1 1\n",
    "    1 1 1\n",
    "    1 1 1\n",
    "\n",
    "For n=4, x=5, y=1 you should get\n",
    "\n",
    "    0 0 0 0 0\n",
    "\n",
    "    1 1 1 1 1\n",
    "    \n",
    "    2 2 2 2 2\n",
    "    \n",
    "    3 3 3 3 3\n",
    "        "
   ]
  },
  {
   "cell_type": "code",
   "execution_count": null,
   "metadata": {},
   "outputs": [],
   "source": []
  },
  {
   "cell_type": "markdown",
   "metadata": {},
   "source": [
    "#### range() with an expression."
   ]
  },
  {
   "cell_type": "code",
   "execution_count": null,
   "metadata": {},
   "outputs": [],
   "source": [
    "for i in range(10):\n",
    "    for j in range(i):\n",
    "        print(\"*\", end=' ') \n",
    "    print()"
   ]
  },
  {
   "cell_type": "markdown",
   "metadata": {},
   "source": [
    "Using nested loops print out the following sequence of squares....\n",
    "\n",
    "    1\n",
    "\n",
    "    2 2\n",
    "    2 2\n",
    "    \n",
    "    3 3 3\n",
    "    3 3 3\n",
    "    3 3 3\n",
    "    \n",
    "    etc.....\n",
    "\n"
   ]
  },
  {
   "cell_type": "code",
   "execution_count": null,
   "metadata": {},
   "outputs": [],
   "source": []
  },
  {
   "cell_type": "code",
   "execution_count": 15,
   "metadata": {},
   "outputs": [
    {
     "name": "stdout",
     "output_type": "stream",
     "text": [
      "1 2 3 \n",
      "4 5 6 \n"
     ]
    }
   ],
   "source": [
    "matrixA = [[1,2,3],[4,5,6]]\n",
    "\n",
    "for i in range(len(matrixA)):\n",
    "    for j in range(len(row)):\n",
    "        print(matrixA[i][j], end = \" \")\n",
    "    print()"
   ]
  },
  {
   "cell_type": "markdown",
   "metadata": {},
   "source": [
    "Now create a new matrix C to store the result of the matrix addition. Afterwards print out the result."
   ]
  },
  {
   "cell_type": "code",
   "execution_count": 17,
   "metadata": {},
   "outputs": [],
   "source": [
    "matrixA = [[1,2,3],[4,5,6]]\n",
    "matrixB = [[2,4,6],[1,3,5]]\n",
    "matrixC = []\n",
    "newRow = []\n"
   ]
  },
  {
   "cell_type": "markdown",
   "metadata": {},
   "source": [
    "Write a program to sort the following numbers from small to large.\n",
    "\n",
    "    HINT: Have a for loop to find the position of the smallest value.\n",
    "          Swap the values at the beginning of the list with the smallest value.\n",
    "          Now find the smallest value from the second value to the end of the list.\n",
    "          Repeat until have ordered the complete list.\n",
    "          "
   ]
  },
  {
   "cell_type": "code",
   "execution_count": 30,
   "metadata": {},
   "outputs": [],
   "source": [
    "numbers = [54,6,12,87,92,34,89,3]\n",
    "    "
   ]
  },
  {
   "cell_type": "markdown",
   "metadata": {},
   "source": [
    "#### Never write to loop variables\n",
    "Don't try and change a loop variable during the execution of a loop. The behaviour is not what you might expect (although it is consistent):"
   ]
  },
  {
   "cell_type": "code",
   "execution_count": null,
   "metadata": {},
   "outputs": [],
   "source": [
    "for i in range(10):\n",
    "    if i==5:\n",
    "        i = 25\n",
    "    print(i)"
   ]
  },
  {
   "cell_type": "markdown",
   "metadata": {},
   "source": [
    "### Loops over data structures\n",
    "\n",
    "`for` will actually step through **any** sequence of values. That sequence does not have to come from `range()`. Strings, for example, are sequences of character (length-1 strings) in Python, so this works:"
   ]
  },
  {
   "cell_type": "code",
   "execution_count": null,
   "metadata": {},
   "outputs": [],
   "source": []
  },
  {
   "cell_type": "markdown",
   "metadata": {},
   "source": [
    "### Enumerate\n",
    "Sometimes it is useful to both get the elements of a list and their index. This is particularly handy if you want to index two lists at the same time. The handy `enumerate()` function makes that easy:\n",
    "\n",
    "Using a `for ` loop over an enumerate list returns a tuple (index,value)\n",
    "\n",
    "The index can be used to find values at the same position in another list.\n"
   ]
  },
  {
   "cell_type": "code",
   "execution_count": 31,
   "metadata": {},
   "outputs": [
    {
     "name": "stdout",
     "output_type": "stream",
     "text": [
      "There are 31 days in January.\n",
      "There are 28 days in February.\n",
      "There are 31 days in March.\n",
      "There are 30 days in April.\n",
      "There are 31 days in May.\n",
      "There are 30 days in June.\n",
      "There are 31 days in July.\n",
      "There are 31 days in August.\n",
      "There are 30 days in September.\n",
      "There are 31 days in October.\n",
      "There are 30 days in November.\n",
      "There are 31 days in December.\n"
     ]
    }
   ],
   "source": [
    "# enumerating the moths list allows us to find the value and position of each element of the list.\n",
    "# the index can be used to find the respective number of days from the days list.\n",
    "\n",
    "months = [\"January\",\"February\",\"March\",\"April\",\"May\",\"June\",\"July\",\"August\",\"September\",\"October\",\"November\",\"December\"]\n",
    "days = [31,28,31,30,31,30,31,31,30,31,30,31]\n",
    "\n",
    "for i,m in enumerate(months):\n",
    "    print(\"There are %d days in %s.\" %(days[i],m))"
   ]
  },
  {
   "cell_type": "markdown",
   "metadata": {},
   "source": [
    "Enumerated lists behave slightly differently to lists as seen in the following examples."
   ]
  },
  {
   "cell_type": "code",
   "execution_count": 24,
   "metadata": {},
   "outputs": [
    {
     "name": "stdout",
     "output_type": "stream",
     "text": [
      "(1, 1) (1, 2) (1, 3) \n",
      "(2, 1) (2, 2) (2, 3) \n",
      "(3, 1) (3, 2) (3, 3) \n"
     ]
    }
   ],
   "source": [
    "# Each for loop iterates over all the values in the num list\n",
    "\n",
    "num = [1,2,3]\n",
    "\n",
    "for n in num:\n",
    "    for m in num:\n",
    "        print((n,m), end = \" \")\n",
    "    print()"
   ]
  },
  {
   "cell_type": "code",
   "execution_count": 25,
   "metadata": {},
   "outputs": [
    {
     "name": "stdout",
     "output_type": "stream",
     "text": [
      "(1, 2) (1, 3) \n"
     ]
    }
   ],
   "source": [
    "# num is the enumerated version of the num list above.\n",
    "# the outer for loop gets the first value and index of the list (it is now removed from the enumerated list).\n",
    "# the inner for loop gets the next value of the enumerated list and loops to the end of the list.\n",
    "# when it loops back to the outer list there are no values left in the enumerated list.\n",
    "\n",
    "num = enumerate([1,2,3])\n",
    "\n",
    "for i,n in num:\n",
    "    for j,m in num:\n",
    "        print((n,m), end = \" \")\n",
    "    print()"
   ]
  },
  {
   "cell_type": "code",
   "execution_count": 26,
   "metadata": {},
   "outputs": [
    {
     "name": "stdout",
     "output_type": "stream",
     "text": [
      "(1, 1) (1, 2) (1, 3) \n",
      "(2, 1) (2, 2) (2, 3) \n",
      "(3, 1) (3, 2) (3, 3) \n"
     ]
    }
   ],
   "source": [
    "# this creates a new (separate) enumerated list for each for loop.\n",
    "# it produces results similar to the for loops over the original list.\n",
    "\n",
    "num = [1,2,3]\n",
    "\n",
    "for i,n in enumerate(num):\n",
    "    for j,m in enumerate(num):\n",
    "        print((n,m), end = \" \")\n",
    "    print()"
   ]
  },
  {
   "cell_type": "code",
   "execution_count": null,
   "metadata": {},
   "outputs": [],
   "source": []
  },
  {
   "cell_type": "code",
   "execution_count": null,
   "metadata": {},
   "outputs": [],
   "source": []
  },
  {
   "cell_type": "markdown",
   "metadata": {},
   "source": [
    "# Indefinite iteration\n",
    "With indefinite iteration, in contrast, we don't specify in advance how many repetitions to do. This is the most general form of a loop.\n",
    "\n",
    "\n",
    "### While\n",
    "In Python, we use `while` to specify an indefinite loop. The `while` must be followed by a condition (an expression that evaluates to a boolean True or False). If the condition is True, the loop continues. If it is False, the loop is skipped over. Within the condition there must be a loop variable. This loop variable must be given a value before `while` statement and update within the loop body. If the loop variable never changes, the condition can never become false and it becomes an infinite loop."
   ]
  },
  {
   "cell_type": "code",
   "execution_count": 32,
   "metadata": {},
   "outputs": [
    {
     "name": "stdout",
     "output_type": "stream",
     "text": [
      "0\n",
      "1\n",
      "2\n",
      "3\n",
      "4\n"
     ]
    }
   ],
   "source": [
    "i = 0           # i is the loop variable, it must be assigned a value before the while statemet.\n",
    "while i<5:      # while statement with condition. The loop variable is part of the condition.\n",
    "    print(i)    # body of the while loop\n",
    "    i += 1      # loop variable i is updated.\n",
    "    \n",
    "# VERY IMPORTANT -- if you forget this the loop will run forever.after all, how could i ever get to be bigger than 5 \n",
    "# if you don't ever change it!"
   ]
  },
  {
   "cell_type": "code",
   "execution_count": 33,
   "metadata": {},
   "outputs": [
    {
     "name": "stdout",
     "output_type": "stream",
     "text": [
      "0\n",
      "1\n",
      "2\n",
      "3\n",
      "4\n"
     ]
    }
   ],
   "source": [
    "# The while loop above is equivalent to the following for loop.\n",
    "\n",
    "for i in range(5):\n",
    "    print(i)"
   ]
  },
  {
   "cell_type": "markdown",
   "metadata": {},
   "source": [
    "We would never write a loop as a while loop if it could be written neatly as a for loop."
   ]
  },
  {
   "cell_type": "markdown",
   "metadata": {},
   "source": [
    "<img src=\"while_graph.merm.png\" width=\"300px\">"
   ]
  },
  {
   "cell_type": "markdown",
   "metadata": {},
   "source": [
    "Whereas every `for` loop can be written as a `while` loop, a `for` loop can only be used if it is known in advance how many iterations will be performed. If the number of iterations is unknown a `while` loop is used.\n",
    "\n",
    "For example, we might want to divide to numbers by repeated subtraction. We don't know how many times we need to subtract the denominator, because that's what we're trying to work out."
   ]
  },
  {
   "cell_type": "code",
   "execution_count": 34,
   "metadata": {},
   "outputs": [
    {
     "name": "stdout",
     "output_type": "stream",
     "text": [
      "9 remainder 1\n",
      "9 * 7 + 1 = 64\n"
     ]
    }
   ],
   "source": [
    "# division by repeated subtraction\n",
    "num = 64\n",
    "denom = 7\n",
    "result = 0\n",
    "while num>denom:\n",
    "    num = num - denom\n",
    "    result += 1\n",
    "    \n",
    "# we will have gone one subtraction \n",
    "# \"too far\", which we correct at the end\n",
    "print(\"%d remainder %d\" % (result, num))\n",
    "# verify our result numerically\n",
    "print(\"%d * %d + %d = %d\" % (result, denom,num,result*denom+num))"
   ]
  },
  {
   "cell_type": "code",
   "execution_count": null,
   "metadata": {},
   "outputs": [],
   "source": [
    "#Read in a sequence of numbers until a negative number is entered.\n",
    "#Find the total of all the positive numbers entered.\n",
    "\n",
    "total = 0\n",
    "number = int(input(\"Enter a number: \"))\n",
    "while number >= 0:\n",
    "    total += number\n",
    "    number = int(input(\"Enter another number: \"))\n",
    "print(\"The total of all the positive numbers is %s.\" %(total))"
   ]
  },
  {
   "cell_type": "code",
   "execution_count": null,
   "metadata": {},
   "outputs": [],
   "source": [
    "#Extend the program above to output the average of all the numbers entered."
   ]
  },
  {
   "cell_type": "code",
   "execution_count": null,
   "metadata": {},
   "outputs": [],
   "source": [
    "#Enter a sequence of numbers \n",
    "#until the sum of the numbers entered is greater than 100.\n",
    "#Calculate how many numbers have been entered.\n",
    "#Print out the count, total and average of all the numbers entered."
   ]
  },
  {
   "cell_type": "markdown",
   "metadata": {},
   "source": [
    "A binary number is calculated by repeated dividing a number by 2.\n",
    "The program stops when the number equals zero.\n",
    "The remainders of the division form the binary number.\n",
    "The binary representation of the number 20 can be calculated as follows\n",
    "\n",
    "    20//2 = 10 remainder 0\n",
    "    10//2 = 5  remainder 0\n",
    "    5//2 = 2   remainder 1\n",
    "    2//2 = 1   remainder 0\n",
    "    1//2 = 0   remainder 1\n",
    "    \n",
    "    20 is 10100 in binary representaion (remainders read from bottom to top)\n",
    "\n",
    "Write a program to calculate any binary number."
   ]
  },
  {
   "cell_type": "code",
   "execution_count": null,
   "metadata": {},
   "outputs": [],
   "source": []
  },
  {
   "cell_type": "markdown",
   "metadata": {},
   "source": [
    "You need to write out a placeholder for a given positive integer (a whole number >0). The placeholder should be a string with one X for each digit of the number. \n",
    "\n",
    "For example, \n",
    "* the number 156 would have placeholder \"XXX\".\n",
    "* the number 8675309 would have placeholder \"XXXXXXX\"\n",
    "* the number 1 would have placeholder \"X\"\n",
    "\n",
    "Write code that prints out the placeholder string for a given number.\n",
    "Store the number you are going to convert in a variable called `number`. Make sure it is an integer, and not a string!\n",
    "\n",
    "**Hints**\n",
    "* You can count the number of digits of an integer by repeatedly diving by 10 until you get a number smaller than 1. \n",
    "* Remember that + can be used to append to a string. `\"sun\"+\"ra\" == \"sunra\"`\n",
    "\n",
    "There are several ways of solving this problem."
   ]
  },
  {
   "cell_type": "markdown",
   "metadata": {},
   "source": [
    "### Multiple conditions.\n",
    "`while` loops can have multiple conditions, as long as the the result is a boolean expression."
   ]
  },
  {
   "cell_type": "code",
   "execution_count": 41,
   "metadata": {},
   "outputs": [
    {
     "name": "stdout",
     "output_type": "stream",
     "text": [
      "34 was not found at position 6\n"
     ]
    }
   ],
   "source": [
    "# a while loop to check if a value is in a list.\n",
    "# the first condtion stops iterating once the value is found.\n",
    "# the second condtion stops when we get to the end of the list (the value was not in the list)\n",
    "\n",
    "numbers = [54,6,12,87,92,34,89,3]\n",
    "find = 34\n",
    "\n",
    "i = 0  #loop variable, index into the list.\n",
    "while i < len(numbers) and numbers[i] != find : # important check that the end of list hasn't been reached first.\n",
    "    i += 1                                      # otherwise there will be an error trying to access numbers[i]\n",
    "\n",
    "if i == len(numbers):\n",
    "    print(\"%d was not found\" %(find))\n",
    "else:\n",
    "    print(\"%d was not found at position %d\" %(find,i+1))"
   ]
  },
  {
   "cell_type": "markdown",
   "metadata": {},
   "source": [
    "### Input Verification\n",
    "\n",
    "We can use a `while` loop to prevent the program from proceding until the correct input has been enetered."
   ]
  },
  {
   "cell_type": "code",
   "execution_count": null,
   "metadata": {},
   "outputs": [],
   "source": [
    "#Keep asking for a number to be entered until a positive number is entered.\n",
    "\n",
    "number = int(input(\"Enter a positive number: \"))\n",
    "while number < 0:\n",
    "    number = int(input(\"%d is negative, enter another number: \" %(number)))\n",
    "print(\"At last %d is positive.\" %(number))"
   ]
  },
  {
   "cell_type": "code",
   "execution_count": null,
   "metadata": {},
   "outputs": [],
   "source": [
    "#Keep asking for code until a number is entered in the range 100-200\n"
   ]
  },
  {
   "cell_type": "markdown",
   "metadata": {},
   "source": [
    "Use randint() to produce a random number between 1 and 10. Ask the player to input a number as a guess. If the number is not correct, tell them whether their guess was bigger or smaller than the random number. Keep offering the user guesses until they get it correct. At the enter print out the number of guesses they needed."
   ]
  },
  {
   "cell_type": "code",
   "execution_count": null,
   "metadata": {},
   "outputs": [],
   "source": [
    "from random import *\n",
    "\n",
    "#generates a random number between 1 and 10(inclusive)\n",
    "unknown = randint(1,10) \n",
    "\n",
    "#write the rest of the program here....."
   ]
  },
  {
   "cell_type": "code",
   "execution_count": null,
   "metadata": {},
   "outputs": [],
   "source": []
  }
 ],
 "metadata": {
  "kernelspec": {
   "display_name": "Python 3",
   "language": "python",
   "name": "python3"
  },
  "language_info": {
   "codemirror_mode": {
    "name": "ipython",
    "version": 3
   },
   "file_extension": ".py",
   "mimetype": "text/x-python",
   "name": "python",
   "nbconvert_exporter": "python",
   "pygments_lexer": "ipython3",
   "version": "3.6.5"
  }
 },
 "nbformat": 4,
 "nbformat_minor": 2
}

