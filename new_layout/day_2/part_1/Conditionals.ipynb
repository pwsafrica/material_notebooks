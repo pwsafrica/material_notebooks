{
 "cells": [
  {
   "cell_type": "markdown",
   "metadata": {},
   "source": [
    "# Conditionals\n",
    "\n"
   ]
  },
  {
   "cell_type": "markdown",
   "metadata": {},
   "source": [
    " \n",
    " A very simple program might just be a sequence of statements:\n",
    "\n",
    "    a = 1\n",
    "    print(a)\n",
    "    a = 2\n",
    "    print(a)\n",
    "    \n",
    "But virtually nothing interesting can be written this way -- because what happens can never change. The program cannot change depending on what button you clicked on screen, what packets have come in over the network, what bytes you have read from a file or upon calculations done in advance.\n",
    "\n",
    "We can use simple diagrams to show how branching affects programs. Consider the sequence of statements above. We can draw that as:\n",
    "<img src=\"statement_graph.merm.png\" width=\"200px\">\n",
    "\n",
    "This is pretty boring, so we can simplify all the statements to just:\n",
    "<img src=\"simple_graph.merm.png\" width=\"200px\">\n",
    "where the arrow is assumed to include a sequence of statements without branches.\n",
    "\n",
    "\n",
    "If we add a **branch** to our program, we now have two possible exits at some block in the code:\n",
    "<img src=\"if_graph.merm.png\" width=\"200px\">\n",
    "\n",
    "Here, **true_path** is only executed if some condition was true at the `if` block. \n",
    "\n",
    "Learning to see the structure of programs as graphs like this is a key part of understanding how programs will run. We'll see several of these graphs in this lecture."
   ]
  },
  {
   "cell_type": "markdown",
   "metadata": {},
   "source": [
    "## Conditionals\n",
    "A conditional is an expression that evaluates to True or False (i.e. a **boolean** expression). `if` takes a conditional to decide which branch of code to execute.\n",
    "\n",
    "The comparison operators are used to test values and the boolean operators combine sub-expressions together.\n",
    "\n",
    "Valid conditional expressions include:\n",
    "\n",
    "    x == 0   [equality]\n",
    "    x > 5    [comparison]\n",
    "    status == \"alive\" or status == \"dead\"    [boolean operator]\n",
    "    "
   ]
  },
  {
   "cell_type": "markdown",
   "metadata": {},
   "source": [
    "The expression following an if statement must be a conditional. It must evaluate to either `True` or `False`."
   ]
  },
  {
   "cell_type": "markdown",
   "metadata": {},
   "source": [
    "## Block syntax: indentation\n",
    "In Python, we denote the section of code following `if` by **indenting** it (putting spaces in front of the following lines). The `if` continues until the code indentation moves back to where it was before. An indented block always starts with a colon `:`.\n",
    "\n",
    "**All blocks of code in Python are denoted this way. Python is whitespace-sensitive. **\n",
    "\n",
    "There are no block markers like braces `{ }` or `begin` and `end` in Python. The block of code is defined by the colon followed by the indentation (spacing) **alone**. The code that \"belongs\" to a `if` statement is everything which has the matching indentation. \n",
    "\n",
    "All other language features which deal with blocks of code (i.e. need to work with multiple statements) use indentation to mark the blocks of code."
   ]
  },
  {
   "cell_type": "code",
   "execution_count": 5,
   "metadata": {},
   "outputs": [
    {
     "name": "stdout",
     "output_type": "stream",
     "text": [
      "hello\n",
      "there\n",
      "after\n"
     ]
    }
   ],
   "source": [
    "# this is fine\n",
    "x = True\n",
    "if x:\n",
    "    print(\"hello\")\n",
    "    print(\"there\")  \n",
    "print(\"after\")"
   ]
  },
  {
   "cell_type": "code",
   "execution_count": 1,
   "metadata": {},
   "outputs": [
    {
     "name": "stdout",
     "output_type": "stream",
     "text": [
      "after\n"
     ]
    }
   ],
   "source": [
    "# this is fine\n",
    "x = False\n",
    "if x:\n",
    "    print(\"hello\")\n",
    "    print(\"there\")  \n",
    "print(\"after\")"
   ]
  },
  {
   "cell_type": "code",
   "execution_count": 3,
   "metadata": {},
   "outputs": [
    {
     "ename": "IndentationError",
     "evalue": "unexpected indent (<ipython-input-3-3f6292f71e1d>, line 5)",
     "output_type": "error",
     "traceback": [
      "\u001b[1;36m  File \u001b[1;32m\"<ipython-input-3-3f6292f71e1d>\"\u001b[1;36m, line \u001b[1;32m5\u001b[0m\n\u001b[1;33m    print (\"there\")\u001b[0m\n\u001b[1;37m    ^\u001b[0m\n\u001b[1;31mIndentationError\u001b[0m\u001b[1;31m:\u001b[0m unexpected indent\n"
     ]
    }
   ],
   "source": [
    "# this is an indentation error -- it will not run!\n",
    "x = True\n",
    "if x:\n",
    "    print (\"hello\")      \n",
    "      print (\"there\")\n",
    "#   ^\n",
    "#   | does not match any possible indentation!\n"
   ]
  },
  {
   "cell_type": "code",
   "execution_count": 4,
   "metadata": {},
   "outputs": [
    {
     "ename": "IndentationError",
     "evalue": "expected an indented block (<ipython-input-4-559380541f85>, line 4)",
     "output_type": "error",
     "traceback": [
      "\u001b[1;36m  File \u001b[1;32m\"<ipython-input-4-559380541f85>\"\u001b[1;36m, line \u001b[1;32m4\u001b[0m\n\u001b[1;33m    print (\"hello\")\u001b[0m\n\u001b[1;37m        ^\u001b[0m\n\u001b[1;31mIndentationError\u001b[0m\u001b[1;31m:\u001b[0m expected an indented block\n"
     ]
    }
   ],
   "source": [
    "# this is also an indentation error -- it will not run!\n",
    "x = True\n",
    "if x:\n",
    "print (\"hello\")      \n",
    "print (\"there\")"
   ]
  },
  {
   "cell_type": "markdown",
   "metadata": {},
   "source": [
    "## if\n",
    "How do we introduce such branches in our programs. The simplest branching statement is `if`. \n",
    "\n",
    "`if` takes an expression and executes one sequence of code only if the given expression is `True`.\n",
    "\n",
    "    if <condition>:\n",
    "        <true_block>\n",
    "        ...\n"
   ]
  },
  {
   "cell_type": "code",
   "execution_count": null,
   "metadata": {},
   "outputs": [],
   "source": [
    "#if the condition is true, the if statement is executed.\n",
    "\n",
    "fruit = \"apple\"\n",
    "\n",
    "print(\"I like to have sandwiches \", end = \"\")\n",
    "if fruit == \"apple\":\n",
    "    print(\"and an apple \", end = \"\")\n",
    "print(\"for my lunch.\")"
   ]
  },
  {
   "cell_type": "code",
   "execution_count": null,
   "metadata": {},
   "outputs": [],
   "source": [
    "#if the condition is false, the if statement is not executed.\n",
    "\n",
    "fruit = \"banana\"\n",
    "\n",
    "print(\"I like to have sandwiches \", end = \"\")\n",
    "if fruit == \"apple\":\n",
    "    print(\"and an apple \", end = \"\")\n",
    "print(\"for my lunch.\")"
   ]
  },
  {
   "cell_type": "markdown",
   "metadata": {},
   "source": [
    "Write a program that reads in a number. If the number is less than 10 it should print out the square of the number. Otherwise it should ignore it."
   ]
  },
  {
   "cell_type": "code",
   "execution_count": null,
   "metadata": {},
   "outputs": [],
   "source": []
  },
  {
   "cell_type": "markdown",
   "metadata": {},
   "source": [
    "## else\n",
    "We can have a branch with two different paths using `else`. One of the two paths is always executed; the `if` path if the expression is True or the `else` path if it is False.\n",
    "\n",
    "\n",
    "    if <condition>:\n",
    "        <true_block>\n",
    "    else:\n",
    "        <false_block>\n",
    "\n",
    "<img src=\"if_else_graph.merm.png\" width=\"300px\">"
   ]
  },
  {
   "cell_type": "code",
   "execution_count": null,
   "metadata": {},
   "outputs": [],
   "source": [
    "#If the if condition is true, the if statement is executed. \n",
    "#The program then continues after the else statement.\n",
    "\n",
    "exam = 28\n",
    "\n",
    "if exam < 40:\n",
    "    print(\"You failed\")\n",
    "else:\n",
    "    print(\"You passed\")"
   ]
  },
  {
   "cell_type": "code",
   "execution_count": null,
   "metadata": {},
   "outputs": [],
   "source": [
    "#if the if condition is false, the else statement is executed.\n",
    "\n",
    "exam = 61\n",
    "\n",
    "if exam < 40:\n",
    "    print(\"You failed\")\n",
    "else:\n",
    "    print(\"You passed\")"
   ]
  },
  {
   "cell_type": "code",
   "execution_count": null,
   "metadata": {},
   "outputs": [],
   "source": [
    "#Note this produces the same result as the code above.\n",
    "#The branches of the if statement have been swapped around.\n",
    "#As a result the condition of the if statement had to be changed.\n",
    "\n",
    "exam = 61\n",
    "\n",
    "if exam >= 40:\n",
    "    print(\"You passed\")\n",
    "else:\n",
    "    print(\"You failed\")"
   ]
  },
  {
   "cell_type": "markdown",
   "metadata": {},
   "source": [
    "Write a program that reads in a number and prints out if it is odd or even. \n",
    "\n",
    "    *hint: num%2 divides num by 2 and returns the remainder*"
   ]
  },
  {
   "cell_type": "code",
   "execution_count": null,
   "metadata": {},
   "outputs": [],
   "source": []
  },
  {
   "cell_type": "markdown",
   "metadata": {},
   "source": [
    "## elif\n",
    "Sometimes we need to have more than two branches. For example, we might have a temperature scale in a recipe in Celsius, and we need to work out what Gas Mark to put our oven at:"
   ]
  },
  {
   "cell_type": "code",
   "execution_count": null,
   "metadata": {},
   "outputs": [],
   "source": [
    "temp = 180\n",
    "if temp<135:\n",
    "    gas_mark = 1\n",
    "else:\n",
    "    if temp<149:\n",
    "        gas_mark = 2\n",
    "    else:\n",
    "        if temp<163:\n",
    "            gas_mark = 3\n",
    "# etc..."
   ]
  },
  {
   "cell_type": "markdown",
   "metadata": {},
   "source": [
    "This is clumsy and the indentation gets out of control. We can use `elif` to combine an `else` and an `if` together. We can still use a final `else` statement."
   ]
  },
  {
   "cell_type": "code",
   "execution_count": 7,
   "metadata": {},
   "outputs": [
    {
     "name": "stdout",
     "output_type": "stream",
     "text": [
      "100\n"
     ]
    }
   ],
   "source": [
    "temp = 180\n",
    "if temp<135:\n",
    "    gas_mark=1\n",
    "elif temp<149:\n",
    "    gas_mark =2 \n",
    "elif temp<163:\n",
    "    gas_mark = 3\n",
    "else:\n",
    "    # if it's hotter than that, just turn the burner on full blast!\n",
    "    gas_mark = 100\n",
    "    \n",
    "print(gas_mark)"
   ]
  },
  {
   "cell_type": "code",
   "execution_count": null,
   "metadata": {},
   "outputs": [],
   "source": []
  },
  {
   "cell_type": "code",
   "execution_count": null,
   "metadata": {},
   "outputs": [],
   "source": [
    "#If the if condition is true, the if statement is executed. \n",
    "#The program then continues after the else statement.\n",
    "\n",
    "number = 63\n",
    "\n",
    "if number%7 == 0: \n",
    "    print(\"%d is divisible by 7.\" %(number))\n",
    "elif number%4 == 0:\n",
    "    print(\"%d is divisible by 4.\" %(number))"
   ]
  },
  {
   "cell_type": "code",
   "execution_count": null,
   "metadata": {},
   "outputs": [],
   "source": [
    "##If the if condition is false, the elif statement is checked. \n",
    "##If the elif condition is true, the elif statement is executed. \n",
    "#The program then continues after the elif statement.\n",
    "\n",
    "number = 32\n",
    "\n",
    "if number%7 == 0: \n",
    "    print(\"%d is divisible by 7.\" %(number))\n",
    "elif number%4 == 0:\n",
    "    print(\"%d is divisible by 4.\" %(number))"
   ]
  },
  {
   "cell_type": "code",
   "execution_count": null,
   "metadata": {},
   "outputs": [],
   "source": [
    "##If the if condition is false, the elif statement is checked. \n",
    "##If the elif condition is false, nothing happens.\n",
    "#The program then continues after the elif statement.\n",
    "\n",
    "number = 15\n",
    "\n",
    "if number%7 == 0: \n",
    "    print(\"%d is divisible by 7.\" %(number))\n",
    "elif number%4 == 0:\n",
    "    print(\"%d is divisible by 4.\" %(number))"
   ]
  },
  {
   "cell_type": "code",
   "execution_count": null,
   "metadata": {},
   "outputs": [],
   "source": [
    "#If the both if and elif conditions are true, only the first true branch is\n",
    "#executed.The program then continues after the elif.\n",
    "\n",
    "number = 28\n",
    "\n",
    "if number%7 == 0: \n",
    "    print(\"%d is divisible by 7.\" %(number))\n",
    "elif number%4 == 0:\n",
    "    print(\"%d is divisible by 4.\" %(number))"
   ]
  },
  {
   "cell_type": "markdown",
   "metadata": {},
   "source": [
    "Write a program to read in a number and print out whether it is negative or poitive. if the number is zero it should do nothing."
   ]
  },
  {
   "cell_type": "code",
   "execution_count": null,
   "metadata": {},
   "outputs": [],
   "source": []
  },
  {
   "cell_type": "markdown",
   "metadata": {},
   "source": [
    "`if....elif....else`"
   ]
  },
  {
   "cell_type": "code",
   "execution_count": null,
   "metadata": {},
   "outputs": [],
   "source": [
    "temp = 103\n",
    "\n",
    "print(\"The water turned to \", end = \"\")\n",
    "if temp > 100:\n",
    "    print(\"steam\")\n",
    "elif temp <= 0:\n",
    "    print(\"ice\")\n",
    "else:\n",
    "    print(\"liquid\") "
   ]
  },
  {
   "cell_type": "code",
   "execution_count": null,
   "metadata": {},
   "outputs": [],
   "source": [
    "temp = 54\n",
    "\n",
    "print(\"The water turned to \", end = \"\")\n",
    "if temp > 100:\n",
    "    print(\"steam\")\n",
    "elif temp <= 0:\n",
    "    print(\"ice\")\n",
    "else:\n",
    "    print(\"liquid\") "
   ]
  },
  {
   "cell_type": "code",
   "execution_count": null,
   "metadata": {},
   "outputs": [],
   "source": [
    "temp = -7\n",
    "\n",
    "print(\"The water turned to \", end = \"\")\n",
    "if temp > 100:\n",
    "    print(\"steam\")\n",
    "elif temp <= 0:\n",
    "    print(\"ice\")\n",
    "else:\n",
    "    print(\"liquid\") "
   ]
  },
  {
   "cell_type": "code",
   "execution_count": null,
   "metadata": {},
   "outputs": [],
   "source": [
    "# checking what happens at the boundary cases\n",
    "\n",
    "temp = 0\n",
    "\n",
    "print(\"The water turned to \", end = \"\")\n",
    "if temp > 100:\n",
    "    print(\"steam\")\n",
    "elif temp <= 0:\n",
    "    print(\"ice\")\n",
    "else:\n",
    "    print(\"liquid\") "
   ]
  },
  {
   "cell_type": "code",
   "execution_count": null,
   "metadata": {},
   "outputs": [],
   "source": [
    "# and the other boundary case\n",
    "# notice the difference between > and <=\n",
    "\n",
    "temp = 100\n",
    "\n",
    "print(\"The water turned to \", end = \"\")\n",
    "if temp > 100:\n",
    "    print(\"steam\")\n",
    "elif temp <= 0:\n",
    "    print(\"ice\")\n",
    "else:\n",
    "    print(\"liquid\") "
   ]
  },
  {
   "cell_type": "markdown",
   "metadata": {},
   "source": [
    "\n",
    "##  Colour temperature\n",
    "As objects get hotter, they start to glow, and change color. This is why iron glows <font color=\"red\"> red</font> when it is forged.\n",
    "\n",
    "The visible surface of the sun is about 5900K (degrees Kelvin) which makes it <font color=\"#9090f0\"> whitish-blue. </font>\n",
    "\n",
    "Using `if`, `else` and `elif`, write a program that prints the colour an object will glow given a temperature in Kelvin, using the table below:\n",
    "\n",
    "| Colour | Temp. (K) |\n",
    "| ------ | ----- |\n",
    "| black | < 500 |\n",
    "| red | < 1000 |\n",
    "| yellow | < 3000 |\n",
    "| white | < 6000 |\n",
    "| blue | < 10000 |\n",
    "| deep blue | >= 10000 |\n",
    "\n",
    "Store the temperature you are testing in a variable called `temp_k` and print out the result based on the value in `temp_k`. Try a few different values to test if your solution works. "
   ]
  },
  {
   "cell_type": "code",
   "execution_count": null,
   "metadata": {},
   "outputs": [],
   "source": []
  },
  {
   "cell_type": "markdown",
   "metadata": {},
   "source": [
    "#### 5. Compound Boolean Expressions"
   ]
  },
  {
   "cell_type": "code",
   "execution_count": null,
   "metadata": {},
   "outputs": [],
   "source": [
    "#Both conditions of the or expression are true.\n",
    "\n",
    "weather = \"wet\"\n",
    "temp = -4\n",
    "\n",
    "if weather == \"wet\" or temp < 0:\n",
    "    print(\"I'm not going outside today\")\n",
    "elif weather == \"sunny\" and temp > 20:\n",
    "    print(\"I'm going to need suncream today\")\n",
    "else:\n",
    "    print(\"Not sure what I'll do today\")"
   ]
  },
  {
   "cell_type": "code",
   "execution_count": null,
   "metadata": {},
   "outputs": [],
   "source": [
    "#Only one conditions of the or expression is true.\n",
    "\n",
    "weather = \"wet\"\n",
    "temp = 25\n",
    "\n",
    "if weather == \"wet\" or temp < 0:\n",
    "    print(\"I'm not going outside today\")\n",
    "elif weather == \"sunny\" and temp > 20:\n",
    "    print(\"I'm going to need suncream today\")\n",
    "else:\n",
    "    print(\"Not sure what I'll do today\")"
   ]
  },
  {
   "cell_type": "code",
   "execution_count": null,
   "metadata": {},
   "outputs": [],
   "source": [
    "#Both conditions of the and expression are true.\n",
    "\n",
    "weather = \"sunny\"\n",
    "temp = 35\n",
    "\n",
    "if weather == \"wet\" or temp < 0:\n",
    "    print(\"I'm not going outside today\")\n",
    "elif weather == \"sunny\" and temp > 20:\n",
    "    print(\"I'm going to need suncream today\")\n",
    "else:\n",
    "    print(\"Not sure what I'll do today\")"
   ]
  },
  {
   "cell_type": "code",
   "execution_count": null,
   "metadata": {},
   "outputs": [],
   "source": [
    "#Only one conditions of the and expression is true.\n",
    "\n",
    "weather = \"sunny\"\n",
    "temp = 15\n",
    "\n",
    "if weather == \"wet\" or temp < 0:\n",
    "    print(\"I'm not going outside today\")\n",
    "elif weather == \"sunny\" and temp > 20:\n",
    "    print(\"I'm going to need suncream today\")\n",
    "else:\n",
    "    print(\"Not sure what I'll do today\")"
   ]
  },
  {
   "cell_type": "code",
   "execution_count": null,
   "metadata": {},
   "outputs": [],
   "source": [
    "#None of the conditions are true.\n",
    "\n",
    "weather = \"cloudy\"\n",
    "temp = 18\n",
    "\n",
    "if weather == \"wet\" or temp < 0:\n",
    "    print(\"I'm not going outside today\")\n",
    "elif weather == \"sunny\" and temp > 20:\n",
    "    print(\"I'm going to need suncream today\")\n",
    "else:\n",
    "    print(\"Not sure what I'll do today\")"
   ]
  },
  {
   "cell_type": "markdown",
   "metadata": {},
   "source": []
  },
  {
   "cell_type": "code",
   "execution_count": null,
   "metadata": {},
   "outputs": [],
   "source": []
  },
  {
   "cell_type": "markdown",
   "metadata": {},
   "source": [
    "**Nested if statements**"
   ]
  },
  {
   "cell_type": "markdown",
   "metadata": {},
   "source": [
    "<img src=\"if_elif_graph.merm.png\" width=\"400px\">\n"
   ]
  },
  {
   "cell_type": "markdown",
   "metadata": {},
   "source": [
    "Blocks can be nested (put one inside another) as much as you want, but you need to indent the code for each level of nesting.\n",
    "\n",
    "The advantage of this syntax is that you can see which execution path (block) you are working with visually and the layout is *guaranteed* to be correct."
   ]
  },
  {
   "cell_type": "code",
   "execution_count": null,
   "metadata": {},
   "outputs": [],
   "source": [
    "# first indent, following the def\n",
    "x = True\n",
    "y = False\n",
    "if x:\n",
    "    if y:\n",
    "        print(\"x and y\")\n",
    "    else:\n",
    "        print(\"x and not y\")\n",
    "else:\n",
    "    print(\"not x\")"
   ]
  },
  {
   "cell_type": "markdown",
   "metadata": {},
   "source": [
    "       \n",
    "**It is essential that you get the indentation correct, otherwise you will generate a syntax error!**.        \n",
    "\n",
    "Press `[TAB]` in the notebook to move one indent step in. This inserts spaces, (not tab characters) at the start of the line (if you don't understand what that means, just remember the rule: always use spaces!)\n"
   ]
  },
  {
   "cell_type": "markdown",
   "metadata": {},
   "source": [
    "Write a program that takes in a number and adds the correct suffix. For example...\n",
    "\n",
    "    for 1 add st except 11 add th\n",
    "    for 2 add nd except 12 add th\n",
    "    for 3 add rd except 13 add th\n",
    "    everythig else add th."
   ]
  },
  {
   "cell_type": "markdown",
   "metadata": {},
   "source": [
    "#### 6. `if` Statement in a `for` loop"
   ]
  },
  {
   "cell_type": "code",
   "execution_count": null,
   "metadata": {},
   "outputs": [],
   "source": [
    "students = [\"Mary\",\"Tom\",\"Ann\",\"Mark\",\"Mary\",\"Frank\",\"Martin\",\"Tom\"]\n",
    "\n",
    "for name in students:\n",
    "    if name[0] == \"M\":\n",
    "        print(name)"
   ]
  },
  {
   "cell_type": "code",
   "execution_count": null,
   "metadata": {},
   "outputs": [],
   "source": [
    "examMarks = [11,45,80,81,0,45,52,40,100,16]\n",
    "\n",
    "passed = 0\n",
    "for mark in examMarks:\n",
    "    if mark > 40:\n",
    "        passed += 1 # same as passed = passed + 1\n",
    "print(\"There were %d students that passed the exam.\" %(passed))"
   ]
  },
  {
   "cell_type": "code",
   "execution_count": 8,
   "metadata": {},
   "outputs": [
    {
     "name": "stdout",
     "output_type": "stream",
     "text": [
      "2 students did great and 3 students need extra help.\n"
     ]
    }
   ],
   "source": [
    "examMarks = [11,45,80,81,0,45,52,40,100,16]\n",
    "\n",
    "top = 0\n",
    "bottom = 0\n",
    "for mark in examMarks:\n",
    "    if mark > 80:\n",
    "        top += 1 \n",
    "    elif mark < 20:\n",
    "        bottom += 1\n",
    "        \n",
    "print(\"%d students did great and %d students need extra help.\" %(top,bottom))"
   ]
  },
  {
   "cell_type": "markdown",
   "metadata": {},
   "source": [
    "The following code prints out the elements of a that are not in b."
   ]
  },
  {
   "cell_type": "code",
   "execution_count": null,
   "metadata": {},
   "outputs": [],
   "source": [
    "a = [2,3,6,4,1]\n",
    "b = [1,5,6,0]\n",
    "\n",
    "for num in a:\n",
    "    if num not in b:\n",
    "        print(num)"
   ]
  },
  {
   "cell_type": "markdown",
   "metadata": {},
   "source": [
    "Using the code above, write a program to print the elements of b that are not in a."
   ]
  },
  {
   "cell_type": "code",
   "execution_count": null,
   "metadata": {},
   "outputs": [],
   "source": [
    "a = [2,3,6,4,1]\n",
    "b = [1,5,6,0]"
   ]
  },
  {
   "cell_type": "markdown",
   "metadata": {},
   "source": [
    "Combining the 2 examples above, write a program that creates a new list c which contains the elements of a not in b and the elements of b not in a."
   ]
  },
  {
   "cell_type": "code",
   "execution_count": null,
   "metadata": {},
   "outputs": [],
   "source": [
    "a = [2,3,6,4,1]\n",
    "b = [1,5,6,0]\n",
    "c = []"
   ]
  },
  {
   "cell_type": "markdown",
   "metadata": {},
   "source": [
    "Write a program to print the biggest number in a list."
   ]
  },
  {
   "cell_type": "code",
   "execution_count": null,
   "metadata": {},
   "outputs": [],
   "source": [
    "numbers = [54,6,12,87,92,34,89,3]"
   ]
  },
  {
   "cell_type": "markdown",
   "metadata": {},
   "source": [
    "Write a program to iterate through the letters in a name and print out if the letter is a vowel or a constant"
   ]
  },
  {
   "cell_type": "code",
   "execution_count": null,
   "metadata": {},
   "outputs": [],
   "source": [
    "vowel = \"aeiou\"\n",
    "\n",
    "name = input(\"Please enter your name: \")"
   ]
  },
  {
   "cell_type": "markdown",
   "metadata": {},
   "source": [
    "Use this information to write a program that: \n",
    "* Gets a name as input from the user. Use `input()` to do this.\n",
    "* Leaves consonants unchanged\n",
    "* Changes any vowel to [vowel]l[vowel] (e.g. \"u\" becomes \"ulu\")\n",
    "* *Except* if the letter is e, when it should become \"eta\"\n",
    "* Prints out the modified name\n",
    "\n",
    "For example, \"sandy\" should become \"salandy\", \"helen\" should become \"hetaletan\" and \"alex\" should become \"alaletax\".\n"
   ]
  },
  {
   "cell_type": "markdown",
   "metadata": {},
   "source": [
    "Write a program that prints out all the numbers between 1 and 30 (inclusive). \n",
    "\n",
    "    Every the number is a multiple of 3 print Fizz instead. \n",
    "    Every the number is a multiple of 5 print Buzz instead. \n",
    "    Every the number is a multiple of  both 3 and 5 print FizzBuzz."
   ]
  },
  {
   "cell_type": "code",
   "execution_count": null,
   "metadata": {},
   "outputs": [],
   "source": []
  }
 ],
 "metadata": {
  "kernelspec": {
   "display_name": "Python 3",
   "language": "python",
   "name": "python3"
  },
  "language_info": {
   "codemirror_mode": {
    "name": "ipython",
    "version": 3
   },
   "file_extension": ".py",
   "mimetype": "text/x-python",
   "name": "python",
   "nbconvert_exporter": "python",
   "pygments_lexer": "ipython3",
   "version": "3.6.5"
  }
 },
 "nbformat": 4,
 "nbformat_minor": 2
}
