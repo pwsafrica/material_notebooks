{
 "cells": [
  {
   "cell_type": "markdown",
   "metadata": {},
   "source": [
    "# Files"
   ]
  },
  {
   "cell_type": "markdown",
   "metadata": {},
   "source": [
    "## External data\n",
    "Programs that only dealt with values we **hard coded** into the code or which could only take text input from the user (like using `input()`) would be of very limited use. \n",
    "\n",
    "* **Files**, which provide a universal way to store and transfer information between programs."
   ]
  },
  {
   "cell_type": "markdown",
   "metadata": {},
   "source": [
    "# Files: Why?\n",
    "\n",
    "\n",
    "###  To persist data\n",
    "When you turn off a computer, the data in memory disappears. In the shorter term, when you exit a program, the information stored in memory by that program is freed by the operating system and is lost.\n",
    "\n",
    "The way to store information so that it can be used again later (to make it **persistent**, i.e. not go away) is to write it into a file. The file can be read at any later date and used as needed."
   ]
  },
  {
   "cell_type": "markdown",
   "metadata": {},
   "source": [
    "### To interchange data\n",
    "Files can be sent to other programs (e.g. you might write a program to produce and image, which you could load in a photo editor). Files can be uploaded to servers and downloaded from them. You can shared files on GitHub or Dropbox or via email."
   ]
  },
  {
   "cell_type": "markdown",
   "metadata": {},
   "source": [
    "### To organise data\n",
    "The **filesystem** of a computer is a very simple but very powerful and flexible way of organising information. By placing data into individual files, and then putting these into directories, we have a simple, universal way of organising data."
   ]
  },
  {
   "cell_type": "markdown",
   "metadata": {},
   "source": [
    "### When computations won't fit in memory\n",
    "The computer I'm using has quite a lot of memory (16GB). But I often have to run computations that use need much more than this. A collection of images could easily be 100s of GB. If I want to, for example, crop all of them to remove the border, I can't possibly load them all into memory and crop them. The only way to do this sensibly is to keep data on disk in files, and process it a bit at a time.\n",
    "\n",
    "### Why not files?\n",
    "File access is slower than accessing data stored in memory (e.g. values in variables). Much, much, much slower. Sometimes a **million times slower** or more.\n",
    "\n",
    "And, most importantly, files are not just big collections of variables you can read and write. Files provide a **stream** of data, essentially just a very long string, which you can only work with in order.  We (to some extent) only have **serial** access to files: we can read one thing after another, and that's it.\n",
    "\n",
    "This means that converting from this string into values you can use requires work. Doing this well is a major aspect of computing; this is why we have databases and standardised file formats `(.jpg, .png, .doc, .wav, .zip)`. Each of these lays out information in a precise way so it can be used again later.\n",
    "\n",
    "Converting variables into a form where they can be written into a file (or sent over a network) is called **serialization** and converting back to variables is called **deserialization**."
   ]
  },
  {
   "cell_type": "markdown",
   "metadata": {},
   "source": [
    "### Streams\n",
    "The stream model of file I/O (I/O means **input-output** and file I/O just means reading and writing files) dates back to the days when computers used big tape reels for file storage.\n",
    "\n",
    "### Using context managers\n",
    "Files must be **opened** to read from them or write to them. Once a program is done with a file, it must be **closed**. This is so the operating system can keep track of which files are being used (e.g. to assist caching, or to prevent multiple processes writing to the same file at once).\n",
    "\n",
    "Imagine **open**ing a bottle, pouring out a **stream** of water, then **closing** the lid back on. Forgetting to put the lid back on isn't immediately harmful, but you'd want to remember eventually or everything will evaporate!"
   ]
  },
  {
   "cell_type": "code",
   "execution_count": 4,
   "metadata": {},
   "outputs": [
    {
     "name": "stdout",
     "output_type": "stream",
     "text": [
      "<_io.TextIOWrapper name='words.txt' mode='r' encoding='cp1252'>\n",
      "here\n",
      "a\n",
      "\n"
     ]
    }
   ],
   "source": [
    "f = open(\"words.txt\")\n",
    "print(f)\n",
    "print(\"here\")\n",
    "print(f.readline())\n",
    "f.close()"
   ]
  },
  {
   "cell_type": "markdown",
   "metadata": {},
   "source": [
    "This is the same as doing"
   ]
  },
  {
   "cell_type": "code",
   "execution_count": 6,
   "metadata": {},
   "outputs": [
    {
     "name": "stdout",
     "output_type": "stream",
     "text": [
      "<_io.TextIOWrapper name='words.txt' mode='r' encoding='cp1252'>\n",
      "a\n",
      "\n",
      "<_io.TextIOWrapper name='words.txt' mode='r' encoding='cp1252'>\n"
     ]
    },
    {
     "ename": "ValueError",
     "evalue": "I/O operation on closed file.",
     "output_type": "error",
     "traceback": [
      "\u001b[1;31m---------------------------------------------------------------------------\u001b[0m",
      "\u001b[1;31mValueError\u001b[0m                                Traceback (most recent call last)",
      "\u001b[1;32m<ipython-input-6-fe0f30b98a5e>\u001b[0m in \u001b[0;36m<module>\u001b[1;34m()\u001b[0m\n\u001b[0;32m      5\u001b[0m \u001b[1;31m# it'll be closed here\u001b[0m\u001b[1;33m\u001b[0m\u001b[1;33m\u001b[0m\u001b[0m\n\u001b[0;32m      6\u001b[0m \u001b[0mprint\u001b[0m\u001b[1;33m(\u001b[0m\u001b[0mf\u001b[0m\u001b[1;33m)\u001b[0m\u001b[1;33m\u001b[0m\u001b[0m\n\u001b[1;32m----> 7\u001b[1;33m \u001b[0mprint\u001b[0m\u001b[1;33m(\u001b[0m\u001b[0mf\u001b[0m\u001b[1;33m.\u001b[0m\u001b[0mreadline\u001b[0m\u001b[1;33m(\u001b[0m\u001b[1;33m)\u001b[0m\u001b[1;33m)\u001b[0m\u001b[1;33m\u001b[0m\u001b[0m\n\u001b[0m",
      "\u001b[1;31mValueError\u001b[0m: I/O operation on closed file."
     ]
    }
   ],
   "source": [
    "with open(\"words.txt\") as f:\n",
    "    print(f) # f will be open here\n",
    "    print(\"here\")\n",
    "    print(f.readline()) # we can read from it\n",
    "\n",
    "# it'll be closed here\n",
    "print(f)"
   ]
  },
  {
   "cell_type": "code",
   "execution_count": null,
   "metadata": {},
   "outputs": [],
   "source": [
    "# this will cause an IOError\n",
    "print(f.readline())"
   ]
  },
  {
   "cell_type": "markdown",
   "metadata": {},
   "source": [
    "Let's look at this in more detail:\n",
    "\n",
    "* The `open()` call actually opens the file. \n",
    "* `as f` assigns the result of the `open` call to a new variable `f`. *Everything inside the `with` block has access to the file. After the `with` block, the file is automatically closed. \n",
    "* `readline()` reads one line of text from the file.\n",
    "* `read()` will read the entire file in one go.\n",
    "\n",
    "It is the same as doing this:\n",
    "\n",
    "    f = open(\"sentences.txt\")\n",
    "    print(f)\n",
    "    print(f.readline())\n",
    "    f.close()\n",
    "    \n",
    "but it no matter what happens, it will always close the file correctly -- and the indentation will show you where the file is open.\n"
   ]
  },
  {
   "cell_type": "markdown",
   "metadata": {},
   "source": [
    "### Reading/writing\n",
    "We're only going to consider reading and writing text files in order in CS1P. You'll see random access (skipping to different parts of files) and binary files in CS1PX.\n",
    "\n",
    "As far as we're concerned, a file is a big long string, and we can read it starting from the start, or write to the end of it. But not both at the same time (this is possible, but we aren't going to look at it here).\n",
    "\n",
    "To open a file so we can write to it, we use a second parameter to `open()`. This called the **mode** and it should be `\"w\"` to write to a file. By default it is `\"r\"` which means to read from a file.\n",
    "\n",
    "**Note: opening a file for writing will overwrite the contents of that file!**\n",
    "\n",
    "You can also **append** to an existing file by opening in mode `\"a\"` (append). This opens for writing, but *does not* overwrite the contents, and will start writing data at the end of the file.\n",
    "\n",
    "`write()` writes data to a file. Succesive calls to `write()` will insert data at the end of a file."
   ]
  },
  {
   "cell_type": "code",
   "execution_count": 17,
   "metadata": {},
   "outputs": [],
   "source": [
    "# open in write mode, reseting the file\n",
    "with open(\"write_out.txt\", \"w\") as out_file:\n",
    "    out_file.write(\"hello\")\n",
    "    out_file.write(\"from\")\n",
    "\n",
    "# now open in append mode and append another line\n",
    "with open(\"write_out.txt\", \"a\") as out_file:\n",
    "    out_file.write(\"CS1P\")"
   ]
  },
  {
   "cell_type": "code",
   "execution_count": 20,
   "metadata": {},
   "outputs": [
    {
     "name": "stdout",
     "output_type": "stream",
     "text": [
      "\n"
     ]
    }
   ],
   "source": [
    "# now read the file back and print it out\n",
    "with open(\"write_out.txt\", \"r\") as out_file:\n",
    "    print(out_file.read())"
   ]
  },
  {
   "cell_type": "markdown",
   "metadata": {},
   "source": [
    "In the example below the file `\"JackJill.txt\"` can be opened for reading the data using `\"r\"`\n",
    "The variable `f` now refers to that file.\n",
    "A line can be read from the file using `f.readline()`\n",
    "Once we have finished with the file, the file should be closed."
   ]
  },
  {
   "cell_type": "code",
   "execution_count": null,
   "metadata": {},
   "outputs": [],
   "source": [
    "f = open(\"JackJill.txt\",\"r\")\n",
    "line = f.readline()\n",
    "print(line)\n",
    "f.close()"
   ]
  },
  {
   "cell_type": "markdown",
   "metadata": {},
   "source": [
    "Alternatively in python the file file can be opened with the word with. The file remains open within the indentation. This code reads a line from the code just like the code above."
   ]
  },
  {
   "cell_type": "code",
   "execution_count": null,
   "metadata": {},
   "outputs": [],
   "source": [
    "with open(\"JackJill.txt\",\"r\") as f:\n",
    "    line = f.readline()\n",
    "    print(line)"
   ]
  },
  {
   "cell_type": "markdown",
   "metadata": {},
   "source": [
    "The code below causes an error as we attempt to read in a line not in the indentation."
   ]
  },
  {
   "cell_type": "code",
   "execution_count": null,
   "metadata": {},
   "outputs": [],
   "source": [
    "with open(\"JackJill.txt\",\"r\") as f:\n",
    "    line = f.readline()\n",
    "    print(line)\n",
    "line = f.readline()"
   ]
  },
  {
   "cell_type": "markdown",
   "metadata": {},
   "source": [
    "    `f.readline()` reads a single line from a file\n",
    "    `f.readlines()` reads all the lines from a file\n",
    "Each line can then be accessed from all the lines."
   ]
  },
  {
   "cell_type": "code",
   "execution_count": null,
   "metadata": {},
   "outputs": [],
   "source": [
    "with open(\"JackJill.txt\",\"r\") as f:\n",
    "    lines = f.readlines()\n",
    "    for line in lines:\n",
    "        print(line)"
   ]
  },
  {
   "cell_type": "markdown",
   "metadata": {},
   "source": [
    "We can access each line without having to read them in."
   ]
  },
  {
   "cell_type": "code",
   "execution_count": null,
   "metadata": {},
   "outputs": [],
   "source": [
    "with open(\"JackJill.txt\",\"r\") as f:\n",
    "    for line in f:\n",
    "        print(line)"
   ]
  },
  {
   "cell_type": "markdown",
   "metadata": {},
   "source": [
    "In the following example we are checking to see if a `dog` is in the `animals.txt`. Check the `animals.txt` file to see if it exists."
   ]
  },
  {
   "cell_type": "code",
   "execution_count": null,
   "metadata": {},
   "outputs": [],
   "source": [
    "animal = \"dog\"\n",
    "with open(\"animals.txt\") as f:\n",
    "    found = False\n",
    "    for line in f:\n",
    "        if animal == line:\n",
    "            found = True\n",
    "\n",
    "if found:\n",
    "    print(\"%s is in the file.\" %(animal))\n",
    "else:\n",
    "    print(\"%s was not found.\" %(animal))"
   ]
  },
  {
   "cell_type": "markdown",
   "metadata": {},
   "source": [
    "Why was it not found?\n",
    "\n",
    "It is because there is an newline symbol at the end of every line in the file. \n",
    "\n",
    "    `\"dog\"` not the same as `\"dog\\n\"`\n",
    "Before we can check we need to strip any white space from each line in the file (using .strip())"
   ]
  },
  {
   "cell_type": "code",
   "execution_count": null,
   "metadata": {},
   "outputs": [],
   "source": [
    "animal = \"dog\"\n",
    "with open(\"animals.txt\") as f:\n",
    "    found = False\n",
    "    for line in f:\n",
    "        if animal == line.strip():\n",
    "            found = True\n",
    "\n",
    "if found:\n",
    "    print(\"%s is in the file.\" %(animal))\n",
    "else:\n",
    "    print(\"%s was not found.\" %(animal))"
   ]
  },
  {
   "cell_type": "markdown",
   "metadata": {},
   "source": [
    "Using a `while` loop allows the code to stop searching when the dog is found."
   ]
  },
  {
   "cell_type": "code",
   "execution_count": null,
   "metadata": {},
   "outputs": [],
   "source": [
    "animal = \"dog\"\n",
    "with open(\"animals.txt\") as f:\n",
    "    line =  f.readline().strip()\n",
    "    while line != animal and line != \"\":\n",
    "        line =  f.readline().strip()\n",
    "    \n",
    "if line == animal:\n",
    "    print(\"%s is in the file.\" %(animal))\n",
    "else:\n",
    "    print(\"%s was not found.\" %(animal))"
   ]
  },
  {
   "cell_type": "markdown",
   "metadata": {},
   "source": [
    "### Newlines in writing"
   ]
  },
  {
   "cell_type": "markdown",
   "metadata": {},
   "source": [
    "Note: unlike print, which automatically inserted a newline at the end of a print statement, we have to explicitly tell `write()` to write newline. If we don't do this, all of the output will appear as a single line!\n",
    "\n",
    "Including the character sequence `\\n` in a string will insert a newline. For example, this works if I print a string with \\n inside it:"
   ]
  },
  {
   "cell_type": "code",
   "execution_count": null,
   "metadata": {},
   "outputs": [],
   "source": [
    "print(\"one\\ntwo\\nthree\")"
   ]
  },
  {
   "cell_type": "markdown",
   "metadata": {},
   "source": [
    "So to write a line of output to a file, you would use something like:\n",
    "\n",
    "    f.write(\"some output here\\n\")\n",
    "    f.write(\"this is the next line\\n\")\n",
    "    \n",
    "If you forget to put in the newline, you will end up with \n",
    "\n",
    "    some output herethis is the next line"
   ]
  },
  {
   "cell_type": "markdown",
   "metadata": {},
   "source": [
    "### Iterating by lines\n",
    "There is a nice **idiom** (idiom: a common pattern of speech or a common way of doing things) in Python to read a file line by line, because we very often want to work with text files in this form.  For example, we might have a list of movies from IMDB, one movie per line:\n",
    "\n",
    "    ...\n",
    "    Melody of Clock and Arrow (2006)\t\t2006\n",
    "    Melody of Cradle (2013)\t\t\t\t\t2013\n",
    "    Melody of Death (1922)\t\t\t\t\t1922\n",
    "    Melody of Fate (1911)\t\t\t\t\t1911\n",
    "    Melody of Funhouse (2013)\t\t\t\t2013\n",
    "    Melody of Life (2004) (V)\t\t\t\t2004\n",
    "    Melody of Love (1928)\t\t\t\t\t1928\n",
    "    Melody of My Heart (1936)\t\t\t\t1936\n",
    "    Melody of Noise (2016)\t\t\t\t\t2016\n",
    "    Melody of San Francisco (2009)\t\t\t2009\n",
    "    Melody of Subways (2012)\t\t\t\t2012\n",
    "    Melody of the Plains (1937)\t\t\t\t1937\n",
    "    Melody on Parade (1936)\t\t\t\t\t1936\n",
    "    ...\n",
    "\n",
    "\n",
    "We can use a `for` loop, and use the file directly as the iterator:"
   ]
  },
  {
   "cell_type": "code",
   "execution_count": 10,
   "metadata": {},
   "outputs": [
    {
     "ename": "FileNotFoundError",
     "evalue": "[Errno 2] No such file or directory: 'elements.txt'",
     "output_type": "error",
     "traceback": [
      "\u001b[1;31m---------------------------------------------------------------------------\u001b[0m",
      "\u001b[1;31mFileNotFoundError\u001b[0m                         Traceback (most recent call last)",
      "\u001b[1;32m<ipython-input-10-1661ec75dac8>\u001b[0m in \u001b[0;36m<module>\u001b[1;34m()\u001b[0m\n\u001b[1;32m----> 1\u001b[1;33m \u001b[1;32mwith\u001b[0m \u001b[0mopen\u001b[0m\u001b[1;33m(\u001b[0m\u001b[1;34m\"elements.txt\"\u001b[0m\u001b[1;33m)\u001b[0m \u001b[1;32mas\u001b[0m \u001b[0mf\u001b[0m\u001b[1;33m:\u001b[0m\u001b[1;33m\u001b[0m\u001b[0m\n\u001b[0m\u001b[0;32m      2\u001b[0m     \u001b[1;32mfor\u001b[0m \u001b[0mline\u001b[0m \u001b[1;32min\u001b[0m \u001b[0mf\u001b[0m\u001b[1;33m:\u001b[0m\u001b[1;33m\u001b[0m\u001b[0m\n\u001b[0;32m      3\u001b[0m         \u001b[0mprint\u001b[0m\u001b[1;33m(\u001b[0m\u001b[1;34m\"-->\"\u001b[0m\u001b[1;33m,\u001b[0m \u001b[0mline\u001b[0m\u001b[1;33m,\u001b[0m \u001b[0mend\u001b[0m\u001b[1;33m=\u001b[0m\u001b[1;34m' '\u001b[0m\u001b[1;33m)\u001b[0m\u001b[1;33m\u001b[0m\u001b[0m\n\u001b[0;32m      4\u001b[0m \u001b[1;33m\u001b[0m\u001b[0m\n\u001b[0;32m      5\u001b[0m \u001b[0mprint\u001b[0m\u001b[1;33m(\u001b[0m\u001b[1;34m\"End of file\"\u001b[0m\u001b[1;33m)\u001b[0m\u001b[1;33m\u001b[0m\u001b[0m\n",
      "\u001b[1;31mFileNotFoundError\u001b[0m: [Errno 2] No such file or directory: 'elements.txt'"
     ]
    }
   ],
   "source": [
    "with open(\"elements.txt\") as f:\n",
    "    for line in f:\n",
    "        print(\"-->\", line, end=' ')\n",
    "        \n",
    "print(\"End of file\")"
   ]
  },
  {
   "cell_type": "markdown",
   "metadata": {},
   "source": [
    "This will return one line at a time until the end of the file."
   ]
  },
  {
   "cell_type": "markdown",
   "metadata": {},
   "source": [
    "### readlines and writelines\n",
    "We can also read an entire file into a list of lines, using `readlines()`. This gives us a list of strings."
   ]
  },
  {
   "cell_type": "code",
   "execution_count": null,
   "metadata": {},
   "outputs": [],
   "source": [
    "with open(\"elements.txt\") as f:\n",
    "    print(f.readlines())"
   ]
  },
  {
   "cell_type": "markdown",
   "metadata": {},
   "source": [
    "`readlines()` is exactly the same as iterating through the lines of the file and storing them in a list as we go."
   ]
  },
  {
   "cell_type": "markdown",
   "metadata": {},
   "source": [
    "To do the opposite, we can write out a list of strings to a file, one line per liste element, using `writelines()`"
   ]
  },
  {
   "cell_type": "code",
   "execution_count": null,
   "metadata": {},
   "outputs": [],
   "source": [
    "with open(\"line_test.txt\", \"w\") as f:\n",
    "    f.writelines([\"one\", \"two\", \"three\"])"
   ]
  },
  {
   "cell_type": "markdown",
   "metadata": {},
   "source": [
    "## One line at a time\n",
    "We can also read one line at a time, using `readline()`. Instead of `for`, we can use `while`, but it is more awkward. However, if we need to conditionally read lines (unusual but possible) this is a more flexible way of reading in data."
   ]
  },
  {
   "cell_type": "code",
   "execution_count": 14,
   "metadata": {},
   "outputs": [],
   "source": [
    "with open(\"words.txt\") as f:\n",
    "    line = f.readline()\n",
    "    while len(line)>0:\n",
    "        #print(line, end=' ')\n",
    "        line = f.readline()\n",
    "    #print(line, end=' ')"
   ]
  },
  {
   "cell_type": "markdown",
   "metadata": {},
   "source": [
    "### Stripping\n",
    "\n",
    "One annoying thing that happens when reading in text from files is extraneous **whitespace**. For example, reading a line includes the **newline** at the end. If you have a file `chocolate_products.txt` which contains lines like:\n",
    "\n",
    "    dark chocolate\n",
    "    milk chocolate\n",
    "    white chocolate\n",
    "    cocoa \n",
    "    cocoa butter\n",
    "\n",
    "you might try and iterate over each line and see if any line matches `cocoa`"
   ]
  },
  {
   "cell_type": "code",
   "execution_count": null,
   "metadata": {},
   "outputs": [],
   "source": [
    "# won't work\n",
    "with open(\"chocolate_products.txt\") as choc_file:\n",
    "    for line in choc_file:\n",
    "        print(line)\n",
    "        if line==\"cocoa\":\n",
    "            # why isn't this ever called?!\n",
    "            print(\"    ***Found cocoa***\")"
   ]
  },
  {
   "cell_type": "markdown",
   "metadata": {},
   "source": [
    "This is because there is a **newline character** at the end of the line. There must be one, in fact, because otherwise it wouldn't be a separate line at all!\n",
    "\n",
    "We can see it easily if we print out the character code for the whole line:"
   ]
  },
  {
   "cell_type": "code",
   "execution_count": null,
   "metadata": {},
   "outputs": [],
   "source": [
    "# notice the 10 on the end of each line? That's the newline\n",
    "# 32 is space\n",
    "with open(\"chocolate_products.txt\") as choc_file:\n",
    "    for line in choc_file:\n",
    "        for char in line:\n",
    "            print(\"%02X\" % ord(char), end=' ')\n",
    "        print()"
   ]
  },
  {
   "cell_type": "markdown",
   "metadata": {},
   "source": [
    "Add tag\n",
    "Notice all the 0A at the end of each line? Those are character 10 (0x0A in hex), the newline character."
   ]
  },
  {
   "cell_type": "markdown",
   "metadata": {},
   "source": [
    "We can strip off all whitespace from the end of a string using `strip()`. This just trims off all space characters (space, newline, tabs). If we want to trim whitespace from the start, use `rstrip()` (right-strip)."
   ]
  },
  {
   "cell_type": "code",
   "execution_count": null,
   "metadata": {},
   "outputs": [],
   "source": [
    "# will work\n",
    "with open(\"chocolate_products.txt\") as choc_file:\n",
    "    for line in choc_file:\n",
    "        print(line.strip())\n",
    "        if line.strip()==\"cocoa\":\n",
    "            # this works now\n",
    "            print(\"    ***Found cocoa!***\")"
   ]
  },
  {
   "cell_type": "markdown",
   "metadata": {},
   "source": [
    "## Finding patterns\n",
    "We can, for example, find every line that contains a string and write it to another file:"
   ]
  },
  {
   "cell_type": "code",
   "execution_count": 1,
   "metadata": {},
   "outputs": [
    {
     "name": "stdout",
     "output_type": "stream",
     "text": [
      "foresaw\n",
      "fretsaw\n",
      "fretsaws\n",
      "hacksaw\n",
      "hacksaws\n",
      "handsaw\n",
      "jigsaw\n",
      "jigsaws\n",
      "oversaw\n",
      "ripsaw\n",
      "saw\n",
      "sawdust\n",
      "sawed\n",
      "sawfish\n",
      "sawfly\n",
      "sawing\n",
      "sawmill\n",
      "sawmills\n",
      "sawn\n",
      "saws\n",
      "sawtooth\n",
      "sawyer\n",
      "seesaw\n",
      "seesaws\n",
      "unsawed\n",
      "warsaw\n",
      "\n"
     ]
    }
   ],
   "source": [
    "# note that we nest the two with statements.\n",
    "# the order isn't important here, because we never do anything to the files \n",
    "# until both files are open\n",
    "\n",
    "pattern = \"saw\"\n",
    "with open(\"matched.txt\", \"w\") as out_file:\n",
    "    with open(\"words.txt\") as in_file:\n",
    "        for line in in_file:\n",
    "            # check if we match the pattern\n",
    "            if pattern in line:\n",
    "                out_file.write(line)\n",
    "\n",
    "# find out what we wrote to the matched.txt file\n",
    "with open(\"matched.txt\") as in_file:\n",
    "    print(in_file.read())"
   ]
  },
  {
   "cell_type": "markdown",
   "metadata": {},
   "source": [
    "Write a program to write out which lines the word `\"Jack\"` appears in `\"JackJill.txt\"`."
   ]
  },
  {
   "cell_type": "code",
   "execution_count": null,
   "metadata": {},
   "outputs": [],
   "source": []
  },
  {
   "cell_type": "markdown",
   "metadata": {},
   "source": [
    "There are two ways to write to a file.\n",
    "\n",
    "    `\"w\"` opens a file and writes to the beginning of it.\n",
    "          if the file doesn't exist it creates it.\n",
    "          if the file exist it overwrites the previous content,\n",
    "    `\"a\"` appends to an existing file, adding to the end of the file.\n",
    "          if the file doesn't exist it creates it.\n",
    "          \n",
    "Just as read has a newline character attached to it, a newline character must be added to the end of every line."
   ]
  },
  {
   "cell_type": "code",
   "execution_count": null,
   "metadata": {},
   "outputs": [],
   "source": [
    "# open in write mode, reseting the file\n",
    "def readFile(inFile):\n",
    "    with open(inFile, \"r\") as inF:\n",
    "        for line in inF:\n",
    "            print(line)\n",
    "    \n",
    "def writeNoNewline(outFile, message):\n",
    "    with open(outFile, \"w\") as outF:\n",
    "        outF.write(message)\n",
    "    \n",
    "def writeNewline(outFile, message):\n",
    "    with open(outFile, \"w\") as outF:\n",
    "        outF.write(message)\n",
    "        outF.write(\"\\n\")\n",
    "        \n",
    "def appendFile(outFile, message):\n",
    "    with open(outFile, \"a\") as outF:\n",
    "        outF.write(message)\n",
    "        outF.write(\"\\n\")"
   ]
  },
  {
   "cell_type": "code",
   "execution_count": null,
   "metadata": {},
   "outputs": [],
   "source": [
    "writeNoNewline(\"testing.txt\",\"Write no newline. \")\n",
    "readFile(\"testing.txt\")"
   ]
  },
  {
   "cell_type": "code",
   "execution_count": null,
   "metadata": {},
   "outputs": [],
   "source": [
    "appendFile(\"testing.txt\",\"Append to same line. \")\n",
    "readFile(\"testing.txt\")"
   ]
  },
  {
   "cell_type": "code",
   "execution_count": 5,
   "metadata": {},
   "outputs": [
    {
     "ename": "NameError",
     "evalue": "name 'writeNewline' is not defined",
     "output_type": "error",
     "traceback": [
      "\u001b[1;31m---------------------------------------------------------------------------\u001b[0m",
      "\u001b[1;31mNameError\u001b[0m                                 Traceback (most recent call last)",
      "\u001b[1;32m<ipython-input-5-c09719687b7b>\u001b[0m in \u001b[0;36m<module>\u001b[1;34m()\u001b[0m\n\u001b[1;32m----> 1\u001b[1;33m \u001b[0mwriteNewline\u001b[0m\u001b[1;33m(\u001b[0m\u001b[1;34m\"testing.txt\"\u001b[0m\u001b[1;33m,\u001b[0m\u001b[1;34m\"Overwrites previous file but newline added. \"\u001b[0m\u001b[1;33m)\u001b[0m\u001b[1;33m\u001b[0m\u001b[0m\n\u001b[0m\u001b[0;32m      2\u001b[0m \u001b[0mreadFile\u001b[0m\u001b[1;33m(\u001b[0m\u001b[1;34m\"testing.txt\"\u001b[0m\u001b[1;33m)\u001b[0m\u001b[1;33m\u001b[0m\u001b[0m\n",
      "\u001b[1;31mNameError\u001b[0m: name 'writeNewline' is not defined"
     ]
    }
   ],
   "source": [
    "writeNewline(\"testing.txt\",\"Overwrites previous file but newline added. \")\n",
    "readFile(\"testing.txt\")"
   ]
  },
  {
   "cell_type": "code",
   "execution_count": null,
   "metadata": {},
   "outputs": [],
   "source": [
    "appendFile(\"testing.txt\",\"So append to a new line.\")\n",
    "readFile(\"testing.txt\")"
   ]
  },
  {
   "cell_type": "markdown",
   "metadata": {},
   "source": [
    "Write a program to add the following list to the `\"anaimals.txt\"`, one animal per line."
   ]
  },
  {
   "cell_type": "code",
   "execution_count": null,
   "metadata": {},
   "outputs": [],
   "source": [
    "moreAnimals = [\"kitten\",\"lamb\",\"monkey\",\"nit\",\"owl\"]\n"
   ]
  },
  {
   "cell_type": "markdown",
   "metadata": {},
   "source": [
    "Write a function that takes a `file` and a `number` and writes the times tables of that number to the file."
   ]
  },
  {
   "cell_type": "code",
   "execution_count": null,
   "metadata": {},
   "outputs": [],
   "source": []
  },
  {
   "cell_type": "markdown",
   "metadata": {},
   "source": [
    "Call the function to write the time tables for all the tables between 1-10."
   ]
  },
  {
   "cell_type": "code",
   "execution_count": null,
   "metadata": {},
   "outputs": [],
   "source": []
  },
  {
   "cell_type": "markdown",
   "metadata": {},
   "source": [
    "Write a program that writes the first verse of `Jack and Jill` to a separate file."
   ]
  },
  {
   "cell_type": "code",
   "execution_count": null,
   "metadata": {},
   "outputs": [],
   "source": []
  },
  {
   "cell_type": "markdown",
   "metadata": {},
   "source": [
    "Run the code below. What happens? Can you fix it not to crash when trying to read form a file that doesn't exist.\n",
    "\n",
    "    `hint: use the try....except from yesterday`"
   ]
  },
  {
   "cell_type": "code",
   "execution_count": null,
   "metadata": {},
   "outputs": [],
   "source": [
    "with open(\"noFile.txt\", \"r\") as in_file:\n",
    "    for line in in_file:\n",
    "        print(line)"
   ]
  },
  {
   "cell_type": "markdown",
   "metadata": {},
   "source": [
    "In the code below, information regarding all the birthdays is read in from a file, converted into a dictionary and then written to a file.\n",
    "\n",
    "    .split() splits a string up by the spaces and stores the result in a list."
   ]
  },
  {
   "cell_type": "code",
   "execution_count": 6,
   "metadata": {},
   "outputs": [
    {
     "name": "stdout",
     "output_type": "stream",
     "text": [
      "['27', '6', '18']\n"
     ]
    }
   ],
   "source": [
    "# split splits the string by the parameter.\n",
    "# if no parameter is provided it defaults to split by spaces.\n",
    "\n",
    "date = \"27/6/18\"\n",
    "splitDate = date.split(\"/\")\n",
    "print(splitDate)"
   ]
  },
  {
   "cell_type": "code",
   "execution_count": null,
   "metadata": {},
   "outputs": [],
   "source": [
    "# function to open any file and return the whole contents of the file.\n",
    "\n",
    "def readFile(inFile):\n",
    "    try:\n",
    "        with open(inFile, \"r\") as inF:\n",
    "            fileData = inF.readlines()\n",
    "            return fileData\n",
    "    except:\n",
    "        print(\"File does not exist\")\n",
    "        \n",
    "# This function takes the data from the file and builds a dictionary similar \n",
    "# to the one used in the dictionary exercises.\n",
    "    \n",
    "def extractData(data):\n",
    "    bdays = {}\n",
    "    for line in data:\n",
    "        print(\"Line as it is read in - \" + line)\n",
    "        \n",
    "        cleanLine = line.strip()\n",
    "        words = cleanLine.split()\n",
    "        print(\"Split line - \", end = \"\")\n",
    "        print(words)\n",
    "        print()\n",
    "              \n",
    "        bdays[words[0]] = {\"day\":words[1],\"month\":words[2]}\n",
    "              \n",
    "    return bdays\n",
    "\n",
    "# This function extracts all the data from the dictionary and writes it as a string to a file.\n",
    "\n",
    "def dataFile(outFile,data):\n",
    "    with open(outFile, \"w\") as outF:\n",
    "        for name in data:\n",
    "            #output = \"\"\n",
    "            outF.write(\"%s has a birthday on %s %s.\" %(name,data[name][\"month\"],data[name][\"day\"]))\n",
    "            outF.write(\"\\n\")"
   ]
  },
  {
   "cell_type": "code",
   "execution_count": null,
   "metadata": {},
   "outputs": [],
   "source": [
    "d = readFile(\"birthdays.txt\")\n",
    "b = extractData(d)\n",
    "print(b)\n",
    "b[\"Fred\"] = {\"day\":\"3\",\"month\":\"June\"}\n",
    "dataFile(\"new.txt\",b)"
   ]
  },
  {
   "cell_type": "markdown",
   "metadata": {},
   "source": [
    "Write a program that reads in the information from the file `\"exams.txt\"`, stores it in a data structure and then writes the total mark and average mark of each student to a file (include the name with the results)"
   ]
  },
  {
   "cell_type": "code",
   "execution_count": null,
   "metadata": {},
   "outputs": [],
   "source": []
  },
  {
   "cell_type": "markdown",
   "metadata": {},
   "source": [
    "### Spellcheck\n",
    "* There is a dictionary of (lowercase) words in the file \"words.txt\". \n",
    "* There is one word per line.\n",
    "* Write a program that asks for a word from the user, and if the word is in the dictionary, prints \"Spelled OK\", otherwise prints \"Misspelled\"\n",
    "* Note: to get the string to work correctly, you must **strip** the newline off of it:\n",
    "\n",
    "        line = line.strip()\n",
    "        \n",
    "will return just the printable text of the line.\n",
    "* Your spell checker should not care about the case of the word the user enters.\n"
   ]
  },
  {
   "cell_type": "code",
   "execution_count": null,
   "metadata": {},
   "outputs": [],
   "source": []
  },
  {
   "cell_type": "markdown",
   "metadata": {},
   "source": [
    "### A.4 Matching lines in a file\n",
    "* Write a program which checks each line of text in a file to see if it begins with a given string.\n",
    "* You can use `long_string.startswith(\"pattern\")` to see if `pattern` occurs at the start of `long_string`.\n",
    "* If the line contains the string, print it out.\n",
    "\n",
    "Apply your program to the file `romeo_juliet.txt` looking for the pattern `\"  Rom.\"` (note there are two spaces at the start!) and writing the line to `Romeos_lines.txt`. This will only copy the *first* of Romeo's lines in any passage.\n",
    "\n",
    "Repeat this process to copy Juliet's (first) lines to `Juliets_lines.txt`.\n",
    "\n",
    "*Note that we did a very similar example in the lecture notes!*\n",
    "\n",
    "**Optional extension (slightly hard):**\n",
    "Make the code copy *all* of Romeo's (or Juliet's) lines, not just the first line in any block of dialogue. You will need to look at `romeo_juliet.txt` to see how you could find this from the structure of the file."
   ]
  },
  {
   "cell_type": "code",
   "execution_count": null,
   "metadata": {},
   "outputs": [],
   "source": []
  }
 ],
 "metadata": {
  "kernelspec": {
   "display_name": "Python 3",
   "language": "python",
   "name": "python3"
  },
  "language_info": {
   "codemirror_mode": {
    "name": "ipython",
    "version": 3
   },
   "file_extension": ".py",
   "mimetype": "text/x-python",
   "name": "python",
   "nbconvert_exporter": "python",
   "pygments_lexer": "ipython3",
   "version": "3.6.5"
  }
 },
 "nbformat": 4,
 "nbformat_minor": 2
}

