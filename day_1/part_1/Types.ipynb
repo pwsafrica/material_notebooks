{
 "cells": [
  {
   "cell_type": "markdown",
   "metadata": {},
   "source": [
    "# Types"
   ]
  },
  {
   "cell_type": "markdown",
   "metadata": {},
   "source": [
    "##### A computer is a machine (mostly electronic) that is able to take information (input), and process it to make new information (output)."
   ]
  },
  {
   "cell_type": "markdown",
   "metadata": {},
   "source": [
    "How the computer processes the informtation depends on the type of data.\n",
    "\n",
    "##  Data Types\n",
    "\n",
    "In Python some of the standard **data types** include:\n",
    "* strings \n",
    "* integers \n",
    "* floating-point numbers \n",
    "* booleans \n",
    "\n",
    "All other data structures are built using these primitive data types.\n",
    "\n",
    "The **data type** determines the set of **values** and the **operations** that are permitted."
   ]
  },
  {
   "cell_type": "markdown",
   "metadata": {},
   "source": [
    "### Data Values\n",
    "This is the set of all premissable values for a type.\n",
    "\n",
    "* strings - A sequence of characters surrounded by double quotes `\"` or single quotes `'` - `\"Hello\"`,`'University of Ibadan'`,`\"*$!??\"`\n",
    "* integers - Any whole number both positive and negative - `5`,`179`,`-23`\n",
    "* floating-point numbers - Any real number -`0.5`,`100.0`, `-2.578`\n",
    "* booleans - Only two values - `True` and `False` (**note the capitalisation in Python!**)\n"
   ]
  },
  {
   "cell_type": "markdown",
   "metadata": {},
   "source": [
    "`type(x)` is a function that returns the type of x. `print()` prints the result below the cell of code.\n",
    "\n",
    "    print(type(5))\n",
    "    \n",
    "will print out the type of the value `5`"
   ]
  },
  {
   "cell_type": "markdown",
   "metadata": {},
   "source": [
    "#### <font color=\"red\"> To run the code below, click on the cell and press CTRL-ENTER.</font>"
   ]
  },
  {
   "cell_type": "code",
   "execution_count": 31,
   "metadata": {},
   "outputs": [
    {
     "name": "stdout",
     "output_type": "stream",
     "text": [
      "<class 'int'>\n"
     ]
    }
   ],
   "source": [
    "print(type(5))"
   ]
  },
  {
   "cell_type": "code",
   "execution_count": 15,
   "metadata": {},
   "outputs": [
    {
     "data": {
      "text/plain": [
       "str"
      ]
     },
     "execution_count": 15,
     "metadata": {},
     "output_type": "execute_result"
    }
   ],
   "source": [
    "print(type(\"5\"))"
   ]
  },
  {
   "cell_type": "code",
   "execution_count": 33,
   "metadata": {},
   "outputs": [
    {
     "name": "stdout",
     "output_type": "stream",
     "text": [
      "<class 'float'>\n"
     ]
    }
   ],
   "source": [
    "print(type(5.0))"
   ]
  },
  {
   "cell_type": "code",
   "execution_count": 32,
   "metadata": {},
   "outputs": [
    {
     "name": "stdout",
     "output_type": "stream",
     "text": [
      "<class 'bool'>\n"
     ]
    }
   ],
   "source": [
    "print(type(True))"
   ]
  },
  {
   "cell_type": "markdown",
   "metadata": {},
   "source": [
    "In the empty cell below, print the type of the following values:\n",
    "\n",
    "    5\n",
    "    5.0\n",
    "    \"hello\"\n",
    "    'hello world!!'\n",
    "    False\n",
    "    \"False\"\n",
    "    false\n",
    "    print\n",
    "    None"
   ]
  },
  {
   "cell_type": "code",
   "execution_count": null,
   "metadata": {},
   "outputs": [],
   "source": []
  },
  {
   "cell_type": "markdown",
   "metadata": {},
   "source": [
    "#### Converting types\n",
    "If the data is compatable, it may be possible to covert data from one type to another using the following methods.\n",
    "\n",
    "In Python, basic functions that do type conversions are:\n",
    "* `int(x)` convert x to an integer\n",
    "* `float(x)` convert x to a floating-point number\n",
    "* `str(x)` convert x to a string\n",
    "\n",
    "Note that these functions **do not** alter the original value -- they create completely new values and set them according to the value you gave them. They can take strings, but can also take integers, floats or other number values.\n",
    "\n",
    "**It is an error to pass a string not interpretable as a number to the conversion functions.**"
   ]
  },
  {
   "cell_type": "code",
   "execution_count": 36,
   "metadata": {},
   "outputs": [
    {
     "data": {
      "text/plain": [
       "'8'"
      ]
     },
     "execution_count": 36,
     "metadata": {},
     "output_type": "execute_result"
    }
   ],
   "source": [
    "# converts the integer 8 to the string 8.\n",
    "\n",
    "(str(8))"
   ]
  },
  {
   "cell_type": "code",
   "execution_count": 2,
   "metadata": {},
   "outputs": [
    {
     "data": {
      "text/plain": [
       "2"
      ]
     },
     "execution_count": 2,
     "metadata": {},
     "output_type": "execute_result"
    }
   ],
   "source": [
    "# converts the string 2 to the integer 2.\n",
    "\n",
    "int(\"2\")"
   ]
  },
  {
   "cell_type": "code",
   "execution_count": 3,
   "metadata": {},
   "outputs": [
    {
     "data": {
      "text/plain": [
       "-32.0"
      ]
     },
     "execution_count": 3,
     "metadata": {},
     "output_type": "execute_result"
    }
   ],
   "source": [
    "# converts the integer -32 to the float -32.\n",
    "\n",
    "float(-32)"
   ]
  },
  {
   "cell_type": "code",
   "execution_count": 4,
   "metadata": {},
   "outputs": [
    {
     "data": {
      "text/plain": [
       "6"
      ]
     },
     "execution_count": 4,
     "metadata": {},
     "output_type": "execute_result"
    }
   ],
   "source": [
    "# This is allowed.\n",
    "\n",
    "int(6.5)"
   ]
  },
  {
   "cell_type": "code",
   "execution_count": 5,
   "metadata": {},
   "outputs": [
    {
     "ename": "ValueError",
     "evalue": "invalid literal for int() with base 10: 'hi'",
     "output_type": "error",
     "traceback": [
      "\u001b[1;31m---------------------------------------------------------------------------\u001b[0m",
      "\u001b[1;31mValueError\u001b[0m                                Traceback (most recent call last)",
      "\u001b[1;32m<ipython-input-5-ff70d919d7da>\u001b[0m in \u001b[0;36m<module>\u001b[1;34m()\u001b[0m\n\u001b[0;32m      1\u001b[0m \u001b[1;31m# But this is not.\u001b[0m\u001b[1;33m\u001b[0m\u001b[1;33m\u001b[0m\u001b[0m\n\u001b[0;32m      2\u001b[0m \u001b[1;33m\u001b[0m\u001b[0m\n\u001b[1;32m----> 3\u001b[1;33m \u001b[0mint\u001b[0m\u001b[1;33m(\u001b[0m\u001b[1;34m\"hi\"\u001b[0m\u001b[1;33m)\u001b[0m\u001b[1;33m\u001b[0m\u001b[0m\n\u001b[0m",
      "\u001b[1;31mValueError\u001b[0m: invalid literal for int() with base 10: 'hi'"
     ]
    }
   ],
   "source": [
    "# But this is not. Makes no sense can not convert the string \"hi\" to an integer value.\n",
    "\n",
    "int(\"hi\")"
   ]
  },
  {
   "cell_type": "markdown",
   "metadata": {},
   "source": [
    "**Comments**\n",
    "\n",
    "Comments are universal in programming languages. They allow the programmer to insert their own annotations inline with the code.\n",
    "\n",
    "In Python, comments begin with a hash symbol `#` and continute until the end of a line. Python ignores everything after the `#` until the line ends.\n",
    "\n",
    "Comments are used.....\n",
    "\n",
    "    To document code.\n",
    "    To explain potential problems.\n",
    "    To **temporarily** disable code"
   ]
  },
  {
   "cell_type": "markdown",
   "metadata": {},
   "source": [
    "## Operators"
   ]
  },
  {
   "cell_type": "markdown",
   "metadata": {},
   "source": [
    "**Arithmetic operators - integer and float**\n",
    "\n",
    "We have the standard arithmetic operators `+, -, *, /`.\n",
    "\n",
    "There are a couple of other useful ones as well: \n",
    "* `**`, which is exponentation. `2**8` is `256`\n",
    "* '%', which is modulus (remainder). 15 % 4 is 3.\n",
    "* '//', which is **integer division**. 5/2 is 2.5, but 5//2 is 2\n"
   ]
  },
  {
   "cell_type": "markdown",
   "metadata": {},
   "source": [
    "**String operators**\n",
    "\n",
    "For strings, only `+` and `*` work (and `%` which we will see later). `+` joins two strings and `*` repeats a string (not often useful!)"
   ]
  },
  {
   "cell_type": "markdown",
   "metadata": {},
   "source": [
    "**Boolean operators**\n",
    "\n",
    "Any expression that evaluates to a **boolean result** (either True or False), can be manipulated using the `and` `or` and `not` operators. \n",
    "* `not` flips the operand following from True to False or vice versa\n",
    "* `and` is True if both operands are True\n",
    "* `or` is True if either operand is True.\n"
   ]
  },
  {
   "cell_type": "markdown",
   "metadata": {},
   "source": [
    "**General Operators**\n",
    "\n",
    "*Equality*\n",
    "\n",
    "We can test values for equality using `==` (note the double equals!). "
   ]
  },
  {
   "cell_type": "code",
   "execution_count": 20,
   "metadata": {},
   "outputs": [
    {
     "name": "stdout",
     "output_type": "stream",
     "text": [
      "True\n",
      "False\n",
      "False\n",
      "True\n"
     ]
    }
   ],
   "source": [
    "print(\"same\" == \"same\")\n",
    "print(\"same\" == \"different\")\n",
    "print(5 == \"5\")\n",
    "print(4 == 4.0)"
   ]
  },
  {
   "cell_type": "markdown",
   "metadata": {},
   "source": [
    "*Not equal to*\n",
    "\n",
    "!= is the opposite of =="
   ]
  },
  {
   "cell_type": "code",
   "execution_count": null,
   "metadata": {},
   "outputs": [],
   "source": [
    "print(\"same\" != \"same\")\n",
    "print(\"same\" != \"different\")\n",
    "print(not(\"same\" == \"same\"))"
   ]
  },
  {
   "cell_type": "markdown",
   "metadata": {},
   "source": [
    "*Ordering comparisons*\n",
    "\n",
    "The standard operators \n",
    "\n",
    "    > (greater than)\n",
    "    >= (greater than or equal to) \n",
    "    < (less than) \n",
    "    <= (less than or equal to) \n",
    "    \n",
    "    allow you to compare the ordering of values."
   ]
  },
  {
   "cell_type": "code",
   "execution_count": null,
   "metadata": {},
   "outputs": [],
   "source": [
    "print(3>1)\n",
    "print(6<5)\n",
    "print(6>=6)\n",
    "print(5+4==3*3)"
   ]
  },
  {
   "cell_type": "markdown",
   "metadata": {},
   "source": [
    "They also work for strings, in which case Python will compare the strings in **lexicographic** (dictionary order)."
   ]
  },
  {
   "cell_type": "code",
   "execution_count": null,
   "metadata": {},
   "outputs": [],
   "source": [
    "print(\"Aardvark\" < \"Zebra\")\n",
    "print(\"aaa\" < \"aab\")\n",
    "print(\"aaa\" < \"aaa\") # aaa is *equal* to aaa, so cannot be < than"
   ]
  },
  {
   "cell_type": "markdown",
   "metadata": {},
   "source": [
    "#### Comparisions only work between comparable types\n",
    "Be very careful to compare values of the same type. Python will usually not let you do things like compare a number to a string, but there are exceptions."
   ]
  },
  {
   "cell_type": "code",
   "execution_count": null,
   "metadata": {},
   "outputs": [],
   "source": [
    "# what does this even mean?!\n",
    "print(\"no\" > False)"
   ]
  },
  {
   "cell_type": "markdown",
   "metadata": {},
   "source": [
    "**Standard Python operators**\n",
    "\n",
    "These are all valid operators in Python:\n",
    "\n",
    "    lambda                  Lambda expression\n",
    "    or                      Boolean OR\n",
    "    and                     Boolean AND\n",
    "    not x                   Boolean NOT\n",
    "    in, not in              Membership tests\n",
    "    is, is not              Identity tests\n",
    "    <, <=, >, >=, !=, ==    Comparisons\n",
    "    |                       Bitwise OR\n",
    "    ^                       Bitwise XOR\n",
    "    &                       Bitwise AND\n",
    "    <<, >>                  Bitwise Shifts\n",
    "    +, -                    Addition and subtraction\n",
    "    *, /, %                 Multiplication, Division and Remainder\n",
    "    +x, -x                  Positive, Negative\n",
    "    ~x                      Bitwise NOT\n",
    "    **                      Exponentiation\n",
    "    x.attribute             Attribute reference\n",
    "    x[index]                Indexing\n",
    "    x[index:index]          Slicing\n",
    "    f(arguments ...)        Function call\n",
    "    (expressions, ...)      Binding or tuple display\n",
    "    [expressions, ...]      List display\n",
    "    {key:datum, ...}        Dictionary display\n",
    "    \n",
    "    \n",
    "Many of these you will not have seen before, but the key arithmetic operators are in the middle of the table.  "
   ]
  },
  {
   "cell_type": "markdown",
   "metadata": {},
   "source": [
    "Python provide many built_in operators for each built_in tpye. To find the complete list use `dir()`. You may not understand the function of many operators just now but it is good to know how to get the complete list."
   ]
  },
  {
   "cell_type": "code",
   "execution_count": 26,
   "metadata": {},
   "outputs": [],
   "source": [
    "dir(\"hi\")"
   ]
  },
  {
   "cell_type": "code",
   "execution_count": null,
   "metadata": {},
   "outputs": [],
   "source": [
    "dir(5)"
   ]
  },
  {
   "cell_type": "code",
   "execution_count": null,
   "metadata": {},
   "outputs": [],
   "source": [
    "dir(1.0)"
   ]
  },
  {
   "cell_type": "code",
   "execution_count": 28,
   "metadata": {},
   "outputs": [],
   "source": [
    "dir(True)"
   ]
  },
  {
   "cell_type": "markdown",
   "metadata": {},
   "source": [
    "## Expressions\n",
    "**Expressions** are sequences of code that produce (or **return**) a value. For example, these are all expressions:\n",
    "\n",
    "    5\n",
    "    2 + 3\n",
    "    \"a sensible string\"\n",
    "    94 / 8 * 31"
   ]
  },
  {
   "cell_type": "markdown",
   "metadata": {},
   "source": [
    "Operators, operands, operations\n",
    "Operators are elements of expressions that do some operation (for example, add two numbers). They take operands, which are the values they operate upon.\n",
    "\n",
    "    Operator examples\n",
    "       8 + 9\n",
    "        operands: 8, 9\n",
    "        operator: + [binary]\n",
    "        operation: addition\n",
    "\n",
    "      \"first\" + \"last\"\n",
    "          operands: \"first\", \"last\"\n",
    "          operator: + [binary]\n",
    "          operation: concatenation (string joining)\n",
    "\n",
    "      8 - 9\n",
    "          operands: 8, 9\n",
    "          operator: - [binary]\n",
    "          operation: subtraction\n",
    "\n",
    "      -9\n",
    "          operands: 9\n",
    "          operator: - [unary]\n",
    "          operation: negation\n",
    "      \n",
    "          operator: ** [binary]\n",
    "          operation: exponentiation\n",
    "\n",
    "      is_alive and is_kicking\n",
    "         operands: is_alive, is_kicking\n",
    "         operator: and [binary]\n",
    "         operation: logical/boolean and\n",
    "\n",
    "     2 ** 8\n",
    "          operands: 2,8"
   ]
  },
  {
   "cell_type": "markdown",
   "metadata": {},
   "source": [
    "**Precedence**\n",
    "\n",
    "Python follows essentially the normal precedence rules from school algebra (PEMDAS -- parenthesis, exponentiation, multiplication, division, addition, subtraction). \n",
    "\n",
    "But there are quite a number of extra operators provided with Python. All operators have a precedence, which is the order the appear in the table above. *Operators with equal precedence (like +, -) are ordered from left to right*.\n",
    "\n",
    "An operator with higher precedence is said to **bind tighter** than one with lower precedence, because it \"binds\" onto its operands more tightly. Multiplication, for example, binds tighter than addition."
   ]
  },
  {
   "cell_type": "markdown",
   "metadata": {},
   "source": [
    "#### When operators have equal precedence, the evaluation rule from left to right:"
   ]
  },
  {
   "cell_type": "code",
   "execution_count": null,
   "metadata": {},
   "outputs": [],
   "source": [
    " 10 + 4 * 5\n",
    "# 5 is \"bound tighter\" to 4 than to 10"
   ]
  },
  {
   "cell_type": "markdown",
   "metadata": {},
   "source": [
    "**( x + 1 ) * 2**\n",
    "\n",
    "Putting an expression in parenthesis (round brackets) forces Python to evaluate the expression inside the brackets before applying any further operators. This can be used to override the default precedence:"
   ]
  },
  {
   "cell_type": "code",
   "execution_count": null,
   "metadata": {},
   "outputs": [],
   "source": [
    " (10 + 4) * 5\n",
    "# 5 is \"bound tighter\" to 4 than to 10"
   ]
  },
  {
   "cell_type": "markdown",
   "metadata": {},
   "source": [
    "**Using parentheses**\n",
    "\n",
    "If you're in any doubt about the order in which operators will act, then use parentheses to be unambiguous. Everything within parenthesis is evaluated **before any other operation** which applies to it.\n",
    "\n",
    "    x + 2 * y         # compute 2*y, adds x\n",
    "    (x + 2) * y       # computes x+2, multiplies by y\n",
    "    ((x+4)*(y-2))//8  # computes x+4, y-2\n",
    "                      # multiplies results together\n",
    "                      # computes integer division on the result.\n"
   ]
  },
  {
   "cell_type": "code",
   "execution_count": null,
   "metadata": {},
   "outputs": [],
   "source": [
    "# I don't remember the order these will be applied in\n",
    "# [don't worry, you don't need to know what these operators do at this point!]\n",
    "print(21 & 15 << 4 ^ 317)"
   ]
  },
  {
   "cell_type": "code",
   "execution_count": null,
   "metadata": {},
   "outputs": [],
   "source": [
    "# this is much clearer (and wasn't the default order!)\n",
    "print(((21 & 15) << 4)  ^ 317)"
   ]
  },
  {
   "cell_type": "code",
   "execution_count": null,
   "metadata": {},
   "outputs": [],
   "source": [
    "# run this code\n",
    "\n",
    "print(\"hello world\")"
   ]
  },
  {
   "cell_type": "code",
   "execution_count": null,
   "metadata": {},
   "outputs": [],
   "source": [
    "# change the code to print your name instead of world\n",
    "\n"
   ]
  },
  {
   "cell_type": "code",
   "execution_count": null,
   "metadata": {},
   "outputs": [],
   "source": [
    "#correct the error in this code.\n",
    "\n",
    "print('This creates an error\")"
   ]
  },
  {
   "cell_type": "markdown",
   "metadata": {},
   "source": [
    "Print out the following statement exactly as it is. \n",
    "\n",
    "    Glasgow University says \"Welcome to python!\"\n",
    " \n",
    "*hint: How did you correct the code above*"
   ]
  },
  {
   "cell_type": "code",
   "execution_count": null,
   "metadata": {},
   "outputs": [],
   "source": []
  },
  {
   "cell_type": "markdown",
   "metadata": {},
   "source": [
    "Given two sides of a right angle triangle to be 5 and 12, write an expression to calculate the hypothesis."
   ]
  },
  {
   "cell_type": "markdown",
   "metadata": {},
   "source": [
    "To find the square root, we can import the math library and use the sqrt() method\n",
    "\n",
    "    from math import *\n",
    "    print(sqrt(9))\n",
    "    \n",
    "This will print the number 3."
   ]
  },
  {
   "cell_type": "code",
   "execution_count": null,
   "metadata": {},
   "outputs": [],
   "source": [
    "from math import *\n"
   ]
  },
  {
   "cell_type": "markdown",
   "metadata": {},
   "source": [
    "Find the roots of the following quadtaric equation $$2x^2 + 5x - 3 = 0$$ using the formula $$\\frac{-b\\pm\\sqrt{b^2-4ac}}{2a}$$ where a,b,c are $$ax^2 + bx + c = 0$$"
   ]
  },
  {
   "cell_type": "code",
   "execution_count": null,
   "metadata": {},
   "outputs": [],
   "source": [
    "from math import *\n"
   ]
  },
  {
   "cell_type": "markdown",
   "metadata": {},
   "source": [
    "**Overloaded operators**\n",
    "\n",
    "It's important to distinguish the symbols used for operators (like `+, -, *`) from the **operations** they apply. In Python,\n",
    "one operator symbol can have many meanings, depending on what value (operand) it is applied to. For example:\n",
    "\n",
    "    2 + 3\n",
    "    >>> 5\n",
    "    \n",
    "    \"first\" + \"last\"\n",
    "    >>> firstlast\n",
    "    \n",
    "In the first case, the `+` symbol meant *integer addition*. In the second case, `+` meant *string concatenation* (joining). Python looks at the types of the operands and decides what operation to apply when it sees an operator symbol. If there is no set of matching types, an error occurs.\n",
    "\n",
    "You can see this if you try to make a malformed expression:"
   ]
  },
  {
   "cell_type": "markdown",
   "metadata": {},
   "source": [
    "*The operation done depends on the operator **and** the type of the  operands.*"
   ]
  },
  {
   "cell_type": "markdown",
   "metadata": {},
   "source": [
    "**Typing**\n",
    "\n",
    "How does Python know what to do when it gets an operator? For example, compare:"
   ]
  },
  {
   "cell_type": "code",
   "execution_count": null,
   "metadata": {},
   "outputs": [],
   "source": [
    "## plus is used on numbers\n",
    "age = 50 + 50\n",
    "\n",
    "## plus is used on strings\n",
    "name = \"first\" + \"last\"\n",
    "\n",
    "print(age, name)"
   ]
  },
  {
   "cell_type": "code",
   "execution_count": null,
   "metadata": {},
   "outputs": [],
   "source": [
    "## This is not allowed though: \n",
    "## plus used on strings and numbers\n",
    "\"henry\" + 8"
   ]
  },
  {
   "cell_type": "markdown",
   "metadata": {},
   "source": [
    "## Statements\n",
    "Statements are sequences of code that **do** something. \n",
    "\n",
    "So far the only statement we have seen is the `print()` statement. The print statement evaluates the expression in the () and prints the result to the screen. This is very limited, in order to alter the values in the expression we need to change the code.\n",
    "\n",
    "What if we want to ask the user to supply the values for the expression we wish to evalutate. We can use the `input()` statement."
   ]
  },
  {
   "cell_type": "markdown",
   "metadata": {},
   "source": [
    "#### Input\n",
    "`input()` will read one line of text from the keyboard. It always returns a string value.\n",
    "`input()` can take a string which it displays as a prompt.\n"
   ]
  },
  {
   "cell_type": "code",
   "execution_count": 40,
   "metadata": {},
   "outputs": [
    {
     "name": "stdout",
     "output_type": "stream",
     "text": [
      "what is your name:John\n",
      "hello John\n"
     ]
    }
   ],
   "source": [
    "print(\"hello \" + input(\"What is your name? \"))"
   ]
  },
  {
   "cell_type": "markdown",
   "metadata": {},
   "source": [
    "After the print statement this program has no means of accessing the name input again. In order to remember what name was input we must give the input a label. This label is known as a variable. In future when we refer to the label it replaces the variable with the string that was input."
   ]
  },
  {
   "cell_type": "code",
   "execution_count": 47,
   "metadata": {},
   "outputs": [
    {
     "name": "stdout",
     "output_type": "stream",
     "text": [
      "What is your name? John\n",
      "Hello  John\n",
      "John I hope you are enjoying python.\n"
     ]
    }
   ],
   "source": [
    "#the label `name` is a variable which will refer to the input string when used. \n",
    "\n",
    "name = input(\"What is your name? \")\n",
    "print(\"Hello \", name)\n",
    "print(name, \"I hope you are enjoying python.\")"
   ]
  },
  {
   "cell_type": "markdown",
   "metadata": {},
   "source": [
    "#### Variables.\n",
    "Variables are not limited to `input()` statments. Variables are labels that can be assigend a value. When a variable is used in an expression it is replaced by the value it refers to. \n"
   ]
  },
  {
   "cell_type": "markdown",
   "metadata": {},
   "source": [
    "#### Identifiers\n",
    "**Identifiers** are names that we can give to variables. There are specific rules that have to be followed:\n",
    "\n",
    "* Identifiers must start with a letter or _ (underscore)\n",
    "* They must consist only of letters, numbers or underscores\n",
    "* They must not be the same as any reserved keywords\n",
    "\n",
    "There are a small number of reserved keywords in Python, like `if, while, for, return` and a few others. Your variables cannot have these as names.\n",
    "\n",
    "These rules ensure that you can't call a variable `a*b` and then be confused when `a*b` does not multiply `a` and `b` together. \n",
    "\n",
    "Python is case sensitive, and the case of identifiers matters! `var` does *not* refer to the same variable as `VAR` or `vAr`."
   ]
  },
  {
   "cell_type": "markdown",
   "metadata": {},
   "source": [
    "#### Assignment\n",
    "The process of binding a name to a value is called **assignment**. Assignment is notated with a single `=` sign in Python. Variables are **not** declared in advance of use. Assigning instantly binds a name to a value.\n"
   ]
  },
  {
   "cell_type": "markdown",
   "metadata": {},
   "source": [
    "A statement that binds a value to a name is called an **assigment statement**. This creates or updates **a variable**. \n",
    "\n",
    "An assignment has a **left hand side** (before the =) and a **right hand side** (after the =).\n",
    "\n",
    "    speed_limit = 70\n",
    "    [lhs]       = [rhs]\n",
    "    \n",
    "Any expression can be in **rhs**. The **lhs** must refer to a variable that can be bound. "
   ]
  },
  {
   "cell_type": "markdown",
   "metadata": {},
   "source": [
    "Expressions occur as **parts** of statements, such as on the right hand side of an assignment:\n",
    "\n",
    "     statement\n",
    "    |---------|\n",
    "     x = x + 5\n",
    "         |----| expression"
   ]
  },
  {
   "cell_type": "markdown",
   "metadata": {},
   "source": [
    "## Assignment operators\n",
    "As well as plain old `=` (meaning \"assign right hand side to left hand side\"), we have convenience operators in Python to update the value of variables.\n",
    "\n",
    "For example:\n",
    "\n",
    "    var = var + val\n",
    "    \n",
    "can be written as\n",
    "    \n",
    "    var += val\n",
    "    \n",
    "This reduces the amount of repetition in the code, and makes it clearer that we are updating a variable, rather than giving it a totally new value.    \n",
    "        \n",
    "In this case `+=` means *evaluate the right hand side and add it to the variable on the left hand side.  The standard arithmetic operators all have assignment operators:\n",
    "\n",
    "    +=\n",
    "    -=\n",
    "    *=\n",
    "    /=\n",
    "    %=\n",
    "    **=   [I have never seen this one used!]  "
   ]
  },
  {
   "cell_type": "code",
   "execution_count": 48,
   "metadata": {},
   "outputs": [
    {
     "name": "stdout",
     "output_type": "stream",
     "text": [
      "5\n"
     ]
    }
   ],
   "source": [
    "x = 5\n",
    "print(x)"
   ]
  },
  {
   "cell_type": "code",
   "execution_count": 77,
   "metadata": {},
   "outputs": [
    {
     "name": "stdout",
     "output_type": "stream",
     "text": [
      "7\n"
     ]
    }
   ],
   "source": [
    "y = 7\n",
    "print(y)"
   ]
  },
  {
   "cell_type": "code",
   "execution_count": null,
   "metadata": {},
   "outputs": [],
   "source": [
    "print(x+y)"
   ]
  },
  {
   "cell_type": "code",
   "execution_count": 50,
   "metadata": {},
   "outputs": [
    {
     "name": "stdout",
     "output_type": "stream",
     "text": [
      "35\n"
     ]
    }
   ],
   "source": [
    "z = x * y\n",
    "print(z)"
   ]
  },
  {
   "cell_type": "code",
   "execution_count": 51,
   "metadata": {},
   "outputs": [
    {
     "name": "stdout",
     "output_type": "stream",
     "text": [
      "hi\n"
     ]
    }
   ],
   "source": [
    "x = \"hi\"\n",
    "print(x)"
   ]
  },
  {
   "cell_type": "code",
   "execution_count": 78,
   "metadata": {},
   "outputs": [
    {
     "name": "stdout",
     "output_type": "stream",
     "text": [
      "8\n"
     ]
    }
   ],
   "source": [
    "y = y + 1\n",
    "print(y)"
   ]
  },
  {
   "cell_type": "code",
   "execution_count": 79,
   "metadata": {},
   "outputs": [
    {
     "name": "stdout",
     "output_type": "stream",
     "text": [
      "10\n"
     ]
    }
   ],
   "source": [
    "y+=2\n",
    "print(y)"
   ]
  },
  {
   "cell_type": "code",
   "execution_count": 80,
   "metadata": {},
   "outputs": [
    {
     "name": "stdout",
     "output_type": "stream",
     "text": [
      "hellohellohellohellohellohellohellohellohellohello\n"
     ]
    }
   ],
   "source": [
    "print(x * y)"
   ]
  },
  {
   "cell_type": "code",
   "execution_count": 54,
   "metadata": {},
   "outputs": [
    {
     "name": "stdout",
     "output_type": "stream",
     "text": [
      "hi\n"
     ]
    }
   ],
   "source": [
    "a = x\n",
    "print(a)"
   ]
  },
  {
   "cell_type": "code",
   "execution_count": 55,
   "metadata": {},
   "outputs": [
    {
     "name": "stdout",
     "output_type": "stream",
     "text": [
      "x:  hello a:  hi\n"
     ]
    }
   ],
   "source": [
    "x = \"hello\"\n",
    "print(\"x: \",x,\"a: \",a)"
   ]
  },
  {
   "cell_type": "code",
   "execution_count": 56,
   "metadata": {},
   "outputs": [
    {
     "name": "stdout",
     "output_type": "stream",
     "text": [
      "y:  8 b:  8\n"
     ]
    }
   ],
   "source": [
    "b = y\n",
    "print(\"y: \",y,\"b: \",b)"
   ]
  },
  {
   "cell_type": "code",
   "execution_count": 57,
   "metadata": {},
   "outputs": [
    {
     "name": "stdout",
     "output_type": "stream",
     "text": [
      "y:  4 b:  8\n"
     ]
    }
   ],
   "source": [
    "y = y//2\n",
    "print(\"y: \",y,\"b: \",b)"
   ]
  },
  {
   "cell_type": "code",
   "execution_count": 59,
   "metadata": {},
   "outputs": [
    {
     "ename": "TypeError",
     "evalue": "must be str, not int",
     "output_type": "error",
     "traceback": [
      "\u001b[1;31m---------------------------------------------------------------------------\u001b[0m",
      "\u001b[1;31mTypeError\u001b[0m                                 Traceback (most recent call last)",
      "\u001b[1;32m<ipython-input-59-39cb3db33052>\u001b[0m in \u001b[0;36m<module>\u001b[1;34m()\u001b[0m\n\u001b[1;32m----> 1\u001b[1;33m \u001b[0mprint\u001b[0m\u001b[1;33m(\u001b[0m\u001b[0mx\u001b[0m\u001b[1;33m+\u001b[0m\u001b[0my\u001b[0m\u001b[1;33m)\u001b[0m\u001b[1;33m\u001b[0m\u001b[0m\n\u001b[0m",
      "\u001b[1;31mTypeError\u001b[0m: must be str, not int"
     ]
    }
   ],
   "source": [
    "#This worked above because both x and y variables referred to interger values.\n",
    "#Now the x variable refers to a string.\n",
    "#This causes an error as there is no operation + that takes a sting and an int.\n",
    "\n",
    "print(x+y)"
   ]
  },
  {
   "cell_type": "code",
   "execution_count": null,
   "metadata": {},
   "outputs": [],
   "source": []
  },
  {
   "cell_type": "code",
   "execution_count": null,
   "metadata": {},
   "outputs": [],
   "source": []
  },
  {
   "cell_type": "code",
   "execution_count": null,
   "metadata": {},
   "outputs": [],
   "source": []
  },
  {
   "cell_type": "markdown",
   "metadata": {},
   "source": [
    "#### <center> <font color=\"red\"> values have types, not variables </font> </center>\n",
    "\n",
    "You may have seen languages where the type of a variable must be **declared** before it is used, and it can then only hold values of that declared type:\n",
    "\n",
    "    // A C-like language\n",
    "    int age;\n",
    "    age = 5;\n",
    "    \n",
    "    String mood_state;\n",
    "    mood_state = \"angry\";\n",
    "        \n",
    "and statements like\n",
    "\n",
    "    mood_state = 5;\n",
    "\n",
    "would be an error.\n",
    "\n",
    "**This is not the case in Python!** Values have types, and a variable is simply a *binding* of a name to a value. \n",
    "\n",
    "#### Static typing\n",
    "The **static typing** model has variables as \"slots\" of different shapes, which, once created, only that type will fit into.\n",
    "\n",
    "#### Dynamic typing\n",
    "The **dynamic typing** model has values that know their own type, and live on their own as complete objects somewhere in memory. Assigning them to a variable just tells the interpreter to refer to that object with the given name."
   ]
  },
  {
   "cell_type": "markdown",
   "metadata": {},
   "source": [
    "#### Formatted printing\n",
    "We often want to insert values into strings; for example, to calculate a result and place that into a message we print:"
   ]
  },
  {
   "cell_type": "markdown",
   "metadata": {},
   "source": [
    "Here, we used the % operator on a string and a sequence of values (there was only one in this case). The important thing is that the string has special character sequences in it which tell the % operator how to insert the values on the right hand side of the expression.\n",
    "\n",
    "    [string] % (value_1, value_2, value_3)\n",
    "\n",
    "Each of these special sequences begins %, and the character after tells us what to insert there:\n",
    "* `%d` means an integer\n",
    "* `%f` means a floating point number\n",
    "* `%s` means a string\n",
    "* `%%` means just put a percent here (otherwise the interpreter would assume % was indicating a value to be inserted).\n",
    "\n",
    "**There must be exactly as many values on the right hand side as there are % sequences in the string.**\n"
   ]
  },
  {
   "cell_type": "code",
   "execution_count": 66,
   "metadata": {},
   "outputs": [
    {
     "name": "stdout",
     "output_type": "stream",
     "text": [
      "Your tutor today is Sofiat.\n"
     ]
    }
   ],
   "source": [
    "name = \"Sofiat\"\n",
    "\n",
    "print(\"Your tutor today is %s.\" %(name))"
   ]
  },
  {
   "cell_type": "code",
   "execution_count": 68,
   "metadata": {},
   "outputs": [
    {
     "name": "stdout",
     "output_type": "stream",
     "text": [
      "This course is teaching python at The University of Ibadan.\n"
     ]
    }
   ],
   "source": [
    "university = \"The University of Ibadan\"\n",
    "language = \"python\"\n",
    "print (\"This course is teaching %s at %s.\" %(language,university))"
   ]
  },
  {
   "cell_type": "code",
   "execution_count": 70,
   "metadata": {},
   "outputs": [
    {
     "name": "stdout",
     "output_type": "stream",
     "text": [
      "This course is teaching The University of Ibadan at python.\n"
     ]
    }
   ],
   "source": [
    "#The order the variables are given matters.\n",
    "#This does not produce the correct output.\n",
    "\n",
    "university = \"The University of Ibadan\"\n",
    "language = \"python\"\n",
    "print (\"This course is teaching %s at %s.\" %(university,language))"
   ]
  },
  {
   "cell_type": "code",
   "execution_count": 71,
   "metadata": {},
   "outputs": [
    {
     "name": "stdout",
     "output_type": "stream",
     "text": [
      "The hypothesis for sides 5 and 12 is 13.00.\n"
     ]
    }
   ],
   "source": [
    "#%.2f 2 refers to the number of places after the decimal point for a float.\n",
    "\n",
    "a = 5\n",
    "b = 12\n",
    "c = sqrt((a*a)+(b*b))\n",
    "print(\"The hypothesis for sides %d and %d is %.2f.\" %(a,b,c))"
   ]
  },
  {
   "cell_type": "code",
   "execution_count": 75,
   "metadata": {},
   "outputs": [
    {
     "name": "stdout",
     "output_type": "stream",
     "text": [
      "Enter a number: 5\n",
      "5 doubled is 10.\n"
     ]
    }
   ],
   "source": [
    "#Note input returns a string.\n",
    "#To perform integer operations on the input we need to convert it to an integer.\n",
    "\n",
    "num = int(input(\"Enter a number: \"))\n",
    "print(\"%d doubled is %d.\" %(num, num*2))"
   ]
  },
  {
   "cell_type": "code",
   "execution_count": null,
   "metadata": {},
   "outputs": [],
   "source": []
  },
  {
   "cell_type": "code",
   "execution_count": null,
   "metadata": {},
   "outputs": [],
   "source": []
  },
  {
   "cell_type": "markdown",
   "metadata": {},
   "source": [
    "### Constants\n",
    "Constants are like variables except their value does not change once set.\n",
    "\n",
    "The principle here is that we should seek to avoid \"magic constants\" in code; these are sometimes called **bare numbers** because they are not dressed with an explanation. Code is much harder to understand if unexplained numbers appear in it. The reader has to guess what those numbers are supposed to represent. \n",
    "\n",
    "#### Readability and changeability\n",
    "It is also makes it much harder to change code later. Imagine if you had to change the number of colors a program could use from 8 to 16 -- you can't search-and-replace `8` in your code with `16` without affecting other parts of the code that happen to use `8` for something else!\n",
    "\n",
    "* Avoid any bare numbers in your code, except when for very simple cases. \n",
    "* Use constants. In Python, these are variables set to a value and not changed afterwards.\n",
    "* If you're counting the number of something (e.g. number of possible colours), use the form `n_[name]`, like `n_colors`, or `n_processing_steps`.\n",
    "* The key point: A constant's name should explain what it means.\n",
    "* It is quite normal to have several constants with the same value; **the constant name explains its purpose, not the value it contains**.\n",
    "\n",
    "    \n",
    "        # this is fine; n_separators and n_lines are used for different things\n",
    "        # even though they have the same value\n",
    "        n_separators = 32\n",
    "        n_line = 32\n",
    "        \n",
    "Do **not** use constants like this\n",
    "\n",
    "    # thirtytwo is used in two different ways\n",
    "    # and it refers to the number not the purpose!\n",
    "    thirtytwo = 32\n",
    "    print(\" \"*thirtytwo)\n",
    "    \n",
    "    for i in range(thirtytwo):\n",
    "        name = input(\"Name %d\" %i)\n",
    "\n",
    "        \n",
    "* Think about how someone reading your code would like a constant to be named to minimise confusion. Be precise and concise.\n",
    "* Don't go crazy. If you have to access the first and second element of a pair, write `pair[0]` and `pair[1]`, not `pair[FIRST]`, `pair[SECOND]`."
   ]
  },
  {
   "cell_type": "markdown",
   "metadata": {},
   "source": [
    "## Programs \n",
    "A Python program is a sequence of statements. Each statement performs an action.\n",
    "Expressions can form parts of statements; for example, the right-hand side of an assignment of a variable **must** be an expression. \n"
   ]
  },
  {
   "cell_type": "code",
   "execution_count": null,
   "metadata": {},
   "outputs": [],
   "source": [
    "# valid, 50 is an expression\n",
    "age = 50 \n",
    "\n",
    "# valid, age + 1 is an expression\n",
    "age = age + 1\n",
    "\n",
    "print(age)\n",
    "\n",
    "# valid, \"hungry\" is a valid expression\n",
    "mood_state = \"hungry\""
   ]
  },
  {
   "cell_type": "markdown",
   "metadata": {},
   "source": [
    "## Python\n",
    "Python is an interpreted language. It does not compile code directly to machine code in one go. Instead it interprets one step at a time.\n",
    "\n",
    "This gives great flexibility in terms of what Python can do, but it means that many checks that programs will behave sensibly cannot be done until code actually runs.\n",
    "\n",
    "As we will see, Python is dynamically typed. This means it does not check that variables or values have appropriate types for operations until those operations actually happen. Python will happily try to add a number to a string if you do this:"
   ]
  },
  {
   "cell_type": "code",
   "execution_count": 73,
   "metadata": {},
   "outputs": [
    {
     "name": "stdout",
     "output_type": "stream",
     "text": [
      "This will happen\n"
     ]
    },
    {
     "ename": "TypeError",
     "evalue": "unsupported operand type(s) for +: 'int' and 'str'",
     "output_type": "error",
     "traceback": [
      "\u001b[1;31m---------------------------------------------------------------------------\u001b[0m",
      "\u001b[1;31mTypeError\u001b[0m                                 Traceback (most recent call last)",
      "\u001b[1;32m<ipython-input-73-32d11fc5c5f8>\u001b[0m in \u001b[0;36m<module>\u001b[1;34m()\u001b[0m\n\u001b[0;32m      1\u001b[0m \u001b[0mprint\u001b[0m\u001b[1;33m(\u001b[0m\u001b[1;34m\"This will happen\"\u001b[0m\u001b[1;33m)\u001b[0m\u001b[1;33m\u001b[0m\u001b[0m\n\u001b[1;32m----> 2\u001b[1;33m \u001b[1;36m2\u001b[0m \u001b[1;33m+\u001b[0m \u001b[1;34m\"two\"\u001b[0m\u001b[1;33m\u001b[0m\u001b[0m\n\u001b[0m\u001b[0;32m      3\u001b[0m \u001b[0mprint\u001b[0m\u001b[1;33m(\u001b[0m\u001b[1;34m\"This will not happen\"\u001b[0m\u001b[1;33m)\u001b[0m\u001b[1;33m\u001b[0m\u001b[0m\n",
      "\u001b[1;31mTypeError\u001b[0m: unsupported operand type(s) for +: 'int' and 'str'"
     ]
    }
   ],
   "source": [
    "print(\"This will happen\")\n",
    "2 + \"two\"\n",
    "print(\"This will not happen\")"
   ]
  },
  {
   "cell_type": "markdown",
   "metadata": {},
   "source": [
    "Write a short piece of code that computes the total number of hungry people given the following definition. Store the value in the variable `hungry_people` and also print it out using `print`.\n",
    "\n",
    "Comment your solution."
   ]
  },
  {
   "cell_type": "code",
   "execution_count": null,
   "metadata": {},
   "outputs": [],
   "source": [
    "# Number of standard slices we get per inch diameter of pizza \n",
    "pizza_slices_per_inch = 0.75\n",
    "\n",
    "# Number of standard slices each person needs to eat to be not hungry\n",
    "pizza_slices_per_person = 3 # everyone is very greedy\n",
    "\n",
    "# number of people waiting for pizza\n",
    "people = 14\n",
    "\n",
    "# two pizzas arrive\n",
    "\n",
    "# size of first pizza that arrived\n",
    "pizza_1 = 16\n",
    "\n",
    "# size of second pizza that arrived\n",
    "pizza_2 = 24"
   ]
  },
  {
   "cell_type": "code",
   "execution_count": null,
   "metadata": {},
   "outputs": [],
   "source": []
  }
 ],
 "metadata": {
  "kernelspec": {
   "display_name": "Python 3",
   "language": "python",
   "name": "python3"
  },
  "language_info": {
   "codemirror_mode": {
    "name": "ipython",
    "version": 3
   },
   "file_extension": ".py",
   "mimetype": "text/x-python",
   "name": "python",
   "nbconvert_exporter": "python",
   "pygments_lexer": "ipython3",
   "version": "3.6.5"
  }
 },
 "nbformat": 4,
 "nbformat_minor": 2
}

