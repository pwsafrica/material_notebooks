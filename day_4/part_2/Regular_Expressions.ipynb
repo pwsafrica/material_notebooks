{
 "cells": [
  {
   "cell_type": "markdown",
   "metadata": {},
   "source": [
    "# Regular Expressions."
   ]
  },
  {
   "cell_type": "markdown",
   "metadata": {},
   "source": [
    "# Matching\n",
    "Being able to *find* strings within other strings is an essential part of string manipulations. From web search, Word's find-and-replace and command line tools like `grep`, being able to test whether text matches a search pattern is a vital task.\n",
    "\n",
    "## Matching strings\n",
    "We know how to find if a (sub)string is inside another string using `in`"
   ]
  },
  {
   "cell_type": "code",
   "execution_count": 16,
   "metadata": {},
   "outputs": [
    {
     "name": "stdout",
     "output_type": "stream",
     "text": [
      "True\n",
      "True\n",
      "True\n",
      "False\n"
     ]
    }
   ],
   "source": [
    "print(\"ican\" in \"pelicans\")\n",
    "print(\"\" in \"pelicans\") # the empty string is in everything\n",
    "print(\"pelicans\" in \"pelicans\") # note: inclusive of the whole string!\n",
    "print(\"icant\" in \"pelicans\")"
   ]
  },
  {
   "cell_type": "markdown",
   "metadata": {},
   "source": [
    "If we wish to find a word in a string we can use."
   ]
  },
  {
   "cell_type": "code",
   "execution_count": null,
   "metadata": {},
   "outputs": [],
   "source": [
    "sentence = \"The cat sat on the mat\"\n",
    "\n",
    "if \"cat\" in sentence:\n",
    "    print(\"Yes\")\n",
    "else:\n",
    "    print(\"No\")"
   ]
  },
  {
   "cell_type": "markdown",
   "metadata": {},
   "source": [
    "But this may not be what we wanted."
   ]
  },
  {
   "cell_type": "code",
   "execution_count": null,
   "metadata": {},
   "outputs": [],
   "source": [
    "sentence =\"The fabrication of steel is expensive\"\n",
    "\n",
    "if \"cat\" in sentence:\n",
    "    print(\"Yes\")\n",
    "else:\n",
    "    print(\"No\")"
   ]
  },
  {
   "cell_type": "markdown",
   "metadata": {},
   "source": [
    "We could change it so that it does not do this."
   ]
  },
  {
   "cell_type": "code",
   "execution_count": null,
   "metadata": {},
   "outputs": [],
   "source": [
    "sentence = \"The cat sat on the mat\"\n",
    "sentence2 =\"The fabrication of steel is expensive\"\n",
    "\n",
    "if \" cat \" in sentence:\n",
    "    print(\"Yes\")\n",
    "else:\n",
    "    print(\"No\")\n",
    "    \n",
    "if \" cat \" in sentence2:\n",
    "    print(\"Yes2\")\n",
    "else:\n",
    "    print(\"No2\")"
   ]
  },
  {
   "cell_type": "markdown",
   "metadata": {},
   "source": [
    "However we may wish to find \"cat\" and \"cats\" and \"cat.\". We can use regular expressions to do this."
   ]
  },
  {
   "cell_type": "markdown",
   "metadata": {},
   "source": [
    "-----------\n",
    "\n",
    "## Pattern matching\n",
    "But what if we wanted to match things less precisely? If we didn't want just exact matches, but wanted to find strings that followed a certain pattern or template?\n",
    "\n",
    "**Regular expressions** are an extremely powerful tool for doing this. They are sophisticated tools, and we will only scratch the surface. Regular expressions are an entire sub-language, which is widely available as part of most common programming languages or their standard libraries. They are also part of many command line utilities (`grep`, `sed`, etc.) and part of any \"serious\" text editor (`vim`, `emacs`, `notepad++`, `sublime`, `atom`, etc.).\n",
    "\n",
    "Regular expressions have a syntax that can be obscure, but is very compact. They are powerful, so it is also easy to abuse them. But, for many cases, they are the tool of choice to solve text processing problems. \n",
    "\n",
    "### Regular expression patterns\n",
    "A regular expression pattern is just a string, which uses **special characters** to represent ways in which the pattern can vary. Regular expression matching functions take a regular expression pattern and can match that against a string.\n",
    "\n",
    "In the most basic case, a regular expression matching can just look for a literal string, just as `.find()` does:"
   ]
  },
  {
   "cell_type": "code",
   "execution_count": 13,
   "metadata": {},
   "outputs": [
    {
     "name": "stdout",
     "output_type": "stream",
     "text": [
      "['ican']\n"
     ]
    }
   ],
   "source": [
    "import re # import the Regular Expression module\n",
    "print(re.findall(\"ican\", \"pelican\"))"
   ]
  },
  {
   "cell_type": "markdown",
   "metadata": {},
   "source": [
    "Say you have a partial solution to a crossword: `c_tl___`. How could you find all the words that match that partial solution?\n",
    "\n",
    "## A placeholder: .\n",
    "\n",
    "We can write a `.` (period, dot) in a regular expression to mean \"any character can go here\". Let's use the list of words from `words.txt` and solve this problem.\n",
    "\n",
    "There is a function `re.match(pattern, string)` that determines if the given pattern matches a given string, *with the pattern required to be present at the very start of the string.*"
   ]
  },
  {
   "cell_type": "markdown",
   "metadata": {},
   "source": [
    "Let's wtite a function that takes apattern and finds all possible matches in the \"words.txt\" file."
   ]
  },
  {
   "cell_type": "code",
   "execution_count": 15,
   "metadata": {},
   "outputs": [
    {
     "name": "stdout",
     "output_type": "stream",
     "text": [
      "cutlass\n",
      "cutlasses\n",
      "cutlers\n",
      "cutlery\n",
      "cutlets\n"
     ]
    }
   ],
   "source": [
    "def match_words(pattern):\n",
    "    with open(\"words.txt\") as f:\n",
    "        for line in f:\n",
    "            word = line.strip() \n",
    "            if re.search(pattern, word):\n",
    "                print(word)"
   ]
  },
  {
   "cell_type": "markdown",
   "metadata": {},
   "source": [
    "If we pass in the word \"cat\" we get all words containing the substring \"cat\""
   ]
  },
  {
   "cell_type": "code",
   "execution_count": null,
   "metadata": {},
   "outputs": [],
   "source": [
    "match_words(\"cat\")"
   ]
  },
  {
   "cell_type": "markdown",
   "metadata": {},
   "source": [
    "Find all the words that contain the substring 'ingly'"
   ]
  },
  {
   "cell_type": "code",
   "execution_count": null,
   "metadata": {},
   "outputs": [],
   "source": []
  },
  {
   "cell_type": "markdown",
   "metadata": {},
   "source": [
    "If we replace the a with a . it will now match any substing that has a c followed by any letter and then a t."
   ]
  },
  {
   "cell_type": "code",
   "execution_count": null,
   "metadata": {},
   "outputs": [],
   "source": [
    "match_words(\"c.t\")"
   ]
  },
  {
   "cell_type": "markdown",
   "metadata": {},
   "source": [
    "Find all the words that contain a letter then a w followed by 2 letters and a k then 2 more letters and then an \"es\"."
   ]
  },
  {
   "cell_type": "code",
   "execution_count": null,
   "metadata": {},
   "outputs": [],
   "source": []
  },
  {
   "cell_type": "markdown",
   "metadata": {},
   "source": [
    "## Repeat characters\n",
    "We can also tell the matcher to allow characters to **repeat**. The two most common ways of doing that are postfixing an expression element (e.g. a character or a character class) with :\n",
    "* a `*` (repeat zero or more times)\n",
    "* a `+` (repeat at least once or more times)\n",
    "* a `?` (appears zero or one times)\n",
    "* a `{n}` (appears exactly n times)"
   ]
  },
  {
   "cell_type": "code",
   "execution_count": null,
   "metadata": {},
   "outputs": [],
   "source": [
    "# all words that begin fir and end with t\n",
    "match_words(\"fir.*t$\")"
   ]
  },
  {
   "cell_type": "code",
   "execution_count": null,
   "metadata": {},
   "outputs": [],
   "source": [
    "# all words that have f<something>t<something>ha<something>\n",
    "match_words(\"f.*t.*ha.*\")"
   ]
  },
  {
   "cell_type": "code",
   "execution_count": null,
   "metadata": {},
   "outputs": [],
   "source": [
    "# match nec<zero or more vowels><one or more s><something>y\n",
    "match_words(\"nec[aeiou]*s+.*y\")"
   ]
  },
  {
   "cell_type": "markdown",
   "metadata": {},
   "source": [
    "Now instead of a . (one single leter) .* allows between zero and many letters to be between the c and the t. (so abduct is found)"
   ]
  },
  {
   "cell_type": "code",
   "execution_count": null,
   "metadata": {},
   "outputs": [],
   "source": [
    "match_words(\"c.*t\")"
   ]
  },
  {
   "cell_type": "markdown",
   "metadata": {},
   "source": [
    "Find similar string to the last exercise except this time we can have any number of letters between the w and k (0...many)"
   ]
  },
  {
   "cell_type": "code",
   "execution_count": null,
   "metadata": {},
   "outputs": [],
   "source": []
  },
  {
   "cell_type": "markdown",
   "metadata": {},
   "source": [
    ".+ insists that at least one but also many letters can be between c and t (so no longer abduct)"
   ]
  },
  {
   "cell_type": "code",
   "execution_count": null,
   "metadata": {},
   "outputs": [],
   "source": [
    "match_words(\"c.+t\")"
   ]
  },
  {
   "cell_type": "markdown",
   "metadata": {},
   "source": [
    "Now find all words with the original pattern but this time can have as many letters between the k and the \"es\" but must have at least one"
   ]
  },
  {
   "cell_type": "code",
   "execution_count": null,
   "metadata": {},
   "outputs": [],
   "source": []
  },
  {
   "cell_type": "markdown",
   "metadata": {},
   "source": [
    ".? allows for zero or one letters to be between c and t but no more."
   ]
  },
  {
   "cell_type": "code",
   "execution_count": null,
   "metadata": {},
   "outputs": [],
   "source": [
    "match_words(\"c.?t\")"
   ]
  },
  {
   "cell_type": "markdown",
   "metadata": {},
   "source": [
    "Now find all words that have at most one letter between both the w,k and k,es."
   ]
  },
  {
   "cell_type": "code",
   "execution_count": null,
   "metadata": {},
   "outputs": [],
   "source": []
  },
  {
   "cell_type": "markdown",
   "metadata": {},
   "source": [
    "## Anchors: $ and ^\n",
    "This works, but `match()` will match any string that matches the pattern at the start, regardless of what comes next. This include `cutlasses`, even though it has extra characters at the end. \n",
    "\n",
    "We can use the special characters `^` (caret) and `$` (dollar) to mean `start of string` and `end of string`. For example, $ forces the pattern to only match if the string ends where the `$` is. These characters are called `anchors` because they anchor the pattern to the start or end of a string. (`^` isn't useful with `re.match()` but it is useful with other regular expression functions)."
   ]
  },
  {
   "cell_type": "markdown",
   "metadata": {},
   "source": [
    "What if we wish to have the word starting with a c we can use the ^c"
   ]
  },
  {
   "cell_type": "code",
   "execution_count": null,
   "metadata": {},
   "outputs": [],
   "source": [
    "match_words(\"^c.t\")"
   ]
  },
  {
   "cell_type": "markdown",
   "metadata": {},
   "source": [
    "Find all words that start with a letter followed by a z"
   ]
  },
  {
   "cell_type": "code",
   "execution_count": null,
   "metadata": {},
   "outputs": [],
   "source": []
  },
  {
   "cell_type": "markdown",
   "metadata": {},
   "source": [
    "And to get it to end with a t we use t$"
   ]
  },
  {
   "cell_type": "code",
   "execution_count": null,
   "metadata": {},
   "outputs": [],
   "source": [
    "match_words(\"c.t$\")"
   ]
  },
  {
   "cell_type": "markdown",
   "metadata": {},
   "source": [
    "Find all words that end in an yz followed by 2 letters"
   ]
  },
  {
   "cell_type": "code",
   "execution_count": null,
   "metadata": {},
   "outputs": [],
   "source": []
  },
  {
   "cell_type": "markdown",
   "metadata": {},
   "source": [
    "Putting it together we can find all 3 letter words staring with a c and ending with a t."
   ]
  },
  {
   "cell_type": "code",
   "execution_count": null,
   "metadata": {},
   "outputs": [],
   "source": [
    "match_words(\"^c.t$\")"
   ]
  },
  {
   "cell_type": "markdown",
   "metadata": {},
   "source": [
    "Find all words that start eith a w end with a k and have 3 letters between them"
   ]
  },
  {
   "cell_type": "code",
   "execution_count": null,
   "metadata": {},
   "outputs": [],
   "source": []
  },
  {
   "cell_type": "markdown",
   "metadata": {},
   "source": [
    "### Character classes\n",
    "We can restrict a placeholder to a set of possible characters, instead of just any character. \n",
    "\n",
    "To do this, we put all the possible characters we want to match inside square brackers `[]`. We can also specify consecutive range of characters, like `a-z` or `0-9`\n",
    "\n",
    "### *The whole square bracketed set of characters applies to one character.*"
   ]
  },
  {
   "cell_type": "code",
   "execution_count": null,
   "metadata": {},
   "outputs": [],
   "source": [
    "match_words(\"p[nt][aeiou]\")"
   ]
  },
  {
   "cell_type": "code",
   "execution_count": null,
   "metadata": {},
   "outputs": [],
   "source": [
    "match_words(\"h[yui]z\")"
   ]
  },
  {
   "cell_type": "code",
   "execution_count": null,
   "metadata": {},
   "outputs": [],
   "source": [
    "# using a range of characters\n",
    "print(re.match('[a-z].$', \"as\")) # match\n",
    "print(re.match('[a-z].$', \"0s\")) # no match\n",
    "# note that it is case sensitive\n",
    "print(re.match('[A-Z].$', \"AS\")) # no match"
   ]
  },
  {
   "cell_type": "markdown",
   "metadata": {},
   "source": [
    "Now we can find only the words that have a a or an o in between."
   ]
  },
  {
   "cell_type": "code",
   "execution_count": null,
   "metadata": {},
   "outputs": [],
   "source": [
    "match_words(\"^c[ao]t$\")"
   ]
  },
  {
   "cell_type": "markdown",
   "metadata": {},
   "source": [
    "Find words that have a y,u or an i between a h and an z"
   ]
  },
  {
   "cell_type": "code",
   "execution_count": null,
   "metadata": {},
   "outputs": [],
   "source": [
    "match_words(\"h[yui]z\")"
   ]
  },
  {
   "cell_type": "markdown",
   "metadata": {},
   "source": [
    "And we can all these vowels to be repeated as many as times as we can find."
   ]
  },
  {
   "cell_type": "code",
   "execution_count": null,
   "metadata": {},
   "outputs": [],
   "source": [
    "match_words(\"^c[ao]*t$\")"
   ]
  },
  {
   "cell_type": "markdown",
   "metadata": {},
   "source": [
    "We can give a choice of values for each letter placement"
   ]
  },
  {
   "cell_type": "code",
   "execution_count": null,
   "metadata": {},
   "outputs": [],
   "source": [
    "match_words(\"c[rhl][aeiou][nh]t\")"
   ]
  },
  {
   "cell_type": "markdown",
   "metadata": {},
   "source": [
    "## Escaping\n",
    "What if we wanted to actually match a `$` or a literal `.`? We can always **escape** a special character to make it behave as if it were not special. Backslash \\ is the escape character. It makes the following character work as if it were not special.\n"
   ]
  },
  {
   "cell_type": "code",
   "execution_count": 23,
   "metadata": {},
   "outputs": [
    {
     "name": "stdout",
     "output_type": "stream",
     "text": [
      "None\n",
      "<_sre.SRE_Match object; span=(0, 4), match='200$'>\n"
     ]
    }
   ],
   "source": [
    "# does not match -- because the $ is taken to mean the anchor\n",
    "print(re.match('200$', '200$'))\n",
    "\n",
    "# now we escape the $ and it behaves as the literal character $\n",
    "# it matches correctly\n",
    "print(re.match('200\\$', '200$'))"
   ]
  },
  {
   "cell_type": "markdown",
   "metadata": {},
   "source": [
    "**However, \\ still has its effect of making characters like \\n into newlines.** This can be a pain, and raw strings (with an `r` in front) are often used to avoid this."
   ]
  },
  {
   "cell_type": "code",
   "execution_count": 5,
   "metadata": {},
   "outputs": [],
   "source": [
    "# note the r: no chance the \\ does something unexpected\n",
    "print(re.match(r'200\\$', '200$'))"
   ]
  },
  {
   "cell_type": "markdown",
   "metadata": {},
   "source": [
    "### Inverted character classes\n",
    "We can also invert a character class to say match **any character except these ones**. To do this, we put a ^ (caret) as the very first character in the square brackets:"
   ]
  },
  {
   "cell_type": "code",
   "execution_count": null,
   "metadata": {},
   "outputs": [],
   "source": [
    "# a word beginning with f then three **non-vowels**\n",
    "match_words(\"f[^aeiou][^aeiou][^aeiou]\")"
   ]
  },
  {
   "cell_type": "code",
   "execution_count": null,
   "metadata": {},
   "outputs": [],
   "source": [
    "# same as the f followed by three non-vowels example\n",
    "# note the way the repeat character binds to the previous expression, \n",
    "# which might not be a single character in the pattern!\n",
    "match_words(\"f[^aeiou]{3}\")"
   ]
  },
  {
   "cell_type": "markdown",
   "metadata": {},
   "source": [
    "## Built-in character classes\n",
    "Some classes are so commonly used there are special codes for them:\n",
    "\n",
    "    \\d \tMatch any digit: character in the range 0 - 9 [0-9]\n",
    "    \\D \tMatch any nondigit: character NOT in the range 0 - 9 [^0-9]\n",
    "    \\s \tMatch any whitespace characters (space, tab etc.).\n",
    "    \\S \tMatch any character NOT whitespace (space, tab).\n",
    "    \\w \tMatch any alphanumeric character: in the range 0 - 9, A - Z, a - z and punctuation \n",
    "    \\W     Match any character not in \\w"
   ]
  },
  {
   "cell_type": "code",
   "execution_count": null,
   "metadata": {},
   "outputs": [],
   "source": [
    "# match a sequence of digits, possibly followed by one letter\n",
    "# Note that we can just jam in multiple ranges in the character class \n",
    "# inside the square brackets\n",
    "options = [\"13131\", \"3133103b\", \"31hello\", \"o88\", \"7B\"]\n",
    "\n",
    "for option in options:\n",
    "    print(option, re.match(\"[0-9]+[A-Za-z]?$\", option) is not None)"
   ]
  },
  {
   "cell_type": "markdown",
   "metadata": {},
   "source": [
    "### Groups\n",
    "We can group multiple elements in a regular expression together. To do this, we put the \"subexpression\" in brackets. So:\n",
    "\n",
    "    f(lip)+$\n",
    "    \n",
    "means anything with an `f`, followed by one or more `lip`, then the end of string. It will match:\n",
    "\n",
    "    flip\n",
    "    fliplip\n",
    "    flipliplip\n",
    "    \n",
    "but not:\n",
    "\n",
    "    flipli\n",
    "    fliplp\n",
    "    \n",
    "Any regular expression components can go in these brackets.    \n",
    "\n",
    "**Any repeat operator following will apply to the whole group -- everything in the group works as if it were just one character**"
   ]
  },
  {
   "cell_type": "code",
   "execution_count": 28,
   "metadata": {},
   "outputs": [
    {
     "name": "stdout",
     "output_type": "stream",
     "text": [
      "<_sre.SRE_Match object; span=(0, 4), match='flip'>\n",
      "<_sre.SRE_Match object; span=(0, 7), match='fliplip'>\n",
      "<_sre.SRE_Match object; span=(0, 10), match='flipliplip'>\n",
      "None\n",
      "None\n",
      "None\n"
     ]
    }
   ],
   "source": [
    "tests = [\"flip\", \"fliplip\", \"flipliplip\", \"flipli\", \"flipl\", \"fliplipliplop\"]\n",
    "\n",
    "# match a pattern against a list of tests\n",
    "def match_against(tests, pattern):\n",
    "    for st in tests:\n",
    "        print(st.ljust(20), re.match(pattern, st) is not None)\n",
    "        \n",
    "match_against(tests, \"f(lip)+$\")"
   ]
  },
  {
   "cell_type": "markdown",
   "metadata": {},
   "source": [
    "### Alternatives\n",
    "We can use this grouping functionality to make an intelligent kind of \"or\". Imagine we wanted to match any of `Mrs.` or `Ms.` or `Miss.`. How could we write that as a regular expression?\n",
    "\n",
    "| is an operator which means \"one of the options on either side of the |\". The pattern can be a *grouped expression*.\n",
    "\n",
    "So this pattern would work:\n",
    "\n",
    "    (Mrs\\.)|(Ms\\.)|(Miss\\.)\n",
    "    \n",
    "or this one:\n",
    "\n",
    "    M(rs)|(s)|(iss)\\.\n",
    "    \n"
   ]
  },
  {
   "cell_type": "code",
   "execution_count": 11,
   "metadata": {},
   "outputs": [
    {
     "name": "stdout",
     "output_type": "stream",
     "text": [
      "Mrs. Purple          True\n",
      "Miss. White          True\n",
      "Ms. Yellow           True\n",
      "Dr. Blue             False\n",
      "Mr. Red              False\n"
     ]
    }
   ],
   "source": [
    "names = [\"Mrs. Purple\", \"Miss. White\", \"Ms. Yellow\", \"Dr. Blue\", \"Mr. Red\"]\n",
    "\n",
    "match_against(names, \"(Mrs\\.)|(Miss\\.)|(Ms\\.)\")"
   ]
  },
  {
   "cell_type": "markdown",
   "metadata": {},
   "source": [
    "  \n",
    "Any regular expression element can be alternated with |:\n",
    "\n",
    "    [a-z]|[A-Z] same as [a-zA-Z]\n",
    "    b|g  matches b or g, same as [bg]\n",
    "    (b[aeiou]+k)|(d[aeiou]+t) matches both book and duet\n",
    "    \n",
    "But grouped subexpressions are the most useful thing to alternate -- usually character classes can capture most other patterns."
   ]
  },
  {
   "cell_type": "code",
   "execution_count": null,
   "metadata": {},
   "outputs": [],
   "source": [
    "match_words(\"((b[aeiou]+k)|(d[aeiou]+t))$\")"
   ]
  },
  {
   "cell_type": "markdown",
   "metadata": {},
   "source": [
    "### Captures and extraction\n",
    "As well as being able to do interesting alternation, every time a group is used, a regular expression matcher *captures* the contents of a group. This is how regular expressions can be used to extract specific text.\n",
    "\n",
    "Every capture is numbered, counting the number of ( from the left. So if I wanted to capture someone's title and their name following their title:\n",
    "\n",
    "    (Mr|Mrs|Dr|Ms|Miss|Sir|Lord|Dame)\\. (\\w*)\n",
    "\n",
    "Then the title would be in capture 0 and their name would be in capture 1.\n",
    "\n",
    "`re.match()` lets us get at those groups, by calling `.groups()` on the return value."
   ]
  },
  {
   "cell_type": "code",
   "execution_count": 15,
   "metadata": {},
   "outputs": [
    {
     "name": "stdout",
     "output_type": "stream",
     "text": [
      "Mrs. Purple          True\n",
      "Miss. White          True\n",
      "Dr. Blue             True\n",
      "Mr. Red              True\n",
      "Lord. Black          True\n"
     ]
    }
   ],
   "source": [
    "names = [\"Mrs. Purple\", \"Miss. White\", \"Dr. Blue\", \"Mr. Red\", \"Lord. Black\"]\n",
    "# simple matching\n",
    "match_against(names, \"(Mr|Mrs|Dr|Ms|Miss|Sir|Lord|Dame)\\. (\\w*)\")"
   ]
  },
  {
   "cell_type": "markdown",
   "metadata": {},
   "source": [
    "### Substitution\n",
    "We can also do regular expression find and replace. This lets us find text matching a pattern and replace it:\n",
    "\n",
    "`re.sub` performs this operation:"
   ]
  },
  {
   "cell_type": "markdown",
   "metadata": {},
   "source": [
    "def sub_list(tests, pattern, replacement):\n",
    "    for test in tests:\n",
    "        print(test.ljust(20), \"=>\", end=' ')\n",
    "        subst = re.sub(pattern,  replacement, test)\n",
    "        print(subst)\n",
    "        \n",
    "sub_list(names, \"(Mr|Mrs|Dr|Ms|Miss|Sir|Lord|Dame)\\.\", \"<title>\")"
   ]
  },
  {
   "cell_type": "markdown",
   "metadata": {},
   "source": [
    "## Back references\n",
    "We can refer to the value of any previous captured group using the notation `\\<n>` where `<n>` is an integer specifying the index of the group (+1: \\0 means the whole string, so \\1 is the first capture). This works in substitutions:\n"
   ]
  },
  {
   "cell_type": "code",
   "execution_count": 12,
   "metadata": {},
   "outputs": [
    {
     "name": "stdout",
     "output_type": "stream",
     "text": [
      "Mrs. Purple          => {'title': 'Mrs', 'name': 'Purple'}\n",
      "Miss. White          => {'title': 'Miss', 'name': 'White'}\n",
      "Ms. Yellow           => {'title': 'Ms', 'name': 'Yellow'}\n",
      "Dr. Blue             => {'title': 'Dr', 'name': 'Blue'}\n",
      "Mr. Red              => {'title': 'Mr', 'name': 'Red'}\n"
     ]
    }
   ],
   "source": [
    "def sub_list(tests, pattern, replacement):\n",
    "    for test in tests:\n",
    "        print(test.ljust(20), \"=>\", end=' ')\n",
    "        subst = re.sub(pattern,  replacement, test)\n",
    "        print(subst)\n",
    "# the \\1 refers to the title and the \\2 refers to the name\n",
    "sub_list(names, \"(Mr|Mrs|Dr|Ms|Miss|Sir|Lord|Dame)\\. (\\w*)\", \n",
    "         r\"{'title': '\\1', 'name': '\\2'}\")"
   ]
  },
  {
   "cell_type": "markdown",
   "metadata": {},
   "source": [
    "Back references actually work in the matching part as well, and allow us to force a previously match value to be used again."
   ]
  },
  {
   "cell_type": "code",
   "execution_count": null,
   "metadata": {},
   "outputs": [],
   "source": [
    "# match everything that has a v, followed by two of the **same** vowel\n",
    "match_words(r\"v([aeiou])\\1\")"
   ]
  },
  {
   "cell_type": "markdown",
   "metadata": {},
   "source": [
    "### Matching versus finding\n",
    "* `re.match()` finds a pattern at the start of a string.\n",
    "* `re.search()` find the first pattern in a string (like match, but the pattern does not have to match at the start of the string).\n",
    "* `re.findall()` can find **multiple** matches in a string, and returns them in a list"
   ]
  },
  {
   "cell_type": "code",
   "execution_count": 40,
   "metadata": {},
   "outputs": [
    {
     "name": "stdout",
     "output_type": "stream",
     "text": [
      "('Mrs', 'Purple')\n",
      "('Mrs', 'Purple')\n"
     ]
    }
   ],
   "source": [
    "# one massive string\n",
    "names = \"\"\"Mrs. Purple, Miss. White, Dr. Blue, Mr. Red, Lord. Black\"\"\"\n",
    "# just matched the first one\n",
    "print(re.match(\"(Mr|Mrs|Dr|Ms|Miss|Sir|Lord|Dame)\\. (\\w*)\", names).groups(4))\n",
    "# search does the same thing here\n",
    "print(re.search(\"(Mr|Mrs|Dr|Ms|Miss|Sir|Lord|Dame)\\. (\\w*)\", names).groups(3))"
   ]
  },
  {
   "cell_type": "code",
   "execution_count": 30,
   "metadata": {},
   "outputs": [
    {
     "name": "stdout",
     "output_type": "stream",
     "text": [
      "('Mrs', 'Purple')\n",
      "('Miss', 'White')\n",
      "('Dr', 'Blue')\n",
      "('Mr', 'Red')\n",
      "('Lord', 'Black')\n"
     ]
    }
   ],
   "source": [
    "### using findall\n",
    "all_matches = re.findall(\"(Mr|Mrs|Dr|Ms|Miss|Sir|Lord|Dame)\\. (\\w*)\", names)\n",
    "# this will just be a list of the groups found\n",
    "for match in all_matches:\n",
    "    print(match)"
   ]
  }
 ],
 "metadata": {
  "kernelspec": {
   "display_name": "Python 3",
   "language": "python",
   "name": "python3"
  },
  "language_info": {
   "codemirror_mode": {
    "name": "ipython",
    "version": 3
   },
   "file_extension": ".py",
   "mimetype": "text/x-python",
   "name": "python",
   "nbconvert_exporter": "python",
   "pygments_lexer": "ipython3",
   "version": "3.6.5"
  }
 },
 "nbformat": 4,
 "nbformat_minor": 2
}

