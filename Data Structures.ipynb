{
 "cells": [
  {
   "cell_type": "markdown",
   "metadata": {},
   "source": [
    "# Data Structures"
   ]
  },
  {
   "cell_type": "markdown",
   "metadata": {},
   "source": [
    "Organising data into **data structures** is a key part of programming. Most languages support a number of different types of data structures which **aggregate** (collect together) simple data like numbers, strings or other data structures. They are sometimes called **compound** data structures because they are made up of elements.\n",
    "\n",
    "## Lists\n",
    "Lists are probably the most important compound data type in Python and are very widely used. They are a **sequence type** and represent an ordered sequence of values. Sequence types are a specialised kind of **collection type** (they impose **order**); a **collection type** just means a data type that holds multiple elements.\n",
    "\n",
    "I'll use **element** to mean a value that can be in a list, and **sequence** to refer to any ordered collection of **elements**. For example the list \n",
    "\n",
    "    [1,2,3]\n",
    "    \n",
    "is a **sequence** of **elements** 1, 2 and 3.\n"
   ]
  },
  {
   "cell_type": "markdown",
   "metadata": {},
   "source": [
    "### Syntax\n",
    "Lists have a **literal syntax** (this means you can directly create a list in a single step in Python). \n",
    "\n",
    "Just put values between square brackets `[ ]` and separate with commas:"
   ]
  },
  {
   "cell_type": "code",
   "execution_count": null,
   "metadata": {},
   "outputs": [],
   "source": [
    "singleElement_list = [1]\n",
    "intList = [5, 6, 7, 8]\n",
    "stringList = [\"first\", \"last\"]\n",
    "\n",
    "# note that we can put lists inside lists using this syntax\n",
    "nestedList = [1, [2, [3]], 4]\n",
    "\n",
    "# we might write the card hand a\n",
    "# ace-of-hearts, ace-of-clubs, king-of-clubs, king-of-spades\n",
    "# like this, as a list of four pairs\n",
    "twoPair = [[\"a\", \"hearts\"], \n",
    "             [\"a\", \"clubs\"], \n",
    "             [\"k\", \"clubs\"],\n",
    "             [\"k\", \"spades\"]]\n",
    "\n",
    "emptyList = []"
   ]
  },
  {
   "cell_type": "code",
   "execution_count": null,
   "metadata": {},
   "outputs": [],
   "source": [
    "intList = [1, 2, 3]\n",
    "stringList = [\"one\", \"two\", \"three\"]\n",
    "\n",
    "# note that it's fine for a list to hold more lists\n",
    "# or any other collection type\n",
    "listOfLists = [intList, stringList]\n",
    "\n",
    "print(intList)\n",
    "print(stringList)\n",
    "print(listOfLists)"
   ]
  },
  {
   "cell_type": "code",
   "execution_count": null,
   "metadata": {},
   "outputs": [],
   "source": [
    "mixedList = [1, 2, \"three\", \"four\", 5, intList]\n",
    "print(mixedList)"
   ]
  },
  {
   "cell_type": "markdown",
   "metadata": {},
   "source": [
    "### Length\n",
    "The length of a list -- the number of values it contains --  can be returned using `len()`. `"
   ]
  },
  {
   "cell_type": "code",
   "execution_count": null,
   "metadata": {},
   "outputs": [],
   "source": [
    "a = []\n",
    "print(a, len(a))\n",
    "b = [1]\n",
    "print(b, len(b))\n",
    "c = [1,2,3]\n",
    "print(c, len(c))"
   ]
  },
  {
   "cell_type": "code",
   "execution_count": null,
   "metadata": {},
   "outputs": [],
   "source": [
    "## tricky: this list has one element -- which is itself a list\n",
    "d = [[1,2,3]]\n",
    "print(d, len(d))"
   ]
  },
  {
   "cell_type": "markdown",
   "metadata": {},
   "source": [
    "### Indexing\n",
    "To access a single elements of a list, we use square brackets after the list. This is called **indexing**."
   ]
  },
  {
   "cell_type": "markdown",
   "metadata": {},
   "source": [
    "#### 0-based indexing\n",
    "Python indices lists beginning at 0 (not 1!), so the first element of a list is indexed by [0]  and the last element is (len(list)-1)."
   ]
  },
  {
   "cell_type": "code",
   "execution_count": null,
   "metadata": {},
   "outputs": [],
   "source": [
    "numbers = [2,5,4,6,8,1,3,9,7,0]"
   ]
  },
  {
   "cell_type": "code",
   "execution_count": null,
   "metadata": {},
   "outputs": [],
   "source": [
    "print(numbers[0])"
   ]
  },
  {
   "cell_type": "code",
   "execution_count": null,
   "metadata": {},
   "outputs": [],
   "source": [
    "print(numbers[3])"
   ]
  },
  {
   "cell_type": "code",
   "execution_count": null,
   "metadata": {},
   "outputs": [],
   "source": [
    "#print out the second element of the list.\n"
   ]
  },
  {
   "cell_type": "code",
   "execution_count": null,
   "metadata": {},
   "outputs": [],
   "source": [
    "# print out the seventh element of the list.\n"
   ]
  },
  {
   "cell_type": "code",
   "execution_count": null,
   "metadata": {},
   "outputs": [],
   "source": [
    "# print out the last element of the list.\n"
   ]
  },
  {
   "cell_type": "code",
   "execution_count": null,
   "metadata": {},
   "outputs": [],
   "source": [
    "print(len(numbers))"
   ]
  },
  {
   "cell_type": "code",
   "execution_count": null,
   "metadata": {},
   "outputs": [],
   "source": [
    "# this is an error. Why?\n",
    "\n",
    "print(numbers[10])"
   ]
  },
  {
   "cell_type": "markdown",
   "metadata": {},
   "source": [
    "#### Negative-indices\n",
    "If you use a negative index, Python treats it as counting backwards from the end of the list. For example `elements[-1]` means the last element in the list; `elements[-2]` means the second-to-last, and so on.\n"
   ]
  },
  {
   "cell_type": "code",
   "execution_count": null,
   "metadata": {},
   "outputs": [],
   "source": [
    "print(numbers[-1])"
   ]
  },
  {
   "cell_type": "code",
   "execution_count": null,
   "metadata": {},
   "outputs": [],
   "source": [
    "print(numbers[-5])"
   ]
  },
  {
   "cell_type": "code",
   "execution_count": null,
   "metadata": {},
   "outputs": [],
   "source": [
    "# print out the third last element of the list\n"
   ]
  },
  {
   "cell_type": "code",
   "execution_count": null,
   "metadata": {},
   "outputs": [],
   "source": [
    "# print the first element of the list using negative indicies\n"
   ]
  },
  {
   "cell_type": "markdown",
   "metadata": {},
   "source": [
    "## Chained indices\n",
    "If we have a list-of-lists, we can just stick more index operators on the end. This just means index the first list (this produces another list) and then index the result of the first indexing operation.\n",
    "    \n",
    "    "
   ]
  },
  {
   "cell_type": "code",
   "execution_count": 11,
   "metadata": {},
   "outputs": [
    {
     "name": "stdout",
     "output_type": "stream",
     "text": [
      "l =  [[1, 2, 3], [4, 5, 6], [7, 8, 9], [10, 11, 12]]\n",
      "l[0] =  [1, 2, 3]\n",
      "l[0][1] =  2\n",
      "2\n"
     ]
    }
   ],
   "source": [
    "l = [[1,2,3], \n",
    "     [4,5,6], \n",
    "     [7,8,9],\n",
    "     [10,11,12]]\n",
    "\n",
    "print(\"l = \",l)\n",
    "print(\"l[0] = \",l[0])\n",
    "print(\"l[0][1] = \",l[0][1] )\n",
    "\n",
    "# This would be the same as doing\n",
    "# l[0][1] is just the same as\n",
    "row = l[0]\n",
    "elt = row[1]\n",
    "print(elt)"
   ]
  },
  {
   "cell_type": "code",
   "execution_count": 7,
   "metadata": {},
   "outputs": [
    {
     "name": "stdout",
     "output_type": "stream",
     "text": [
      "1\n",
      "2\n",
      "4\n"
     ]
    }
   ],
   "source": [
    "print(l[0][0])\n",
    "print(l[0][1]) \n",
    "print(l[1][0])"
   ]
  },
  {
   "cell_type": "code",
   "execution_count": 12,
   "metadata": {},
   "outputs": [
    {
     "name": "stdout",
     "output_type": "stream",
     "text": [
      "4\n"
     ]
    }
   ],
   "source": [
    "# l contains only 4 elements, each element is itself a list.\n",
    "print(len(l))"
   ]
  },
  {
   "cell_type": "code",
   "execution_count": null,
   "metadata": {},
   "outputs": [],
   "source": [
    "#print out the middle row\n"
   ]
  },
  {
   "cell_type": "code",
   "execution_count": null,
   "metadata": {},
   "outputs": [],
   "source": [
    "#print out the last element of the last row\n"
   ]
  },
  {
   "cell_type": "markdown",
   "metadata": {},
   "source": [
    "### Slicing\n",
    "\n",
    "As well as **indexing** which extracts a specific element, Python lets you **slice** sequence types like lists. This makes it very easy to pick out subsections of a list. Slicing \"chops out\" a subsequence from a sequence. \n",
    "\n",
    "Slicing uses the syntax:\n",
    "\n",
    "    my_list[start:end]\n",
    "\n",
    "and will return all elements starting at `start` and ending at **but not including** `end`."
   ]
  },
  {
   "cell_type": "code",
   "execution_count": null,
   "metadata": {},
   "outputs": [],
   "source": [
    "print(numbers[2:4])"
   ]
  },
  {
   "cell_type": "code",
   "execution_count": null,
   "metadata": {},
   "outputs": [],
   "source": [
    "print(numbers[0:6])"
   ]
  },
  {
   "cell_type": "code",
   "execution_count": null,
   "metadata": {},
   "outputs": [],
   "source": [
    "print(numbers[:6])"
   ]
  },
  {
   "cell_type": "code",
   "execution_count": null,
   "metadata": {},
   "outputs": [],
   "source": [
    "print(numbers[-4:-1])"
   ]
  },
  {
   "cell_type": "code",
   "execution_count": null,
   "metadata": {},
   "outputs": [],
   "source": [
    "print(number#s[-4:])"
   ]
  },
  {
   "cell_type": "code",
   "execution_count": null,
   "metadata": {},
   "outputs": [],
   "source": [
    "#This creates a copy of the list.\n",
    "\n",
    "print(numbers[:])"
   ]
  },
  {
   "cell_type": "code",
   "execution_count": null,
   "metadata": {},
   "outputs": [],
   "source": [
    "#This creates a copy of the list.\n",
    "\n",
    "print(numbers[:])"
   ]
  },
  {
   "cell_type": "code",
   "execution_count": null,
   "metadata": {},
   "outputs": [],
   "source": [
    "#Note the difference betweeen the 2 following statements\n",
    "#the first returns a value of type integer.\n",
    "#the second returns a value of type list\n",
    "\n",
    "print(numbers[0])  #indexing\n",
    "print(numbers[:1]) #slicing"
   ]
  },
  {
   "cell_type": "code",
   "execution_count": null,
   "metadata": {},
   "outputs": [],
   "source": [
    "#slice the list to include the third to sixth values inclusively.\n"
   ]
  },
  {
   "cell_type": "code",
   "execution_count": null,
   "metadata": {},
   "outputs": [],
   "source": [
    "#slice the list to include the first two values.\n"
   ]
  },
  {
   "cell_type": "code",
   "execution_count": null,
   "metadata": {},
   "outputs": [],
   "source": [
    "#slice the list to include the last three values.\n"
   ]
  },
  {
   "cell_type": "code",
   "execution_count": null,
   "metadata": {},
   "outputs": [],
   "source": [
    "#slice the list to include only the last value of the list.\n"
   ]
  },
  {
   "cell_type": "markdown",
   "metadata": {},
   "source": [
    "### Advanced slicing (stepping)\n",
    "You can specify **three-element** slices in Python:\n",
    "   \n",
    "       my_list[a:b:c]\n",
    "\n",
    "which means take the elements from `a:b` (as before), **taking only every `c`th element**"
   ]
  },
  {
   "cell_type": "code",
   "execution_count": null,
   "metadata": {},
   "outputs": [],
   "source": [
    "print(numbers[2:7])"
   ]
  },
  {
   "cell_type": "code",
   "execution_count": null,
   "metadata": {},
   "outputs": [],
   "source": [
    "#does the same as above\n",
    "\n",
    "print(numbers[2:7:1])"
   ]
  },
  {
   "cell_type": "code",
   "execution_count": null,
   "metadata": {},
   "outputs": [],
   "source": [
    "# prints out every second element in the slice.\n",
    "print(numbers[2:7:2])"
   ]
  },
  {
   "cell_type": "code",
   "execution_count": null,
   "metadata": {},
   "outputs": [],
   "source": [
    "# prints out all the even indicies\n",
    "\n",
    "print(numbers[::2])"
   ]
  },
  {
   "cell_type": "code",
   "execution_count": null,
   "metadata": {},
   "outputs": [],
   "source": [
    "#prints out all the numbers in reverse.\n",
    "\n",
    "print(numbers[::-1])"
   ]
  },
  {
   "cell_type": "code",
   "execution_count": null,
   "metadata": {},
   "outputs": [],
   "source": [
    "# prints out a slice in reverse. \n",
    "# Note the start and end indices.\n",
    "\n",
    "print(numbers[6:2:-1])"
   ]
  },
  {
   "cell_type": "code",
   "execution_count": null,
   "metadata": {},
   "outputs": [],
   "source": [
    "#Same as above but uses negative indicing.\n",
    "\n",
    "print(numbers[-4:-8:-1])"
   ]
  },
  {
   "cell_type": "code",
   "execution_count": null,
   "metadata": {},
   "outputs": [],
   "source": [
    "#return the list of odd indicies values\n"
   ]
  },
  {
   "cell_type": "code",
   "execution_count": null,
   "metadata": {},
   "outputs": [],
   "source": [
    "#print out every third element starting with the third element,\n"
   ]
  },
  {
   "cell_type": "code",
   "execution_count": null,
   "metadata": {},
   "outputs": [],
   "source": [
    "#print every second element from the second to the eight element inclusively.\n"
   ]
  },
  {
   "cell_type": "code",
   "execution_count": null,
   "metadata": {},
   "outputs": [],
   "source": [
    "#same values as above but in reverse order.\n"
   ]
  },
  {
   "cell_type": "markdown",
   "metadata": {},
   "source": [
    "**Without using a loop**, using the following definition of **colours**, print out the following:\n",
    "1. The first element of  `colours`\n",
    "1. The last element of `colours`\n",
    "1. Every even element of `colours` (i.e. elements with even indices)\n",
    "1. Every odd element of `colours`\n",
    "1. The third to the sixth element of `colours`, inclusive \n",
    "1. The last five elements of colours\n",
    "1. Every third element of the first eight elements of `colours`, in reverse order (starting with the eighth element).\n"
   ]
  },
  {
   "cell_type": "code",
   "execution_count": null,
   "metadata": {},
   "outputs": [],
   "source": [
    "colours = [\"red\", \"black\", \"orange\", \"yellow\", \n",
    "           \"blue\", \"cyan\", \"green\", \"purple\", \"gray\", \"white\"]\n"
   ]
  },
  {
   "cell_type": "markdown",
   "metadata": {},
   "source": [
    "### What are strings?\n",
    "\n",
    "A string is a sequence of characters. A character is just a string of length 1. A string is a compound data type; and because it has an order, it is a **sequence** data type.\n",
    "\n",
    "    \"string\" = \"s\" \"t\" \"r\" \"i\" \"n\" \"g\"   \n",
    "\n",
    "Operations like indexing, slicing and length getting that work with lists work as well with strings. These are not special list operations, but operations which work on a wide range of sequence types."
   ]
  },
  {
   "cell_type": "code",
   "execution_count": null,
   "metadata": {},
   "outputs": [],
   "source": [
    "sentence = \"This is a sentence\""
   ]
  },
  {
   "cell_type": "code",
   "execution_count": null,
   "metadata": {},
   "outputs": [],
   "source": [
    "print(sentence[0])"
   ]
  },
  {
   "cell_type": "code",
   "execution_count": null,
   "metadata": {},
   "outputs": [],
   "source": [
    "print(sentence[-1])"
   ]
  },
  {
   "cell_type": "code",
   "execution_count": null,
   "metadata": {},
   "outputs": [],
   "source": [
    "print(sentence[-8:])"
   ]
  },
  {
   "cell_type": "code",
   "execution_count": null,
   "metadata": {},
   "outputs": [],
   "source": [
    "print(sentence[:5])"
   ]
  },
  {
   "cell_type": "code",
   "execution_count": null,
   "metadata": {},
   "outputs": [],
   "source": [
    "print(sentence[3:13])"
   ]
  },
  {
   "cell_type": "code",
   "execution_count": null,
   "metadata": {},
   "outputs": [],
   "source": [
    "print(sentence[::-1])"
   ]
  },
  {
   "cell_type": "code",
   "execution_count": null,
   "metadata": {},
   "outputs": [],
   "source": [
    "#Use slicing to print out the word sentence backwards.\n"
   ]
  },
  {
   "cell_type": "markdown",
   "metadata": {},
   "source": [
    "### List operators.\n",
    "For a complete list of list operators run the following code."
   ]
  },
  {
   "cell_type": "code",
   "execution_count": 2,
   "metadata": {},
   "outputs": [],
   "source": [
    "dir([])"
   ]
  },
  {
   "cell_type": "markdown",
   "metadata": {},
   "source": [
    "#### Assignment\n",
    "\n",
    "We can assign directly to list elements. This has an indexed list on the LHS and any value on the RHS\n",
    "\n",
    "    list[index] = value\n",
    "    \n",
    "    "
   ]
  },
  {
   "cell_type": "code",
   "execution_count": null,
   "metadata": {},
   "outputs": [],
   "source": [
    "l = [1,2,3]\n",
    "l[0] = 4\n",
    "print(l)"
   ]
  },
  {
   "cell_type": "markdown",
   "metadata": {},
   "source": [
    "This also works with slices, as long as the LHS and RHS have a\n",
    "matching number of elements.\n",
    "\n",
    "    mylist[a:b] = otherlist"
   ]
  },
  {
   "cell_type": "code",
   "execution_count": null,
   "metadata": {},
   "outputs": [],
   "source": [
    "# you can assign to slices -- as long as they have the same size on both\n",
    "# the left and right hand sides\n",
    "l[0:2] = [\"seven\", \"nine\"]\n",
    "print(l)"
   ]
  },
  {
   "cell_type": "code",
   "execution_count": null,
   "metadata": {},
   "outputs": [],
   "source": [
    "l1 = [1,2,3,4,5]\n",
    "l2 = [\"A\", \"B\", \"C\", \"D\", \"E\"]\n",
    "l1[2:4] = l2[1:3]\n",
    "print(l1)"
   ]
  },
  {
   "cell_type": "markdown",
   "metadata": {},
   "source": [
    "Unlike lists, strings can not be changed once created. So assignment to a string is not allowed."
   ]
  },
  {
   "cell_type": "code",
   "execution_count": null,
   "metadata": {},
   "outputs": [],
   "source": [
    "# lists can be changed.\n",
    "a = [1,2,3]\n",
    "print(\"a[0] = \",a[0])\n",
    "a[0]= 4\n",
    "print(\"a = \",a)\n",
    "\n",
    "#but strings can not be changed.\n",
    "b = \"String\"\n",
    "print(\"b[0] = \",b[0])\n",
    "b[0] = \"s\"\n",
    "print(\"b = \",b)"
   ]
  },
  {
   "cell_type": "markdown",
   "metadata": {},
   "source": [
    "#### Joining\n",
    "The `+` operator is **overloaded** for use with lists (or in fact any sequence). This means that using `+` on lists will join them together. Note that `+` does **not** add each elements of a lists to another; it joins two lists into a new one.\n",
    "\n",
    "Joining of sequences is called **concatenation** in computer science; the `+` operator is sometimes called the \"concatenation operator\" when used on lists."
   ]
  },
  {
   "cell_type": "code",
   "execution_count": 18,
   "metadata": {},
   "outputs": [
    {
     "name": "stdout",
     "output_type": "stream",
     "text": [
      "['earth', 'fire', 'water', 'wood', 'metal']\n"
     ]
    }
   ],
   "source": [
    "chinese_elements = ['earth', 'fire', 'water'] + [\"wood\", \"metal\"]\n",
    "print(chinese_elements)"
   ]
  },
  {
   "cell_type": "code",
   "execution_count": null,
   "metadata": {},
   "outputs": [],
   "source": [
    "a = [1, 2, 3]\n",
    "\n",
    "print(a + a + a)  # we can concatenate many lists"
   ]
  },
  {
   "cell_type": "markdown",
   "metadata": {},
   "source": [
    "#### Adding using append()\n",
    "As well as creating new lists, lists can be modified **in place**. **This is a major difference from types we have seen so far**. We can add new elements to a list with `.append()`"
   ]
  },
  {
   "cell_type": "code",
   "execution_count": null,
   "metadata": {},
   "outputs": [],
   "source": [
    "l = []\n",
    "l.append(1)\n",
    "l.append(2)\n",
    "l.append(3)\n",
    "print(l)"
   ]
  },
  {
   "cell_type": "markdown",
   "metadata": {},
   "source": [
    "This doesn't make a new list. It changes the elements of the existing list. This is a very important difference."
   ]
  },
  {
   "cell_type": "markdown",
   "metadata": {},
   "source": [
    "#####  Append is not +"
   ]
  },
  {
   "cell_type": "code",
   "execution_count": null,
   "metadata": {},
   "outputs": [],
   "source": [
    "# Concatenation + does not alter the original lists but creates a new list.\n",
    "\n",
    "a = [1,2]\n",
    "b = a\n",
    "a = a + [3]\n",
    "print(\"a: \",a)\n",
    "print(\"b: \",b)\n",
    "print()\n",
    "\n",
    "# append() alters the original list by appending to the end of it.\n",
    "\n",
    "c = [1,2]\n",
    "d = c\n",
    "c.append(3)\n",
    "print(\"c: \",c)\n",
    "print(\"d: \",d)\n",
    "print()\n",
    "\n",
    "# += does the concatenation in place so alters the original list.\n",
    "# unlike + it does not create a new list.\n",
    "\n",
    "e = [1,2]\n",
    "f = e\n",
    "e += [3]\n",
    "print(\"e: \",e)\n",
    "print(\"f: \",f)\n",
    "print()"
   ]
  },
  {
   "cell_type": "markdown",
   "metadata": {},
   "source": [
    "### Copying and references\n",
    "In Python, simple types like numbers and strings are **immutable** (they cannot be changed after they have been created)."
   ]
  },
  {
   "cell_type": "code",
   "execution_count": null,
   "metadata": {},
   "outputs": [],
   "source": [
    "# integers are immutable. Their value can not be changed.\n",
    "# Instead a new integer is assigned to the variable\n",
    "a = 32\n",
    "b = a\n",
    "a += 1\n",
    "print(\"a=\",a)\n",
    "print(\"b=\", b)\n",
    "print()\n",
    "\n",
    "# strings are immutable. Their value can not be changed.\n",
    "# Insted a new sting is created.\n",
    "\n",
    "c = \"hello\"\n",
    "d = c\n",
    "c += \" world\"\n",
    "print(\"c=\",c)\n",
    "print(\"d=\", d)"
   ]
  },
  {
   "cell_type": "markdown",
   "metadata": {},
   "source": [
    "### Mutable \n",
    "But lists are **mutable**; they can be changed after they have been created.\n",
    "The list itself lives off in some bit of memory -- variables just **point at the** list.  They are **references** to the list that has been created.\n",
    "\n",
    "If multiple variables point at one single list then making a change to the list will appear for every variable that refers to it!"
   ]
  },
  {
   "cell_type": "code",
   "execution_count": null,
   "metadata": {},
   "outputs": [],
   "source": [
    "#lists are mutable. Their value can be changed.\n",
    "#the original list is changed as are all variables referring to this list.\n",
    "e = [1,2,3]\n",
    "f = e\n",
    "e += [4,5]\n",
    "print(\"e=\",e)\n",
    "print(\"f=\", f)"
   ]
  },
  {
   "cell_type": "markdown",
   "metadata": {},
   "source": [
    "#### Copying\n",
    "If you want to work a list without affecting existing variables which refer to it, you need to make a **copy** of the list. \n",
    "\n",
    "**Handy note: slicing a list returns a new list with the same elements.**\n",
    "\n",
    "Thus, the syntax [:] (a slice taking the whole list) can be used to copy a list:"
   ]
  },
  {
   "cell_type": "code",
   "execution_count": null,
   "metadata": {},
   "outputs": [],
   "source": [
    "#creating a copy of the list means two separate lists with the same elements.\n",
    "#changing one will not affect the other.\n",
    "\n",
    "g = [1,2,3]\n",
    "h = g[:]\n",
    "g += [4,5]\n",
    "print(\"g=\",g)\n",
    "print(\"h=\", h)"
   ]
  },
  {
   "cell_type": "markdown",
   "metadata": {},
   "source": [
    "You can test two lists for **equality**, which tests if they have the same elements:"
   ]
  },
  {
   "cell_type": "markdown",
   "metadata": {},
   "source": [
    "But if you want to test if a list is a **copy** of another, you can use the `is` operator. This tests if two variables refer to the same value, not if their elements are equal. \n",
    "\n",
    "**Make sure you understand this difference!**"
   ]
  },
  {
   "cell_type": "code",
   "execution_count": null,
   "metadata": {},
   "outputs": [],
   "source": [
    "x = [1,2,3]\n",
    "y = x      # A *reference* to x\n",
    "z = x[:]   # A *copy* of x\n",
    "\n",
    "print(\"x==y\", x==y)\n",
    "print(\"x==z\", x==z)\n",
    "print(\"x is y\", x is y)\n",
    "print(\"x is z\", x is z)"
   ]
  },
  {
   "cell_type": "code",
   "execution_count": null,
   "metadata": {},
   "outputs": [],
   "source": [
    "# This means that if we change a, the value of b would change as well. \n",
    "# But has no effect on c, which is a separate list\n",
    "x.append(4)\n",
    "print(x)\n",
    "print(y) \n",
    "print(z)"
   ]
  },
  {
   "cell_type": "markdown",
   "metadata": {},
   "source": [
    "### Copy verus Deepcopy\n",
    "Copy() is a shallow copy. It makes a copy of the main list but all values in the list reference the same nested lists. This means if one of the values in the main list changes, the copy will not be affected. However if one of the values in the nested lists change so will the copy.\n",
    "\n",
    "Deepcopy() recursively makes copies of the main list and copies of **all** the nested lists. This means that deepcopy does not have any references in common with the original list. Therefore any changes made to the original list will not affect the deepcopy."
   ]
  },
  {
   "cell_type": "code",
   "execution_count": 5,
   "metadata": {},
   "outputs": [
    {
     "name": "stdout",
     "output_type": "stream",
     "text": [
      "num =  [[1, 2], [5, 6]]\n",
      "nCopy =  [[1, 2], [3, 4]]\n",
      "nDeepCopy =  [[1, 2], [3, 4]]\n",
      "\n",
      "num =  [[1, 5], [5, 6]]\n",
      "nCopy =  [[1, 5], [3, 4]]\n",
      "nDeepCopy =  [[1, 2], [3, 4]]\n"
     ]
    }
   ],
   "source": [
    "import copy\n",
    "num = [[1,2],[3,4]]\n",
    "\n",
    "# Shallow copy. Makes a copy of the outer list but values reference the same nested lists.\n",
    "nCopy = num.copy() \n",
    "\n",
    "#Deep copy. Recursively makes a copy of all lists, so no references the same.\n",
    "nDeepCopy = copy.deepcopy(num)\n",
    "\n",
    "# Changing one of the values in the main list does not affect shallow or deep copies.\n",
    "num[1] = [5,6]\n",
    "\n",
    "print(\"num = \",num)\n",
    "print(\"nCopy = \",nCopy)\n",
    "print(\"nDeepCopy = \",nDeepCopy)\n",
    "print()\n",
    "\n",
    "#But changing a value in one of the nested lists changes shallow copies but not deep copies\n",
    "num[0][1] = 5\n",
    "\n",
    "print(\"num = \",num)\n",
    "\n",
    "#Shallow copy is referencing the same nested list.\n",
    "print(\"nCopy = \",nCopy)\n",
    "\n",
    "#Deep copy is not affected as no references are the same.\n",
    "print(\"nDeepCopy = \",nDeepCopy)"
   ]
  },
  {
   "cell_type": "markdown",
   "metadata": {},
   "source": [
    "### Mutable vs immutable operations\n",
    "In Python, there is a simple rule:\n",
    "* If a function (e.g. `a.sort()`) changes a data structure **in place** (i.e. **mutates** it), it always returns `None`\n",
    "* If it does not change the original data structure, then it **creates an entirely new data structure** (e.g. `sorted(a)`), fills it with elements from the original list and returns the new data structure.\n",
    "* Operators like +, * etc. always return new lists, and don't modify lists in place.\n",
    "\n",
    "You should follow this convention in any code that you write!\n"
   ]
  },
  {
   "cell_type": "code",
   "execution_count": null,
   "metadata": {},
   "outputs": [],
   "source": [
    "#.sort() is a mutable operation. It changes the original list and all references to it.\n",
    "\n",
    "a = [5,3,8,1,2]\n",
    "b = a\n",
    "print(\"b before sort(): \",b)\n",
    "a.sort()\n",
    "print(\"a after sort(): \",a)\n",
    "print(\"b after sort(): \",b)"
   ]
  },
  {
   "cell_type": "code",
   "execution_count": null,
   "metadata": {},
   "outputs": [],
   "source": [
    "# sorted() is a immutable list. It does not change the original list.\n",
    "# Instead it creates a new list (which needs to be assigned to a variable)\n",
    "\n",
    "c = [5,3,8,1,2]\n",
    "d = c\n",
    "print(\"d before sorted(): \",d)\n",
    "e = sorted(c)\n",
    "print(\"c after sorted(): \",c)\n",
    "print(\"d after sorted(): \",d)\n",
    "print(\"e after sorted(): \",e)"
   ]
  },
  {
   "cell_type": "markdown",
   "metadata": {},
   "source": [
    "## Side effects of mutability\n",
    "This can have subtle side effects:"
   ]
  },
  {
   "cell_type": "code",
   "execution_count": null,
   "metadata": {},
   "outputs": [],
   "source": [
    "# x is the list of [0] repeated 10 times\n",
    "# it is accutally a reference to the same list 10 times.\n",
    "x = [[0]] * 10\n",
    "print(x)"
   ]
  },
  {
   "cell_type": "code",
   "execution_count": null,
   "metadata": {},
   "outputs": [],
   "source": [
    "y = x\n",
    "\n",
    "# this means to take the first element of the \n",
    "# first element of y and set it to 1\n",
    "y[0][0] = 1\n",
    "\n",
    "# what happens to x?\n",
    "print(x)\n",
    "\n",
    "# because every nested list is a reference to the same list.\n",
    "# changing the contents of one, changes the contents of all of them."
   ]
  },
  {
   "cell_type": "markdown",
   "metadata": {},
   "source": [
    "## Tuples\n",
    "Sometimes it is useful to have sequences which are **immutable**; they cannot change after creation. \n",
    "\n",
    "Python provides **tuples** to fill this role. The **literal syntax** is just like for lists, except that round brackets `(` and `)` are used:\n"
   ]
  },
  {
   "cell_type": "code",
   "execution_count": null,
   "metadata": {},
   "outputs": [],
   "source": [
    "a_tuple = (1,2,3) # this is a tuple (round brackets)\n",
    "a_list = [1,2,3]  # this is a list (square brackets)"
   ]
  },
  {
   "cell_type": "code",
   "execution_count": null,
   "metadata": {},
   "outputs": [],
   "source": [
    "a_list[0] = 5 # fine, lists can be mutated\n",
    "print(a_list)"
   ]
  },
  {
   "cell_type": "code",
   "execution_count": null,
   "metadata": {},
   "outputs": [],
   "source": [
    "a_tuple[0] = 5 # this will be an error, because tuples cannot be mutated"
   ]
  },
  {
   "cell_type": "markdown",
   "metadata": {},
   "source": [
    "You can create a new tuple from a list (or any other sequence type) using `tuple()`,\n",
    "and since tuples are sequence types themselves, you can convert tuples to lists using `list()`\n"
   ]
  },
  {
   "cell_type": "code",
   "execution_count": null,
   "metadata": {},
   "outputs": [],
   "source": [
    "a = [1,2,3]\n",
    "b = tuple(a)  # new tuple with same values as a\n",
    "c = list(b)   # new list with same values as b\n",
    "print(a,b,c)"
   ]
  },
  {
   "cell_type": "code",
   "execution_count": null,
   "metadata": {},
   "outputs": [],
   "source": [
    "b[0] = 10 # error, b is frozen"
   ]
  },
  {
   "cell_type": "code",
   "execution_count": null,
   "metadata": {},
   "outputs": [],
   "source": [
    "a[0] = 10 # fine\n",
    "print(a, b)"
   ]
  },
  {
   "cell_type": "markdown",
   "metadata": {},
   "source": [
    "The round brackets are there just to avoid ambiguity, and you can often leave them off:"
   ]
  },
  {
   "cell_type": "code",
   "execution_count": null,
   "metadata": {},
   "outputs": [],
   "source": [
    "a = 1,2,3\n",
    "print(a)\n",
    "\n",
    "# this doesn't generate a tuple\n",
    "# because commas mean \"separate arguments\" inside\n",
    "# a call. \n",
    "print(1,2,3)\n",
    "\n",
    "# we need the brackets to make it unambiguous that we want to print a tuple\n",
    "print((1,2,3))"
   ]
  },
  {
   "cell_type": "markdown",
   "metadata": {},
   "source": [
    "#### Unpacking\n",
    "This **unpacking** syntax, where we can write\n",
    "\n",
    "    a,b,c = (1,2,3)\n",
    "    \n",
    "or more generally:\n",
    "\n",
    "    var_1, var_2, ... = some_tuple\n",
    "        \n",
    "works for any sequence type. But there must be the same number of variables on the left hand side as there are in the sequence!"
   ]
  },
  {
   "cell_type": "code",
   "execution_count": null,
   "metadata": {},
   "outputs": [],
   "source": [
    "a, b = [500, 1000]\n",
    "print(a)\n",
    "print(b)"
   ]
  },
  {
   "cell_type": "code",
   "execution_count": null,
   "metadata": {},
   "outputs": [],
   "source": [
    "#error as number of variables does not equal number of elements.\n",
    "\n",
    "a, b = (1,2,3) \n",
    "print(a,b)"
   ]
  },
  {
   "cell_type": "code",
   "execution_count": null,
   "metadata": {},
   "outputs": [],
   "source": []
  },
  {
   "cell_type": "code",
   "execution_count": null,
   "metadata": {},
   "outputs": [],
   "source": []
  },
  {
   "cell_type": "code",
   "execution_count": null,
   "metadata": {},
   "outputs": [],
   "source": []
  },
  {
   "cell_type": "markdown",
   "metadata": {},
   "source": [
    "## Membership test\n",
    "We can see if an element is present in a sequence using the `in` operator. This returns a Boolean value which will be True if the value on the right is in the sequence on the left of `in`."
   ]
  },
  {
   "cell_type": "code",
   "execution_count": null,
   "metadata": {},
   "outputs": [],
   "source": [
    "print(\"earth\" in chinese_elements)\n",
    "print(\"helium\" in chinese_elements)"
   ]
  },
  {
   "cell_type": "code",
   "execution_count": 13,
   "metadata": {},
   "outputs": [
    {
     "name": "stdout",
     "output_type": "stream",
     "text": [
      "True\n"
     ]
    }
   ],
   "source": [
    "print(1 in [1,2,3]) #ok"
   ]
  },
  {
   "cell_type": "code",
   "execution_count": 14,
   "metadata": {},
   "outputs": [
    {
     "name": "stdout",
     "output_type": "stream",
     "text": [
      "False\n"
     ]
    }
   ],
   "source": [
    "# not true: it compares 1 to every element of the list.\n",
    "# the list has only one element [1,2,3] which is not equal to 1.\n",
    "\n",
    "print(1 in [[1,2,3]]) "
   ]
  },
  {
   "cell_type": "code",
   "execution_count": 19,
   "metadata": {},
   "outputs": [
    {
     "name": "stdout",
     "output_type": "stream",
     "text": [
      "True\n",
      "False\n"
     ]
    }
   ],
   "source": [
    "# we can also check to see if an element is not in a list\n",
    "print(\"air\" not in chinese_elements)\n",
    "print(\"earth\" not in chinese_elements)"
   ]
  },
  {
   "cell_type": "markdown",
   "metadata": {},
   "source": [
    "## Iterating\n",
    "One of the most common uses of a sequence data type is to do something to every element in order. For example, to sum all the numbers in a list, or to add an apostrophe to every string in a list.\n",
    "\n",
    "In Python, we use the `for` loop to iterate over lists\n",
    "\n",
    "    for element in my_list:\n",
    "        some_fn(element)\n",
    "        "
   ]
  },
  {
   "cell_type": "markdown",
   "metadata": {},
   "source": [
    "The `for` statement iterates over each element of the list (or other sequence)\n",
    "\n",
    "`element` is known as the loop variable.\n",
    "\n",
    "The first value of `element` is the first element in the list. \n",
    "\n",
    "Note that the `for` statement finish with a colon, and the following code is **indented** (spaced to the right). Every line of code that is indented is within the loop body. \n",
    "\n",
    "The `for` loop repeats the loop body as many times as there are elements in the list. Each time `element` gets the value of the next element of the list.\n",
    "\n",
    "It finishes when there are no more elements in the list. The indentation returns to the previous level before the for loop."
   ]
  },
  {
   "cell_type": "code",
   "execution_count": 29,
   "metadata": {},
   "outputs": [
    {
     "name": "stdout",
     "output_type": "stream",
     "text": [
      "This is before the for loop\n",
      "\n",
      "This is inside the for loop\n",
      "name has the value Sofiat\n",
      "I can use it in the loop, like this\n",
      "Hello Sofiat\n",
      "\n",
      "This is inside the for loop\n",
      "name has the value Tom\n",
      "I can use it in the loop, like this\n",
      "Hello Tom\n",
      "\n",
      "This is inside the for loop\n",
      "name has the value Fatma\n",
      "I can use it in the loop, like this\n",
      "Hello Fatma\n",
      "\n",
      "This is inside the for loop\n",
      "name has the value Ben\n",
      "I can use it in the loop, like this\n",
      "Hello Ben\n",
      "\n",
      "This is inside the for loop\n",
      "name has the value Fionnuala\n",
      "I can use it in the loop, like this\n",
      "Hello Fionnuala\n",
      "\n",
      "The for loop is finished.\n",
      "This is marked by the change in indentation\n"
     ]
    }
   ],
   "source": [
    "tutors = [\"Sofiat\",\"Tom\",\"Fatma\",\"Ben\",\"Fionnuala\"]\n",
    "\n",
    "print(\"This is before the for loop\")\n",
    "print()\n",
    "for name in tutors:\n",
    "    print (\"This is inside the for loop\")\n",
    "    print(\"name has the value\",name)\n",
    "    print(\"I can use it in the loop, like this\")\n",
    "    print(\"Hello\",name)\n",
    "    print()\n",
    "print(\"The for loop is finished.\")\n",
    "print(\"This is marked by the change in indentation\")\n"
   ]
  },
  {
   "cell_type": "code",
   "execution_count": 20,
   "metadata": {},
   "outputs": [
    {
     "name": "stdout",
     "output_type": "stream",
     "text": [
      "earth\n",
      "fire\n",
      "water\n",
      "wood\n",
      "metal\n"
     ]
    }
   ],
   "source": [
    "# simple use of for loop\n",
    "chinese_elements = ['earth', 'fire', 'water', 'wood', 'metal']\n",
    "\n",
    "for elt in chinese_elements:\n",
    "    print(elt)\n",
    "        \n"
   ]
  },
  {
   "cell_type": "code",
   "execution_count": 23,
   "metadata": {},
   "outputs": [
    {
     "name": "stdout",
     "output_type": "stream",
     "text": [
      "24\n"
     ]
    }
   ],
   "source": [
    "# add together all of the elements in a list\n",
    "numList = [5,2,3,3,6,5]\n",
    "total = 0\n",
    "for num in numList:\n",
    "    total += num\n",
    "\n",
    "\n",
    "\n",
    "print(total)"
   ]
  },
  {
   "cell_type": "code",
   "execution_count": 24,
   "metadata": {},
   "outputs": [
    {
     "name": "stdout",
     "output_type": "stream",
     "text": [
      "[25, 4, 9, 9, 36, 25]\n"
     ]
    }
   ],
   "source": [
    "## multiply each element of a list by a constant\n",
    "\n",
    "squList = []  # a shiny, new empty list\n",
    "for n in numList:\n",
    "    squList.append(n * n)  # add the transformed elements\n",
    "print(squList)"
   ]
  },
  {
   "cell_type": "markdown",
   "metadata": {},
   "source": [
    "#### Iterating over nested lists\n",
    "A matrix can be represented as a nested list in Python, each nested list representing a row in the matrix"
   ]
  },
  {
   "cell_type": "code",
   "execution_count": null,
   "metadata": {},
   "outputs": [],
   "source": [
    "#printing each element of the matrixA will print an individual row of the matrix\n",
    "#(this is also a list)\n",
    "\n",
    "matrixA = [[2,3,2,4],[1,1,1,6],[5,3,1,4]]\n",
    "\n",
    "for row in matrixA:\n",
    "    print(row)"
   ]
  },
  {
   "cell_type": "markdown",
   "metadata": {},
   "source": [
    "In order to print out every element of matrix we need to have nested for loops.\n",
    "The outer for loop will access each row of the matrix and the inner for loop with print out each element of a row."
   ]
  },
  {
   "cell_type": "code",
   "execution_count": null,
   "metadata": {},
   "outputs": [],
   "source": [
    "matrixA = [[2,3,2,4],[1,1,1,6],[5,3,1,4]]\n",
    "\n",
    "for row in matrixA:\n",
    "    for num in row:\n",
    "        print(num, end = ' ')\n",
    "    print()"
   ]
  },
  {
   "cell_type": "markdown",
   "metadata": {},
   "source": [
    "Write a program that takes the matrix given and creates a new matrix where each element is double the original value."
   ]
  },
  {
   "cell_type": "code",
   "execution_count": null,
   "metadata": {},
   "outputs": [],
   "source": [
    "matrixA = [[2,3,2,4],[1,1,1,6],[5,3,1,4]]\n",
    "matrix2 = []\n",
    "newRow = []\n"
   ]
  }
 ],
 "metadata": {
  "kernelspec": {
   "display_name": "Python 3",
   "language": "python",
   "name": "python3"
  },
  "language_info": {
   "codemirror_mode": {
    "name": "ipython",
    "version": 3
   },
   "file_extension": ".py",
   "mimetype": "text/x-python",
   "name": "python",
   "nbconvert_exporter": "python",
   "pygments_lexer": "ipython3",
   "version": "3.6.5"
  }
 },
 "nbformat": 4,
 "nbformat_minor": 2
}

